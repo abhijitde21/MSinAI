{
 "cells": [
  {
   "cell_type": "markdown",
   "id": "96531acb",
   "metadata": {},
   "source": [
    "Problem: Find the following limit:\n",
    "lim𝑥→7((2𝑥3−9𝑥2−7𝑥+35)/(𝑥−10))\n",
    " "
   ]
  },
  {
   "cell_type": "code",
   "execution_count": 4,
   "id": "239ca6de",
   "metadata": {},
   "outputs": [
    {
     "name": "stdout",
     "output_type": "stream",
     "text": [
      "-77\n",
      "-721/3 + log(49)/3 + exp(49)/3\n"
     ]
    }
   ],
   "source": [
    "from sympy import Symbol, limit\n",
    "from sympy import *\n",
    "\n",
    "x = Symbol('x')\n",
    "var1 = ((2*x**3 - 9*x**2 - 7*x + 35)/(x - 10))\n",
    "li1 = limit(var1, x, 7)\n",
    "print(li1)\n",
    "\n",
    "var2 = ((2*x**3 - log(x**2) + 5*x - exp(x**2))/(x - 10))\n",
    "li2 = limit(var2, x, 7)\n",
    "print(li2)"
   ]
  },
  {
   "cell_type": "markdown",
   "id": "b93456f0",
   "metadata": {},
   "source": [
    "Problem:\n",
    "An antibiotic is applied to a culture of bacteria. The number of bacteria cells remaining in the culture is given by\n",
    "𝑝(𝑡)=10500/(5𝑡2+4)\n",
    " \n",
    "(t≥0 where t represents elapsed time in seconds.)\n",
    "\n",
    "Determine the rate of change with respect to time: p'(t)=\n",
    "\n",
    "Determine the rate of change at t=5 : cells per second. (Round your answer to 4 decimals as needed.)"
   ]
  },
  {
   "cell_type": "code",
   "execution_count": 6,
   "id": "b5414947",
   "metadata": {},
   "outputs": [
    {
     "data": {
      "text/latex": [
       "$\\displaystyle - \\frac{105000 t}{\\left(5 t^{2} + 4\\right)^{2}}$"
      ],
      "text/plain": [
       "-105000*t/(5*t**2 + 4)**2"
      ]
     },
     "metadata": {},
     "output_type": "display_data"
    },
    {
     "name": "stdout",
     "output_type": "stream",
     "text": [
      "rate of change at t = 7 -11.854647505685392\n"
     ]
    }
   ],
   "source": [
    "from sympy import Symbol, diff, lambdify\n",
    "from sympy import *\n",
    "from IPython.display import display\n",
    "\n",
    "t = Symbol('t')\n",
    "p = (10500/(5*t**2 + 4))\n",
    "dif1 = p.diff(t)\n",
    "show_dif1 = lambdify(t, dif1)\n",
    "\n",
    "display(dif1)\n",
    "\n",
    "print('rate of change at t = 7',show_dif1(7))"
   ]
  },
  {
   "cell_type": "markdown",
   "id": "ab642443",
   "metadata": {},
   "source": [
    "Problem: The depth (in feet) of water at a dock changes with the rise and fall of tides. The depth is modeled by the following function where t is the number of hours after midnight.\n",
    "𝐷(𝑡)=10𝑠𝑖𝑛(π/3𝑡+5π/6)+3\n",
    " \n",
    "Find the rate at which the depth is changing at 2 p.m. Round your answer to 4 decimal places."
   ]
  },
  {
   "cell_type": "code",
   "execution_count": 13,
   "id": "c0fc3fce",
   "metadata": {},
   "outputs": [
    {
     "data": {
      "text/latex": [
       "$\\displaystyle - \\frac{10 \\pi \\sin{\\left(\\frac{\\pi t}{3} + \\frac{\\pi}{3} \\right)}}{3}$"
      ],
      "text/plain": [
       "-10*pi*sin(pi*t/3 + pi/3)/3"
      ]
     },
     "metadata": {},
     "output_type": "display_data"
    },
    {
     "name": "stdout",
     "output_type": "stream",
     "text": [
      "Rate at which the depth is changing at 2 p.m =  -0.0\n"
     ]
    }
   ],
   "source": [
    "from sympy import Symbol, diff, lambdify, log, sin, pi\n",
    "from sympy import *\n",
    "from IPython.display import display\n",
    "\n",
    "t = Symbol('t')\n",
    "d = (10*sin(((pi*t)/3) + ((pi*5)/6)) + 3)\n",
    "dif2 = d.diff(t)\n",
    "show_dif2 = lambdify(t, dif2)\n",
    "\n",
    "display(dif2)\n",
    "\n",
    "print('Rate at which the depth is changing at 2 p.m = ', round(show_dif2(2), 4))"
   ]
  },
  {
   "cell_type": "markdown",
   "id": "114094f6",
   "metadata": {},
   "source": [
    "Automation: Derivative"
   ]
  },
  {
   "cell_type": "code",
   "execution_count": 20,
   "id": "ee0d69ea",
   "metadata": {},
   "outputs": [],
   "source": [
    "import tkinter as tk\n",
    "from tkinter import ttk\n",
    "import pandas as pd\n",
    "import re\n",
    "from sympy import *\n",
    "from sympy.plotting import (plot, plot_parametric)\n",
    "x = symbols('x', real = True)"
   ]
  },
  {
   "cell_type": "code",
   "execution_count": 33,
   "id": "2596b6e9",
   "metadata": {},
   "outputs": [],
   "source": [
    "win = tk.Tk()\n",
    "win.title('Automation Derivative')\n",
    "\n",
    "Name = ttk.Label(win, text = 'Enter the equation')\n",
    "Name.grid(row = 0, column = 0, sticky = tk.W)\n",
    "\n",
    "Name_var = tk.StringVar()\n",
    "Name_entrybox = ttk.Entry(win, width = 24, textvariable = Name_var)\n",
    "Name_entrybox.grid(row = 0, column = 1)\n",
    "\n",
    "def D1():\n",
    "    global DF1\n",
    "    user = Name_var.get()\n",
    "    DF1 = diff(user)\n",
    "    Confirm_entrybox = ttk.Entry(win, width = 30)\n",
    "    Confirm_entrybox.grid(row = 1, column = 3)\n",
    "    Confirm_entrybox.insert(1, str(DF1))\n",
    "    \n",
    "Import_data_button = ttk.Button(win, text = 'Derivative 1', command = D1)\n",
    "Import_data_button.grid(row = 1, column = 1)\n",
    "\n",
    "def D2():\n",
    "    global DF2\n",
    "    DF2 = diff(DF1)\n",
    "    Confirm_entrybox = ttk.Entry(win, width = 30)\n",
    "    Confirm_entrybox.grid(row = 2, column = 3)\n",
    "    Confirm_entrybox.insert(1, str(DF2))\n",
    "    \n",
    "Import_data_button = ttk.Button(win, text = 'Derivative 2', command = D2)\n",
    "Import_data_button.grid(row = 2, column = 1)\n",
    "\n",
    "def D3():\n",
    "    global DF3\n",
    "    DF3 = diff(DF2)\n",
    "    Confirm_entrybox = ttk.Entry(win, width = 30)\n",
    "    Confirm_entrybox.grid(row = 3, column = 3)\n",
    "    Confirm_entrybox.insert(1, str(DF3))\n",
    "    \n",
    "Import_data_button = ttk.Button(win, text = 'Derivative 3', command = D3)\n",
    "Import_data_button.grid(row = 3, column = 1)\n",
    "\n",
    "win.mainloop()"
   ]
  },
  {
   "cell_type": "code",
   "execution_count": null,
   "id": "428da5c9",
   "metadata": {},
   "outputs": [],
   "source": []
  }
 ],
 "metadata": {
  "kernelspec": {
   "display_name": "Python 3 (ipykernel)",
   "language": "python",
   "name": "python3"
  },
  "language_info": {
   "codemirror_mode": {
    "name": "ipython",
    "version": 3
   },
   "file_extension": ".py",
   "mimetype": "text/x-python",
   "name": "python",
   "nbconvert_exporter": "python",
   "pygments_lexer": "ipython3",
   "version": "3.9.12"
  }
 },
 "nbformat": 4,
 "nbformat_minor": 5
}
