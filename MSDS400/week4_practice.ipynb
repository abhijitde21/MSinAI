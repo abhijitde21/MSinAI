{
 "cells": [
  {
   "cell_type": "code",
   "execution_count": 7,
   "id": "beac5bb5",
   "metadata": {},
   "outputs": [],
   "source": [
    "U = {1, 2, 3, 4, 5, 6, 7, 8, 9, 10, 11}\n",
    "A = {1, 2, 4, 5, 7}\n",
    "B = {2, 4, 5, 7, 9, 11}"
   ]
  },
  {
   "cell_type": "code",
   "execution_count": 8,
   "id": "e8a7b43f",
   "metadata": {},
   "outputs": [
    {
     "name": "stdout",
     "output_type": "stream",
     "text": [
      "A union B {1, 2, 4, 5, 7, 9, 11}\n"
     ]
    }
   ],
   "source": [
    "Uab = A | B\n",
    "print(\"A union B\",Uab)"
   ]
  },
  {
   "cell_type": "code",
   "execution_count": 9,
   "id": "77a8ff6a",
   "metadata": {},
   "outputs": [
    {
     "name": "stdout",
     "output_type": "stream",
     "text": [
      "A intersection B {2, 4, 5, 7}\n"
     ]
    }
   ],
   "source": [
    "ab = A & B\n",
    "print(\"A intersection B\",ab)"
   ]
  },
  {
   "cell_type": "code",
   "execution_count": 15,
   "id": "3e33e1df",
   "metadata": {},
   "outputs": [
    {
     "name": "stdout",
     "output_type": "stream",
     "text": [
      "U minus A {3, 6, 8, 9, 10, 11}\n",
      "U minus B {1, 3, 6, 8, 10}\n"
     ]
    }
   ],
   "source": [
    "ac = U - A\n",
    "bc = U - B\n",
    "print(\"U minus A\",ac)\n",
    "print(\"U minus B\",bc)"
   ]
  },
  {
   "cell_type": "code",
   "execution_count": 19,
   "id": "368ded9d",
   "metadata": {},
   "outputs": [
    {
     "name": "stdout",
     "output_type": "stream",
     "text": [
      "difference of A and B 1st method {1, 9, 11}\n"
     ]
    }
   ],
   "source": [
    "nab = A ^ B\n",
    "print(\"difference of A and B 1st method\",nab)"
   ]
  },
  {
   "cell_type": "code",
   "execution_count": 20,
   "id": "3053f470",
   "metadata": {},
   "outputs": [
    {
     "name": "stdout",
     "output_type": "stream",
     "text": [
      "difference of A and B 2nd method {1, 11, 9}\n"
     ]
    }
   ],
   "source": [
    "dab = (A | B) - (A & B)\n",
    "print(\"difference of A and B 2nd method\",dab)"
   ]
  },
  {
   "cell_type": "code",
   "execution_count": 21,
   "id": "2f5dbd85",
   "metadata": {},
   "outputs": [
    {
     "name": "stdout",
     "output_type": "stream",
     "text": [
      "union to generate same set as U {1, 2, 3, 4, 5, 6, 7, 8, 9, 10, 11}\n"
     ]
    }
   ],
   "source": [
    "u = ac | bc | ab\n",
    "print(\"union to generate same set as U\",u)"
   ]
  },
  {
   "cell_type": "code",
   "execution_count": 22,
   "id": "715163d5",
   "metadata": {},
   "outputs": [
    {
     "name": "stdout",
     "output_type": "stream",
     "text": [
      "new version of U {1, 2, 3, 4, 5, 6, 7, 8, 9, 10, 11, 12, 13, 14}\n"
     ]
    }
   ],
   "source": [
    "add = {12, 13, 14}\n",
    "U = U | add\n",
    "print(\"new version of U\",U)"
   ]
  },
  {
   "cell_type": "code",
   "execution_count": 23,
   "id": "468c4978",
   "metadata": {},
   "outputs": [
    {
     "name": "stdout",
     "output_type": "stream",
     "text": [
      "old version of U {1, 2, 3, 4, 5, 6, 7, 8, 9, 10, 11}\n"
     ]
    }
   ],
   "source": [
    "addc = U - add\n",
    "U = U & addc\n",
    "print(\"old version of U\",U)"
   ]
  },
  {
   "cell_type": "code",
   "execution_count": 24,
   "id": "676a33c6",
   "metadata": {},
   "outputs": [
    {
     "name": "stdout",
     "output_type": "stream",
     "text": [
      "[1, 2, 3, 4, 5, 6, 7, 8, 9, 10, 11]\n"
     ]
    }
   ],
   "source": [
    "U = list(U)\n",
    "print(U)"
   ]
  },
  {
   "cell_type": "code",
   "execution_count": 25,
   "id": "8324f969",
   "metadata": {},
   "outputs": [
    {
     "name": "stdout",
     "output_type": "stream",
     "text": [
      "The universe U is {1, 2, 3, 4, 5, 6, 7, 8, 9, 10, 11, 12, 13, 14, 15, 16, 17, 18, 19, 20, 21, 22, 23, 24, 25, 26}\n",
      "A is {1, 2, 3, 4, 5, 6, 7, 8, 9, 10, 11, 12, 13}\n",
      "B is {14, 15, 16, 17, 18, 19, 20, 21, 22, 23, 24, 25, 26}\n",
      "C is {8, 9, 10, 11, 12, 13, 14, 15, 16, 17, 18, 19, 20}\n"
     ]
    }
   ],
   "source": [
    "U = range(1, 27)\n",
    "A = U[0:13]\n",
    "B = U[13:]\n",
    "C = U[7:20]\n",
    "\n",
    "A = set(A)\n",
    "B = set(B)\n",
    "C = set(C)\n",
    "U = set(U)\n",
    "print('The universe U is', U)\n",
    "\n",
    "print('A is', A)\n",
    "print('B is', B)\n",
    "print('C is', C)"
   ]
  },
  {
   "cell_type": "code",
   "execution_count": 26,
   "id": "ad5b8363",
   "metadata": {},
   "outputs": [
    {
     "name": "stdout",
     "output_type": "stream",
     "text": [
      "Probability of null intersection  0.0\n"
     ]
    }
   ],
   "source": [
    "T = float(len(U))\n",
    "\n",
    "Null = A & B  # Demonstrate the null intersection and probability.\n",
    "print('Probability of null intersection ', round((len(Null)/T), 3))"
   ]
  },
  {
   "cell_type": "code",
   "execution_count": 27,
   "id": "62db26f5",
   "metadata": {},
   "outputs": [
    {
     "name": "stdout",
     "output_type": "stream",
     "text": [
      "Intersection of A and C is  {8, 9, 10, 11, 12, 13}\n",
      "Union of A and C  {1, 2, 3, 4, 5, 6, 7, 8, 9, 10, 11, 12, 13, 14, 15, 16, 17, 18, 19, 20}\n",
      "Probability of A union C =  0.769\n",
      "Result of Union Rule Summation = (0.7692307692307693, 3)\n"
     ]
    }
   ],
   "source": [
    "print('Intersection of A and C is ', (A & C))  # Demonstrate the Union Rule for Probability.\n",
    "print('Union of A and C ', (A | C))\n",
    "\n",
    "P = (len(A) + len(C) - len(A & C))\n",
    "print('Probability of A union C = ', round((len(A | C)/T), 3))\n",
    "print('Result of Union Rule Summation =', ((P/T), 3))"
   ]
  },
  {
   "cell_type": "code",
   "execution_count": 28,
   "id": "b0b03f99",
   "metadata": {},
   "outputs": [
    {
     "name": "stdout",
     "output_type": "stream",
     "text": [
      "Complement of C is {1, 2, 3, 4, 5, 6, 7, 21, 22, 23, 24, 25, 26}\n",
      "Odds of C are 1.0\n"
     ]
    }
   ],
   "source": [
    "# Demonstrate the calculation of Odds using the complement rule.\n",
    "print('Complement of C is', (U-C))\n",
    "print('Odds of C are', round((len(C)/float(len(U-C))), 3))"
   ]
  },
  {
   "cell_type": "code",
   "execution_count": 29,
   "id": "5ad66a6d",
   "metadata": {},
   "outputs": [
    {
     "name": "stdout",
     "output_type": "stream",
     "text": [
      "Complement of A intersection C is {1, 2, 3, 4, 5, 6, 7, 14, 15, 16, 17, 18, 19, 20, 21, 22, 23, 24, 25, 26}\n",
      "Odds of A intersection C are 0.3\n"
     ]
    }
   ],
   "source": [
    "print('Complement of A intersection C is', U-(A & C))\n",
    "P = (len(A & C)/float(len(U-(A & C))))\n",
    "print('Odds of A intersection C are', round(P, 3))"
   ]
  },
  {
   "cell_type": "code",
   "execution_count": 30,
   "id": "bc87ed4c",
   "metadata": {},
   "outputs": [
    {
     "name": "stdout",
     "output_type": "stream",
     "text": [
      "conditional probability of A given C 0.462\n"
     ]
    }
   ],
   "source": [
    "p = round(len(A & C)/float(len(C)),3)\n",
    "print(\"conditional probability of A given C\",p)"
   ]
  },
  {
   "cell_type": "code",
   "execution_count": 32,
   "id": "180f80dd",
   "metadata": {},
   "outputs": [
    {
     "name": "stdout",
     "output_type": "stream",
     "text": [
      "probability of A and C 0.231\n",
      "probability of C 0.5\n"
     ]
    }
   ],
   "source": [
    "q = round(len(A & C)/T,3)\n",
    "print(\"probability of A and C\",q)\n",
    "r = round(len(C)/T,3)\n",
    "print(\"probability of C\",r)"
   ]
  },
  {
   "cell_type": "code",
   "execution_count": 33,
   "id": "b25bf9c5",
   "metadata": {},
   "outputs": [
    {
     "name": "stdout",
     "output_type": "stream",
     "text": [
      "probability of A and C using mutiplication 0.231\n"
     ]
    }
   ],
   "source": [
    "s = p * r\n",
    "print(\"probability of A and C using mutiplication\",s)"
   ]
  },
  {
   "cell_type": "code",
   "execution_count": 43,
   "id": "b52ad4f3",
   "metadata": {},
   "outputs": [
    {
     "name": "stdout",
     "output_type": "stream",
     "text": [
      "720\n",
      "30\n",
      "15\n"
     ]
    }
   ],
   "source": [
    "def factorial(n):\n",
    "    if n == 0:\n",
    "        return 1\n",
    "    else:\n",
    "        return n*factorial(n-1)\n",
    "\n",
    "print(factorial(6))\n",
    "\n",
    "def perm(n, k):\n",
    "    if n == 0:\n",
    "        return 1\n",
    "    if k > n:\n",
    "        return -1\n",
    "    else:\n",
    "        return int(factorial(n)/factorial(n - k))\n",
    "    \n",
    "print(perm(6,2))\n",
    "\n",
    "def comb(n, k):\n",
    "    if n == 0:\n",
    "        return 1\n",
    "    if k > n:\n",
    "        return -1\n",
    "    else:\n",
    "        return int(factorial(n)/(factorial(n - k)*factorial(k)))    \n",
    "                \n",
    "print(comb(6,2))"
   ]
  },
  {
   "cell_type": "code",
   "execution_count": 46,
   "id": "47ff3f1a",
   "metadata": {},
   "outputs": [
    {
     "name": "stdout",
     "output_type": "stream",
     "text": [
      "What number should we get the factorial for? 6\n",
      "Factorial of 6 is equal to 720\n"
     ]
    }
   ],
   "source": [
    "inp1 = input(\"What number should we get the factorial for? \")\n",
    "int_inp1 = int(inp1)\n",
    "\n",
    "if int_inp1 > 0:\n",
    "    fact_of_inp = factorial(int_inp1)\n",
    "    print(f'Factorial of {int_inp1} is equal to {fact_of_inp}')\n",
    "else:\n",
    "    print('No calculation.')"
   ]
  },
  {
   "cell_type": "code",
   "execution_count": null,
   "id": "97dc5d72",
   "metadata": {},
   "outputs": [],
   "source": []
  }
 ],
 "metadata": {
  "kernelspec": {
   "display_name": "Python 3 (ipykernel)",
   "language": "python",
   "name": "python3"
  },
  "language_info": {
   "codemirror_mode": {
    "name": "ipython",
    "version": 3
   },
   "file_extension": ".py",
   "mimetype": "text/x-python",
   "name": "python",
   "nbconvert_exporter": "python",
   "pygments_lexer": "ipython3",
   "version": "3.9.12"
  }
 },
 "nbformat": 4,
 "nbformat_minor": 5
}
