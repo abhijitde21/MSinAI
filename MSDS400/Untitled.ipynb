{
 "cells": [
  {
   "cell_type": "code",
   "execution_count": 19,
   "id": "0b3350ad",
   "metadata": {},
   "outputs": [
    {
     "name": "stdout",
     "output_type": "stream",
     "text": [
      "1.0 2.0 3.0 2.0\n",
      "0\n",
      "-3.7007434154172e-17\n",
      "[[1.0, 2.0, 3.0], [2.0, 4.0, 5.0], [3.0, 7.0, 8.0]]\n",
      "[[1.0, 1.0, 3.0], [3.0, 2.0, 5.0], [6.0, 3.0, 8.0]]\n",
      "[[1.0, 2.0, 1.0], [3.0, 4.0, 2.0], [6.0, 7.0, 3.0]]\n",
      "1\n",
      "-2\n",
      "1\n",
      "no solution\n",
      "None\n"
     ]
    }
   ],
   "source": [
    "import numpy as np\n",
    "\n",
    "def cramer(lhs,rhs):\n",
    "    d = round(np.linalg.det(lhs))\n",
    "    print(d)\n",
    "    m = [[lhs[0][0],lhs[0][1],lhs[0][2]],\n",
    "         [lhs[1][0],lhs[1][1],lhs[1][2]],\n",
    "         [lhs[2][0],lhs[2][1],lhs[2][2]]]\n",
    "    print(np.linalg.det(m))\n",
    "    \n",
    "    m1 = [[rhs[0],lhs[0][1],lhs[0][2]],\n",
    "          [rhs[1],lhs[1][1],lhs[1][2]],\n",
    "          [rhs[2],lhs[2][1],lhs[2][2]]] \n",
    "    print(m1)\n",
    "          \n",
    "    m2 = [[lhs[0][0],rhs[0],lhs[0][2]],\n",
    "          [lhs[1][0],rhs[1],lhs[1][2]],\n",
    "          [lhs[2][0],rhs[2],lhs[2][2]]] \n",
    "    print(m2)\n",
    "          \n",
    "    m3 = [[lhs[0][0],lhs[0][1],rhs[0]],\n",
    "          [lhs[1][0],lhs[1][1],rhs[1]],\n",
    "          [lhs[2][0],lhs[2][1],rhs[2]]] \n",
    "    print(m3)\n",
    "\n",
    "    d1 = round(np.linalg.det(m1))\n",
    "    print(d1)\n",
    "    d2 = round(np.linalg.det(m2))\n",
    "    print(d2)\n",
    "    d3 = round(np.linalg.det(m3))\n",
    "    print(d3)\n",
    "           \n",
    "    if d!= 0:\n",
    "           x = d1/d\n",
    "           y = d2/d\n",
    "           z = d3/d\n",
    "           print('x: ',round(x),'y: ',round(y),'z: ',round(z))\n",
    "    else:\n",
    "        if (d1!=0 or d2!=0 or d3!=0):\n",
    "            print('no solution')\n",
    "        elif (d1==0 and d2==0 and d3==0):\n",
    "            print('infinite solution')\n",
    "           \n",
    "lhs = np.array([[1.0, 2.0, 3.0], [3.0, 4.0, 5.0], [6.0, 7.0, 8.0]])\n",
    "rhs = np.array([1.0, 2.0, 3.0])\n",
    "\n",
    "#lhs = np.array([[-4.0, -6.0, 5.0], [-2.0, 1.0, 6.0], [-5.0, 4.0, 3.0]])\n",
    "#rhs = np.array([3.0, 31.0, 22.0])\n",
    "\n",
    "print(rhs[0],rhs[1],rhs[2],lhs[0][1])\n",
    "           \n",
    "print(cramer(lhs,rhs))"
   ]
  },
  {
   "cell_type": "code",
   "execution_count": null,
   "id": "d325172c",
   "metadata": {},
   "outputs": [],
   "source": []
  }
 ],
 "metadata": {
  "kernelspec": {
   "display_name": "Python 3 (ipykernel)",
   "language": "python",
   "name": "python3"
  },
  "language_info": {
   "codemirror_mode": {
    "name": "ipython",
    "version": 3
   },
   "file_extension": ".py",
   "mimetype": "text/x-python",
   "name": "python",
   "nbconvert_exporter": "python",
   "pygments_lexer": "ipython3",
   "version": "3.9.12"
  }
 },
 "nbformat": 4,
 "nbformat_minor": 5
}
