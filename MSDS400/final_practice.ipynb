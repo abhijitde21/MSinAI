{
 "cells": [
  {
   "cell_type": "code",
   "execution_count": 5,
   "id": "39af24bd",
   "metadata": {},
   "outputs": [
    {
     "name": "stdout",
     "output_type": "stream",
     "text": [
      "Average Rate of Change =  -0.1228\n",
      "Vertical Intercept =  59.5242\n",
      "Linear function Eq(y, 59.5242 - 0.1228*x)\n",
      "correlation coefficient =  -0.9057\n",
      "Horspower at 25 millage 281\n"
     ]
    }
   ],
   "source": [
    "from scipy import stats\n",
    "import sympy as sym\n",
    "\n",
    "#problem a\n",
    "x = [159,251,340,350,390,191,219]\n",
    "y = [33.6,28.7,14.4,16.7,11.6,35.6,42.8]\n",
    "\n",
    "slope, intercept, r_value, p_value, std_err = stats.linregress(x,y)\n",
    "\n",
    "print(\"Average Rate of Change = \", round(slope, 4))\n",
    "print(\"Vertical Intercept = \", round(intercept, 4))\n",
    "\n",
    "\n",
    "#problem b\n",
    "sym.init_printing()\n",
    "x,y = sym.symbols('x,y')\n",
    "f = sym.Eq(y,round(slope,4)*x+round(intercept,4))\n",
    "print(\"Linear function\",f)\n",
    "print(\"correlation coefficient = \", round(r_value, 4))\n",
    "\n",
    "milage_25 = (59.5242 - 25)/(0.1228)\n",
    "print('Horspower at 25 millage', round(milage_25))"
   ]
  },
  {
   "cell_type": "code",
   "execution_count": 8,
   "id": "ebf98699",
   "metadata": {},
   "outputs": [
    {
     "name": "stdout",
     "output_type": "stream",
     "text": [
      "{x: 13500.0000000000, y: 13500.0000000000, z: 12500.0000000000}\n",
      "13500.0000000000\n",
      "13500.0000000000\n",
      "12500.0000000000\n"
     ]
    }
   ],
   "source": [
    "import sympy as sym\n",
    "\n",
    "x,y,z = sym.symbols('x,y,z')\n",
    "\n",
    "solns = sym.solve([\n",
    "    1*x + 1*y + 1*z - 39500, \n",
    "    0.07*x + 0.08*y + 0.09*z - 3150,\n",
    "    0*x + 1*y - 1*z - 1000],\n",
    "    [x, y, z])\n",
    "\n",
    "print(solns)\n",
    "\n",
    "print(f'{solns[x]}')\n",
    "print(f'{solns[y]}')\n",
    "print(f'{solns[z]}')"
   ]
  },
  {
   "cell_type": "code",
   "execution_count": 10,
   "id": "cc018b19",
   "metadata": {},
   "outputs": [
    {
     "name": "stdout",
     "output_type": "stream",
     "text": [
      "Solution for the Linear Programming maximize problem\n",
      "No of x1:  52.0\n",
      "No of x2:  48.0\n",
      "Maximum:  3.412\n"
     ]
    },
    {
     "data": {
      "text/plain": [
       "'Optimal'"
      ]
     },
     "execution_count": 10,
     "metadata": {},
     "output_type": "execute_result"
    }
   ],
   "source": [
    "# import pulp\n",
    "from pulp import LpVariable, LpProblem, LpMaximize, LpStatus, value, LpMinimize\n",
    "\n",
    "# declaration of variables\n",
    "x1 = LpVariable(\"x1\", 0, None) # x1>=0\n",
    "x2 = LpVariable(\"x2\", 0, None) # x2>=0\n",
    "\n",
    "# problem defination\n",
    "prob = LpProblem(\"problem\", LpMaximize)\n",
    "\n",
    "# constraints\n",
    "#prob += x1 + x2 <= 5\n",
    "#prob += 3*x1 + 2*x2 <= 12\n",
    "prob += 2.1*x1 + 0.7*x2 <= 145\n",
    "prob += 1*x1 + 0*x2 <= 52\n",
    "prob += 0*x1 + 1*x2 <= 100\n",
    "prob += 1*x1 + 1*x2 <= 100\n",
    "\n",
    "# declaration of objective function\n",
    "#prob += 6*x1 + 5*x2\n",
    "prob += 0.037*x1 + 0.031*x2\n",
    "\n",
    "# problem solution\n",
    "status = prob.solve()\n",
    "LpStatus[status]\n",
    "print(\"Solution for the Linear Programming maximize problem\")\n",
    "print('No of x1: ',value(x1))\n",
    "print('No of x2: ',value(x2))\n",
    "print('Maximum: ',value(prob.objective))\n",
    "LpStatus[status]"
   ]
  },
  {
   "cell_type": "code",
   "execution_count": 11,
   "id": "05c749bf",
   "metadata": {},
   "outputs": [
    {
     "data": {
      "image/png": "[encoded data removed]",
      "text/latex": [
       "$\\displaystyle - 161.6 e^{- 0.32 x}$"
      ],
      "text/plain": [
       "        -0.32⋅x\n",
       "-161.6⋅ℯ       "
      ]
     },
     "metadata": {},
     "output_type": "display_data"
    },
    {
     "name": "stdout",
     "output_type": "stream",
     "text": [
      "rate of change at t = 4 -44.93\n",
      "rate of change at t = 7 -17.2\n",
      "rate of change at t = 11 -4.78\n"
     ]
    }
   ],
   "source": [
    "from sympy import Symbol, diff, lambdify, exp\n",
    "from sympy import *\n",
    "from IPython.display import display\n",
    "\n",
    "x = Symbol('x')\n",
    "p = (505*exp(-0.32*x))\n",
    "dif1 = p.diff(x)\n",
    "show_dif1 = lambdify(x, dif1)\n",
    "\n",
    "display(dif1)\n",
    "\n",
    "print('rate of change at t = 4',round(show_dif1(4),2))\n",
    "print('rate of change at t = 7',round(show_dif1(7),2))\n",
    "print('rate of change at t = 11',round(show_dif1(11),2))"
   ]
  },
  {
   "cell_type": "code",
   "execution_count": 14,
   "id": "4c461b00",
   "metadata": {},
   "outputs": [
    {
     "name": "stdout",
     "output_type": "stream",
     "text": [
      "1/2 - (x**2 + 36)/(4*x**2)\n",
      "-1/(2*x) + (x**2 + 36)/(2*x**3)\n",
      "[-6, 6]\n",
      "-3\n",
      "3\n",
      "9.25\n",
      "3.0\n",
      "3.75\n"
     ]
    }
   ],
   "source": [
    "import numpy as np\n",
    "from sympy import *\n",
    "\n",
    "%matplotlib inline\n",
    "\n",
    "x = Symbol('x')\n",
    "\n",
    "# - Suppose the eqn is f(x) = x**3 - 9*x**2 +15*x -7\n",
    "y = (x**2+36)/(4*x)\n",
    " \n",
    "\n",
    "# the first derivative\n",
    "yfirst = y.diff(x)\n",
    "print(yfirst)\n",
    "\n",
    "# the second derivative\n",
    "ysecond = yfirst.diff(x)\n",
    "print(ysecond)\n",
    "\n",
    "#critical points\n",
    "critical_points = solve(yfirst,x)\n",
    "print(critical_points)\n",
    "\n",
    "def y_value(x):\n",
    "    return (x**2+36)/(4*x)\n",
    "\n",
    "for i in critical_points:\n",
    "    print(y_value(i))\n",
    "\n",
    "# x can not be -6 \n",
    "print(y_value(1))\n",
    "print(y_value(6))\n",
    "print(y_value(12))"
   ]
  },
  {
   "cell_type": "code",
   "execution_count": 21,
   "id": "328115a6",
   "metadata": {},
   "outputs": [
    {
     "name": "stdout",
     "output_type": "stream",
     "text": [
      "277\n"
     ]
    }
   ],
   "source": [
    "import numpy as np\n",
    "import sympy as sym\n",
    "\n",
    "def f(x):\n",
    "    return 40.1 + 3.3*x - 0.895*x**2 \n",
    "\n",
    "x = sym.Symbol('x')\n",
    "int1 = sym.integrate(f(x),(x, 0, 9))\n",
    "print(round(int1))"
   ]
  },
  {
   "cell_type": "code",
   "execution_count": 26,
   "id": "36f1c526",
   "metadata": {},
   "outputs": [
    {
     "name": "stdout",
     "output_type": "stream",
     "text": [
      "results: {(3, 5, 0)}\n",
      "sol:  (3, 5, 0)\n",
      "Max value of x is 3.00000000000000\n",
      "Max value of y is 5.00000000000000\n",
      "Max profit is of (3.00000000000000, 5.00000000000000) is 3400.00000000000\n"
     ]
    }
   ],
   "source": [
    "from sympy import symbols, nonlinsolve\n",
    "\n",
    "x, y, l = symbols('x, y, l', real = True)\n",
    "\n",
    "f_xy = - 1*x**2 - 1*y**2 + 6*x + 10*y\n",
    "g_xy = x + y - 8\n",
    "\n",
    "f_xyl = f_xy - l *g_xy\n",
    "f_xyl_x = f_xyl.diff(x)\n",
    "f_xyl_y = f_xyl.diff(y)\n",
    "f_xyl_l = f_xyl.diff(l)\n",
    "\n",
    "results = nonlinsolve([f_xyl_x, f_xyl_y, f_xyl_l], [x, y, l])\n",
    "print('results:', results)\n",
    "\n",
    "def f_xyl_value(x,y):\n",
    "    return - 1*x**2 - 1*y**2 + 6*x + 10*y\n",
    "\n",
    "for sol in list(results):\n",
    "    print('sol: ', sol)\n",
    "    x_sol, y_sol, l_sol = sol\n",
    "    x_sol = x_sol.evalf()\n",
    "    y_sol = y_sol.evalf()\n",
    "    print(f\"Max value of x is {x_sol}\")\n",
    "    print(f\"Max value of y is {y_sol}\")\n",
    "    print(f\"Max profit is of ({x_sol}, {y_sol}) is {f_xyl_value(x_sol, y_sol)*100}\")"
   ]
  },
  {
   "cell_type": "code",
   "execution_count": 30,
   "id": "184e338c",
   "metadata": {},
   "outputs": [
    {
     "data": {
      "image/png": "[encoded data removed]",
      "text/plain": [
       "<Figure size 432x288 with 1 Axes>"
      ]
     },
     "metadata": {},
     "output_type": "display_data"
    },
    {
     "name": "stdout",
     "output_type": "stream",
     "text": [
      "Graph with 5 nodes and 4 edges\n",
      "[('Daises', 'Pansies', {'weight': 28}), ('Lavender', 'Roses', {'weight': 40}), ('Pansies', 'Lavender', {'weight': 30}), ('Pansies', 'Mums', {'weight': 29})]\n",
      "Total weight 127\n",
      "Total cost 2540\n"
     ]
    },
    {
     "data": {
      "image/png": "[encoded data removed]",
      "text/plain": [
       "<Figure size 432x288 with 1 Axes>"
      ]
     },
     "metadata": {},
     "output_type": "display_data"
    }
   ],
   "source": [
    "import networkx as nx\n",
    "import matplotlib.pyplot as plt\n",
    "\n",
    "# list of routes\n",
    "edgelist = [['Daises', 'Pansies', 28], ['Daises', 'Mums', 35], ['Daises', 'Lavender', 33], ['Daises', 'Roses', 44], \n",
    "            ['Lavender', 'Roses', 40], ['Lavender', 'Mums', 36], ['Lavender', 'Pansies', 30], \n",
    "            ['Mums', 'Pansies', 29]]\n",
    "# adding edges\n",
    "g = nx.Graph()\n",
    "for edge in edgelist:\n",
    "    g.add_edge(edge[0],edge[1], weight = edge[2])   \n",
    "    \n",
    "# position of the graph\n",
    "pos=nx.spring_layout(g)\n",
    "\n",
    "# nodes\n",
    "nx.draw_networkx_nodes(g, pos, node_size=600)\n",
    "\n",
    "# edges\n",
    "nx.draw_networkx_edges(g, pos, width=2)\n",
    "nx.draw_networkx_edges(g, pos, width=2,  edge_color=\"g\", style=\"dashed\")\n",
    "\n",
    "# node labels\n",
    "nx.draw_networkx_labels(g, pos, font_size=10)\n",
    "\n",
    "# edge weight labels\n",
    "edge_labels = nx.get_edge_attributes(g, \"weight\")\n",
    "nx.draw_networkx_edge_labels(g, pos, edge_labels)\n",
    "\n",
    "plt.show()\n",
    "\n",
    "spanning_tree = nx.minimum_spanning_tree(g)\n",
    "print(spanning_tree)\n",
    "nx.draw_networkx(spanning_tree)\n",
    "print(sorted(spanning_tree.edges(data = True)))\n",
    "\n",
    "total_weight = 28+40+30+29\n",
    "print('Total weight', total_weight)\n",
    "\n",
    "total_cost = total_weight*20\n",
    "print('Total cost',total_cost)"
   ]
  },
  {
   "cell_type": "code",
   "execution_count": null,
   "id": "6bc92350",
   "metadata": {},
   "outputs": [],
   "source": []
  }
 ],
 "metadata": {
  "kernelspec": {
   "display_name": "Python 3 (ipykernel)",
   "language": "python",
   "name": "python3"
  },
  "language_info": {
   "codemirror_mode": {
    "name": "ipython",
    "version": 3
   },
   "file_extension": ".py",
   "mimetype": "text/x-python",
   "name": "python",
   "nbconvert_exporter": "python",
   "pygments_lexer": "ipython3",
   "version": "3.9.12"
  }
 },
 "nbformat": 4,
 "nbformat_minor": 5
}
