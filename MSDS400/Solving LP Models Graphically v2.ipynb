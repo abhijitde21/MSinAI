{
 "cells": [
  {
   "cell_type": "markdown",
   "metadata": {
    "slideshow": {
     "slide_type": "slide"
    },
    "tags": []
   },
   "source": [
    "# MSDS 400 Solving LP Models Graphically"
   ]
  },
  {
   "cell_type": "code",
   "execution_count": 1,
   "metadata": {
    "slideshow": {
     "slide_type": "slide"
    },
    "tags": []
   },
   "outputs": [],
   "source": [
    "import matplotlib.pyplot as plt\n",
    "import numpy as np\n",
    "%matplotlib inline"
   ]
  },
  {
   "cell_type": "markdown",
   "metadata": {
    "slideshow": {
     "slide_type": "fragment"
    }
   },
   "source": [
    "**To solve LP problems graphically, we perform the following tasks.**\n",
    "1. Graph the feasible region \n",
    "2. Find all the corner points of the region\n",
    "3. Evaluate the objective function at each of the corner points\n",
    "4. Find the extreme value of the objective function"
   ]
  },
  {
   "cell_type": "markdown",
   "metadata": {
    "slideshow": {
     "slide_type": "slide"
    },
    "tags": []
   },
   "source": [
    "* We use the following example to demonstrate the four steps.\n",
    "\n",
    "**Maximize `z = 3x + 4y` subject to**\n",
    "\n",
    "```python\n",
    "2x + y ≤ 4\n",
    "-x + 2y ≤ 4\n",
    "x ≤ 1.5\n",
    "x ≥ 0\n",
    "y ≥ 0 \n",
    "```"
   ]
  },
  {
   "cell_type": "markdown",
   "metadata": {
    "slideshow": {
     "slide_type": "slide"
    }
   },
   "source": [
    "**1. Graph the feasible region.**\n",
    "* Note that each inequality determines a region whose boundary is the line of the corresponding equation. \n",
    "* For example, the boundary of the region satisfying `2x + y ≤ 4` is the line of the graph of `2x + y = 4`. \n",
    "* Also note that the graph of `x = 1.5` is a vertical line passing through the x-axis at 1.5, `x = 0` and `y = 0` are the x & y-axes.\n",
    "* The Python code below graphs the three lines (not including the x & y-axes) and shades the feasible region."
   ]
  },
  {
   "cell_type": "code",
   "execution_count": 2,
   "metadata": {
    "slideshow": {
     "slide_type": "slide"
    }
   },
   "outputs": [
    {
     "data": {
      "image/png": "[encoded data removed]",
      "text/plain": [
       "<Figure size 432x288 with 1 Axes>"
      ]
     },
     "metadata": {
      "needs_background": "light"
     },
     "output_type": "display_data"
    }
   ],
   "source": [
    "# Graph the three boundaries (lines) (not including the x & y-axes)\n",
    "x = np.linspace(0, 3, 100)  # choose 100 x-values between 0 and 3 to plot each boundary\n",
    "\n",
    "y1 = 4 - 2*x     # solve 2x + y = 4 for y and save it as y1\n",
    "plt.plot(x, y1, color='b', label='2x + y <= 4') # plot of the boundary of constrain 1\n",
    "\n",
    "y2 = 2 + 0.5*x  # solve -x + 2y = 4 for y and save it as y2\n",
    "plt.plot(x, y2, color='r', label='-x + 2y <= 4') # plot of the boundary of constrain 2\n",
    "\n",
    "# polt the vertical line x =1.5\n",
    "plt.axvline(1.5, color='g', label='x <= 1.5') # plot of the boundary of constrain 3\n",
    "\n",
    "plt.xlim((0, 3))\n",
    "plt.ylim((0, 5))\n",
    "plt.xlabel('x')\n",
    "plt.ylabel('y')\n",
    "\n",
    "# Fill the feasible region\n",
    "plt.fill_between(x, np.minimum(y1, y2), where=x<=1.5, color='grey', alpha=0.5)\n",
    "plt.legend(bbox_to_anchor=(1, 1), loc=1)\n",
    "plt.show()"
   ]
  },
  {
   "cell_type": "markdown",
   "metadata": {
    "slideshow": {
     "slide_type": "slide"
    }
   },
   "source": [
    "**2. Find the corner points of the feasible region.**\n",
    "* Note that there are 4 corner points (not including the origin): two of the 4 corner points are the x & y intercepts which we can see clearly from the plot. All we need is to find the other two corner points by solving systems of equations.\n",
    "* The corner point formed by the blue and red lines are the point of intersection of `2x + y = 4` and `-x + 2y = 4`; the corner point formed by the blue and green lines are the point of intersection of `2x + y = 4` and `x = 1.5`.\n",
    "* The Python code below finds the two corner points by solving the systems of equations."
   ]
  },
  {
   "cell_type": "code",
   "execution_count": 3,
   "metadata": {
    "slideshow": {
     "slide_type": "slide"
    }
   },
   "outputs": [
    {
     "name": "stdout",
     "output_type": "stream",
     "text": [
      "Corner point 1:  [0.8 2.4]\n",
      "Corner point 2:  [1.5 1. ]\n"
     ]
    }
   ],
   "source": [
    "# Solve the system of equations to find the corner point formed by the blue and red lines\n",
    "# 2x + y = 4\n",
    "# -x + 2y = 4\n",
    "A1 = np.array([[2,1], [-1,2]])\n",
    "b1 = np.array([4,4])\n",
    "c1 = np.linalg.solve(A1, b1)\n",
    "print('Corner point 1: ', c1)\n",
    "\n",
    "# Find the second corner point formed by the blue and green lines \n",
    "# 2x + y = 4\n",
    "# x + 0y = 1.5\n",
    "A2 = np.array([[2,1], [1,0]])\n",
    "b2 = np.array([4,1.5])\n",
    "c2 = np.linalg.solve(A2, b2)\n",
    "print('Corner point 2: ', c2)"
   ]
  },
  {
   "cell_type": "markdown",
   "metadata": {
    "slideshow": {
     "slide_type": "slide"
    }
   },
   "source": [
    "**3. Evaluate the objective function at each of the 4 corner points.**\n",
    "* Corner point 1: `(0.8, 2.4)` the intersection of the blue and red lines\n",
    "* Corner point 2: `(1.5, 1.0)` the intersection of the blue and green lines\n",
    "* Corner point 3: `(1.5, 0)` the x-intercept of the line `x = 1.5`\n",
    "* Corner point 4: `(0, 2)` the y-intercept of the line `2x + y = 4`"
   ]
  },
  {
   "cell_type": "code",
   "execution_count": 4,
   "metadata": {
    "slideshow": {
     "slide_type": "slide"
    }
   },
   "outputs": [
    {
     "name": "stdout",
     "output_type": "stream",
     "text": [
      "The function value at (0.8, 2.4) is 12.0\n",
      "The function value at  (1.5, 1.0) is 8.5\n",
      "The function value at (1.5, 0) is 4.5\n",
      "The function value at (0, 2) is 8\n"
     ]
    }
   ],
   "source": [
    "# Define the objective function:\n",
    "def objfunc(x, y):\n",
    "    return 3*x + 4*y  \n",
    "       \n",
    "# Evaluate the function at each corner point:\n",
    "print(f'The function value at (0.8, 2.4) is {objfunc(0.8, 2.4)}')\n",
    "print(f'The function value at  (1.5, 1.0) is {objfunc(1.5, 1.0)}')\n",
    "print(f'The function value at (1.5, 0) is {objfunc(1.5, 0)}')\n",
    "print(f'The function value at (0, 2) is {objfunc(0, 2)}')"
   ]
  },
  {
   "cell_type": "markdown",
   "metadata": {
    "slideshow": {
     "slide_type": "slide"
    }
   },
   "source": [
    "**4. Identify the maximum value.**\n",
    "* Clearly the maximum value is 12.0 when x = 0.8 and y = 2.4"
   ]
  },
  {
   "cell_type": "code",
   "execution_count": null,
   "metadata": {},
   "outputs": [],
   "source": []
  }
 ],
 "metadata": {
  "celltoolbar": "Slideshow",
  "kernelspec": {
   "display_name": "Python 3",
   "language": "python",
   "name": "python3"
  },
  "language_info": {
   "codemirror_mode": {
    "name": "ipython",
    "version": 3
   },
   "file_extension": ".py",
   "mimetype": "text/x-python",
   "name": "python",
   "nbconvert_exporter": "python",
   "pygments_lexer": "ipython3",
   "version": "3.7.10"
  },
  "toc": {
   "base_numbering": 1,
   "nav_menu": {},
   "number_sections": false,
   "sideBar": true,
   "skip_h1_title": false,
   "title_cell": "Table of Contents",
   "title_sidebar": "Contents",
   "toc_cell": false,
   "toc_position": {},
   "toc_section_display": true,
   "toc_window_display": false
  },
  "toc-autonumbering": false,
  "varInspector": {
   "cols": {
    "lenName": 16,
    "lenType": 16,
    "lenVar": 40
   },
   "kernels_config": {
    "python": {
     "delete_cmd_postfix": "",
     "delete_cmd_prefix": "del ",
     "library": "var_list.py",
     "varRefreshCmd": "print(var_dic_list())"
    },
    "r": {
     "delete_cmd_postfix": ") ",
     "delete_cmd_prefix": "rm(",
     "library": "var_list.r",
     "varRefreshCmd": "cat(var_dic_list()) "
    }
   },
   "types_to_exclude": [
    "module",
    "function",
    "builtin_function_or_method",
    "instance",
    "_Feature"
   ],
   "window_display": false
  }
 },
 "nbformat": 4,
 "nbformat_minor": 4
}
