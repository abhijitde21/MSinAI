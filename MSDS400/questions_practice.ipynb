{
 "cells": [
  {
   "cell_type": "code",
   "execution_count": 8,
   "id": "eed85d76",
   "metadata": {},
   "outputs": [
    {
     "name": "stdout",
     "output_type": "stream",
     "text": [
      "Average Rate of Change =  22.5714\n",
      "Vertical Intercept =  164.5714\n",
      "Linear function Eq(y, 22.5714*x + 164.5714)\n",
      "correlation coefficient =  0.9725\n",
      "525.69\n",
      "999.6600000000001\n"
     ]
    }
   ],
   "source": [
    "from scipy import stats\n",
    "import sympy as sym\n",
    "\n",
    "#problem a\n",
    "x = [0,1,2,3,4,5]\n",
    "y = [170,190,206,225,242,293]\n",
    "\n",
    "slope, intercept, r_value, p_value, std_err = stats.linregress(x,y)\n",
    "\n",
    "print(\"Average Rate of Change = \", round(slope, 4))\n",
    "print(\"Vertical Intercept = \", round(intercept, 4))\n",
    "\n",
    "\n",
    "#problem b\n",
    "sym.init_printing()\n",
    "x,y = sym.symbols('x,y')\n",
    "f = sym.Eq(y,round(slope,4)*x+round(intercept,4))\n",
    "print(\"Linear function\",f)\n",
    "print(\"correlation coefficient = \", round(r_value, 4))\n",
    "\n",
    "year_2024 = 22.57*16 + 164.57\n",
    "print(year_2024)\n",
    "\n",
    "year_2045 = 22.57*37 + 164.57\n",
    "print(year_2045)"
   ]
  },
  {
   "cell_type": "code",
   "execution_count": 9,
   "id": "7d3ef58b",
   "metadata": {},
   "outputs": [
    {
     "name": "stdout",
     "output_type": "stream",
     "text": [
      "{x: 690.000000000000, y: 629.000000000000}\n",
      "690.000000000000\n",
      "629.000000000000\n"
     ]
    }
   ],
   "source": [
    "import sympy as sym\n",
    "\n",
    "x,y,z = sym.symbols('x,y,z')\n",
    "\n",
    "solns = sym.solve([\n",
    "    1*x + 1*y - 1319, \n",
    "    3.1*x + 2.5*y - 3711.5],\n",
    "    [x, y])\n",
    "\n",
    "print(solns)\n",
    "\n",
    "print(f'{solns[x]}')\n",
    "print(f'{solns[y]}')\n"
   ]
  },
  {
   "cell_type": "code",
   "execution_count": 12,
   "id": "e91db9a1",
   "metadata": {},
   "outputs": [
    {
     "name": "stdout",
     "output_type": "stream",
     "text": [
      "-30494.000000000033\n",
      "[[ 0.02302092 -0.01367482  0.00662425]\n",
      " [-0.0118056  -0.03144881  0.09916705]\n",
      " [ 0.00229553  0.02000394 -0.01928248]]\n",
      "[[20389]\n",
      " [20584]\n",
      " [13150]]\n",
      "[[2.]\n",
      " [4.]\n",
      " [5.]]\n"
     ]
    }
   ],
   "source": [
    "import numpy as np\n",
    "from numpy.linalg import linalg, inv\n",
    "import sympy as sym\n",
    "sym.init_printing()\n",
    "\n",
    "#a = ([0.13, 0, 0, 0], [0, 0.1, 0, 0], [0, 0, 0.08, 0], [0, 0, 0, 0.21])\n",
    "#b = ([13000, 16000], [23000, 22000], [35000, 31000], [54000, 50000])\n",
    "a = ([42, 4, 35], [0, 14, 72], [5, 15, 27])\n",
    "b = ([275], [416], [205])\n",
    "\n",
    "def mat_det(a):\n",
    "    array = np.array(a)\n",
    "    det = np.linalg.det(array)\n",
    "    return det\n",
    "\n",
    "print(mat_det(a))\n",
    "\n",
    "def mat_inv(a):\n",
    "    array = np.array(a)\n",
    "    inv = np.linalg.inv(array)\n",
    "    return inv\n",
    "\n",
    "print(mat_inv(a))\n",
    "\n",
    "def mat_mul(a,b):\n",
    "    array_a = np.array(a)\n",
    "    array_b = np.array(b)\n",
    "    mul = np.dot(array_a,array_b)\n",
    "    return mul\n",
    "\n",
    "print(mat_mul(a,b))\n",
    "\n",
    "def mat_equation(a,b):\n",
    "    array_a = np.array(a)\n",
    "    array_b = np.array(b)\n",
    "    inv_a = np.linalg.inv(array_a)\n",
    "    mul = np.dot(inv_a,array_b)\n",
    "    return mul\n",
    "\n",
    "print(mat_equation(a,b))"
   ]
  },
  {
   "cell_type": "code",
   "execution_count": 13,
   "id": "5559924e",
   "metadata": {},
   "outputs": [
    {
     "name": "stdout",
     "output_type": "stream",
     "text": [
      "213\n",
      "213.00000000000009\n",
      "[[3.0, -6.0, 5.0], [31.0, 1.0, 6.0], [22.0, 4.0, 3.0]]\n",
      "[[-4.0, 3.0, 5.0], [-2.0, 31.0, 6.0], [-5.0, 22.0, 3.0]]\n",
      "[[-4.0, -6.0, 3.0], [-2.0, 1.0, 31.0], [-5.0, 4.0, 22.0]]\n",
      "213\n",
      "639\n",
      "1065\n",
      "x:  1 y:  3 z:  5\n",
      "None\n"
     ]
    }
   ],
   "source": [
    "import numpy as np\n",
    "from numpy.linalg import linalg, inv\n",
    "import sympy as sym\n",
    "sym.init_printing()\n",
    "\n",
    "def cramer(lhs,rhs):\n",
    "    d = round(np.linalg.det(lhs))\n",
    "    print(d)\n",
    "    m = [[lhs[0][0],lhs[0][1],lhs[0][2]],\n",
    "         [lhs[1][0],lhs[1][1],lhs[1][2]],\n",
    "         [lhs[2][0],lhs[2][1],lhs[2][2]]]\n",
    "    print(np.linalg.det(m))\n",
    "    \n",
    "    m1 = [[rhs[0],lhs[0][1],lhs[0][2]],\n",
    "          [rhs[1],lhs[1][1],lhs[1][2]],\n",
    "          [rhs[2],lhs[2][1],lhs[2][2]]] \n",
    "    print(m1)\n",
    "          \n",
    "    m2 = [[lhs[0][0],rhs[0],lhs[0][2]],\n",
    "          [lhs[1][0],rhs[1],lhs[1][2]],\n",
    "          [lhs[2][0],rhs[2],lhs[2][2]]] \n",
    "    print(m2)\n",
    "          \n",
    "    m3 = [[lhs[0][0],lhs[0][1],rhs[0]],\n",
    "          [lhs[1][0],lhs[1][1],rhs[1]],\n",
    "          [lhs[2][0],lhs[2][1],rhs[2]]] \n",
    "    print(m3)\n",
    "\n",
    "    d1 = round(np.linalg.det(m1))\n",
    "    print(d1)\n",
    "    d2 = round(np.linalg.det(m2))\n",
    "    print(d2)\n",
    "    d3 = round(np.linalg.det(m3))\n",
    "    print(d3)\n",
    "           \n",
    "    if d!= 0:\n",
    "           x = d1/d\n",
    "           y = d2/d\n",
    "           z = d3/d\n",
    "           print('x: ',round(x),'y: ',round(y),'z: ',round(z))\n",
    "    else:\n",
    "        if (d1!=0 or d2!=0 or d3!=0):\n",
    "            print('no solution')\n",
    "        elif (d1==0 and d2==0 and d3==0):\n",
    "            print('infinite solution')\n",
    "           \n",
    "lhs = np.array([[-4.0, -6.0, 5.0], [-2.0, 1.0, 6.0], [-5.0, 4.0, 3.0]])\n",
    "rhs = np.array([3.0, 31.0, 22.0])\n",
    "\n",
    "print(cramer(lhs,rhs))"
   ]
  },
  {
   "cell_type": "code",
   "execution_count": 29,
   "id": "b37a6c11",
   "metadata": {},
   "outputs": [
    {
     "name": "stdout",
     "output_type": "stream",
     "text": [
      "Solution for the Linear Programming maximize problem\n",
      "No of Development projects:  68.0\n",
      "No of Support projects:  0.0\n",
      "Maximum profit in Million Rupees:  19.72\n"
     ]
    },
    {
     "data": {
      "text/plain": [
       "'Optimal'"
      ]
     },
     "execution_count": 29,
     "metadata": {},
     "output_type": "execute_result"
    }
   ],
   "source": [
    "# import pulp\n",
    "from pulp import LpVariable, LpProblem, LpMaximize, LpStatus, value, LpMinimize\n",
    "\n",
    "# declaration of variables\n",
    "x1 = LpVariable(\"x1\", 0, None) # x1>=0\n",
    "x2 = LpVariable(\"x2\", 0, None) # x2>=0\n",
    "\n",
    "# problem defination\n",
    "prob = LpProblem(\"problem\", LpMinimize)\n",
    "\n",
    "# constraints\n",
    "#prob += x1 + x2 <= 5\n",
    "#prob += 3*x1 + 2*x2 <= 12\n",
    "prob += 20*x1 + 20*x2 >= 1360\n",
    "prob += 50*x1 + 50*x2 >= 3400\n",
    "prob += 30*x1 + 30*x2 >= 2040\n",
    "\n",
    "# declaration of objective function\n",
    "#prob += 6*x1 + 5*x2\n",
    "prob += 0.29*x1 + 0.37*x2\n",
    "\n",
    "# problem solution\n",
    "status = prob.solve()\n",
    "LpStatus[status]\n",
    "print(\"Solution for the Linear Programming maximize problem\")\n",
    "print('No of Development projects: ',value(x1))\n",
    "print('No of Support projects: ',value(x2))\n",
    "print('Maximum profit in Million Rupees: ',value(prob.objective))\n",
    "LpStatus[status]"
   ]
  },
  {
   "cell_type": "code",
   "execution_count": 33,
   "id": "d2746a1d",
   "metadata": {},
   "outputs": [
    {
     "name": "stdout",
     "output_type": "stream",
     "text": [
      "Solution for the Linear Programming maximize problem\n",
      "No of x1:  1750.0\n",
      "No of x2:  3150.0\n",
      "No of x3:  2100.0\n",
      "Maximum profit in Million Rupees:  75600.0\n"
     ]
    },
    {
     "data": {
      "text/plain": [
       "'Optimal'"
      ]
     },
     "execution_count": 33,
     "metadata": {},
     "output_type": "execute_result"
    }
   ],
   "source": [
    "# import pulp\n",
    "from pulp import LpVariable, LpProblem, LpMaximize, LpStatus, value, LpMinimize\n",
    "\n",
    "# declaration of variables\n",
    "x1 = LpVariable(\"x1\", 0, None) # x1>=0\n",
    "x2 = LpVariable(\"x2\", 0, None) # x2>=0\n",
    "x3 = LpVariable(\"x3\", 0, None) # x3>=0\n",
    "\n",
    "# problem defination\n",
    "prob = LpProblem(\"problem\", LpMinimize)\n",
    "\n",
    "# constraints\n",
    "#prob += x1 + x2 <= 5\n",
    "#prob += 3*x1 + 2*x2 <= 12\n",
    "prob += 1*x1 + 1*x2 + 1*x3 >= 7000\n",
    "prob += 2*x2 - 3*x3 >= 0\n",
    "prob += 3*x1 - 1*x2 - 1*x3 >= 0\n",
    "\n",
    "# declaration of objective function\n",
    "#prob += 6*x1 + 5*x2\n",
    "prob += 12*x1 + 14*x2 + 5*x3\n",
    "\n",
    "# problem solution\n",
    "status = prob.solve()\n",
    "LpStatus[status]\n",
    "print(\"Solution for the Linear Programming maximize problem\")\n",
    "print('No of x1: ',value(x1))\n",
    "print('No of x2: ',value(x2))\n",
    "print('No of x3: ',value(x3))\n",
    "print('Maximum profit in Million Rupees: ',value(prob.objective))\n",
    "LpStatus[status]"
   ]
  },
  {
   "cell_type": "code",
   "execution_count": 34,
   "id": "d86fb27e",
   "metadata": {},
   "outputs": [
    {
     "name": "stdout",
     "output_type": "stream",
     "text": [
      "66\n"
     ]
    }
   ],
   "source": [
    "from sympy import Symbol, limit\n",
    "from sympy import *\n",
    "\n",
    "x = Symbol('x')\n",
    "var1 = ((1*x**3 - 13*x**2 + 26*x + 40)/(x - 10))\n",
    "li1 = limit(var1, x, 10)\n",
    "print(li1)"
   ]
  },
  {
   "cell_type": "code",
   "execution_count": 35,
   "id": "d72ee5b0",
   "metadata": {},
   "outputs": [
    {
     "data": {
      "image/png": "[encoded data removed]",
      "text/latex": [
       "$\\displaystyle \\frac{3}{x}$"
      ],
      "text/plain": [
       "3\n",
       "─\n",
       "x"
      ]
     },
     "metadata": {},
     "output_type": "display_data"
    },
    {
     "name": "stdout",
     "output_type": "stream",
     "text": [
      "rate of change at t = 59 0.05084745762711865\n"
     ]
    }
   ],
   "source": [
    "from sympy import Symbol, diff, lambdify, log\n",
    "from sympy import *\n",
    "from IPython.display import display\n",
    "\n",
    "x = Symbol('x')\n",
    "p = (log(12*x**3))\n",
    "dif1 = p.diff(x)\n",
    "show_dif1 = lambdify(x, dif1)\n",
    "\n",
    "display(dif1)\n",
    "\n",
    "print('rate of change at t = 59',show_dif1(59))"
   ]
  },
  {
   "cell_type": "code",
   "execution_count": 37,
   "id": "2a710520",
   "metadata": {},
   "outputs": [
    {
     "data": {
      "image/png": "[encoded data removed]",
      "text/latex": [
       "$\\displaystyle \\frac{5 \\pi \\cos{\\left(\\frac{\\pi x}{4} + \\frac{\\pi}{4} \\right)}}{4}$"
      ],
      "text/plain": [
       "       ⎛π⋅x   π⎞\n",
       "5⋅π⋅cos⎜─── + ─⎟\n",
       "       ⎝ 4    4⎠\n",
       "────────────────\n",
       "       4        "
      ]
     },
     "metadata": {},
     "output_type": "display_data"
    },
    {
     "name": "stdout",
     "output_type": "stream",
     "text": [
      "rate of change at t = 59 -2.7768018363489784\n"
     ]
    }
   ],
   "source": [
    "from sympy import Symbol, diff, lambdify, log, sin, pi\n",
    "from sympy import *\n",
    "from IPython.display import display\n",
    "\n",
    "x = Symbol('x')\n",
    "p = (5*sin((pi*x)/4 + (9*pi)/4) + 4)\n",
    "dif1 = p.diff(x)\n",
    "show_dif1 = lambdify(x, dif1)\n",
    "\n",
    "display(dif1)\n",
    "\n",
    "print('rate of change at t = 59',show_dif1(2))"
   ]
  },
  {
   "cell_type": "code",
   "execution_count": 39,
   "id": "49fcce1f",
   "metadata": {},
   "outputs": [
    {
     "name": "stdout",
     "output_type": "stream",
     "text": [
      "-380*x/(x + 4)**3 + 190/(x + 4)**2\n",
      "1140*x/(x + 4)**4 - 760/(x + 4)**3\n",
      "[4]\n",
      "11.8750000000000\n"
     ]
    }
   ],
   "source": [
    "import numpy as np\n",
    "from sympy import *\n",
    "\n",
    "%matplotlib inline\n",
    "\n",
    "x = Symbol('x')\n",
    "\n",
    "# - Suppose the eqn is f(x) = x**3 - 9*x**2 +15*x -7\n",
    "y = (190*x)/((x + 4)**2)\n",
    " \n",
    "\n",
    "# the first derivative\n",
    "yfirst = y.diff(x)\n",
    "print(yfirst)\n",
    "\n",
    "# the second derivative\n",
    "ysecond = yfirst.diff(x)\n",
    "print(ysecond)\n",
    "\n",
    "#critical points\n",
    "critical_points = solve(yfirst,x)\n",
    "print(critical_points)\n",
    "\n",
    "def y_value(x):\n",
    "    return (190*x)/((x + 4)**2)\n",
    "\n",
    "for i in critical_points:\n",
    "    print(y_value(i).evalf())"
   ]
  },
  {
   "cell_type": "code",
   "execution_count": 41,
   "id": "1f3fba18",
   "metadata": {},
   "outputs": [
    {
     "name": "stdout",
     "output_type": "stream",
     "text": [
      "12.3750000000000\n"
     ]
    }
   ],
   "source": [
    "import numpy as np\n",
    "import sympy as sym\n",
    "\n",
    "def f(x):\n",
    "    return -0.009*x**2 + 0.2*x \n",
    "\n",
    "x = sym.Symbol('x')\n",
    "int1 = sym.integrate(f(x),(x, 0, 15))\n",
    "print(int1)"
   ]
  },
  {
   "cell_type": "code",
   "execution_count": 53,
   "id": "13719d00",
   "metadata": {},
   "outputs": [
    {
     "name": "stdout",
     "output_type": "stream",
     "text": [
      "0.116978888477823\n",
      "0.135279406226935\n",
      "6588.14091583877\n"
     ]
    }
   ],
   "source": [
    "import numpy as np\n",
    "import sympy as sym\n",
    "\n",
    "def f(x):\n",
    "    return (sym.exp(-x/3.44))*(1/3.44)\n",
    "\n",
    "x = sym.Symbol('x')\n",
    "int1 = sym.integrate(f(x),(x, 1/2, 1))\n",
    "print(int1)\n",
    "\n",
    "int2 = sym.integrate(f(x),(x, 0, 1/2))\n",
    "print(int2)\n",
    "\n",
    "expected_value = int1*85 + int2*170\n",
    "print(expected_value*200)"
   ]
  },
  {
   "cell_type": "code",
   "execution_count": 54,
   "id": "cce10365",
   "metadata": {},
   "outputs": [
    {
     "name": "stdout",
     "output_type": "stream",
     "text": [
      "0.9780437655117976\n"
     ]
    }
   ],
   "source": [
    "from scipy.stats import norm\n",
    "\n",
    "mu = 69.6\n",
    "sg = 2.68\n",
    "x = 75\n",
    "cdf_value = norm.cdf(x,loc=mu,scale=sg)\n",
    "print(cdf_value)"
   ]
  },
  {
   "cell_type": "code",
   "execution_count": 56,
   "id": "bc84ebb4",
   "metadata": {},
   "outputs": [
    {
     "name": "stdout",
     "output_type": "stream",
     "text": [
      "0.003921787807112609\n"
     ]
    }
   ],
   "source": [
    "from scipy.stats import norm\n",
    "\n",
    "mu = 64.3\n",
    "sg = 2.52\n",
    "x = 71\n",
    "cdf_value = 1- norm.cdf(x,loc=mu,scale=sg)\n",
    "print(cdf_value)"
   ]
  },
  {
   "cell_type": "code",
   "execution_count": 58,
   "id": "120c83d5",
   "metadata": {},
   "outputs": [
    {
     "name": "stdout",
     "output_type": "stream",
     "text": [
      "0.27299709185373133\n",
      "0.604168194844318\n"
     ]
    }
   ],
   "source": [
    "from scipy.stats import norm\n",
    "\n",
    "mu = 242\n",
    "sg = 53\n",
    "x1 = 210\n",
    "x2 = 228\n",
    "\n",
    "cdf_value210 = norm.cdf(x1,loc=mu,scale=sg)\n",
    "print(cdf_value210)\n",
    "\n",
    "cdf_value228 = 1 - norm.cdf(x2,loc=mu,scale=sg)\n",
    "print(cdf_value228)"
   ]
  },
  {
   "cell_type": "code",
   "execution_count": 63,
   "id": "5c5fa7f5",
   "metadata": {},
   "outputs": [
    {
     "name": "stdout",
     "output_type": "stream",
     "text": [
      "results: {(1575**(1/3)/3, 1575**(1/3), 2*1575**(1/3)/3, 8*735**(1/3)/35), (175**(1/3)*(-3**(2/3) - 3*3**(1/6)*I)/6, 175**(1/3)*(-3**(2/3) - 3*3**(1/6)*I)/2, 175**(1/3)*(-3**(2/3)/3 - 3**(1/6)*I), -4*735**(1/3)/35 + 4*245**(1/3)*3**(5/6)*I/35), (175**(1/3)*(-3**(2/3) + 3*3**(1/6)*I)/6, 175**(1/3)*(-3**(2/3) + 3*3**(1/6)*I)/2, 175**(1/3)*(-3**(2/3)/3 + 3**(1/6)*I), -4*735**(1/3)/35 - 4*245**(1/3)*3**(5/6)*I/35)}\n",
      "sol:  (1575**(1/3)/3, 1575**(1/3), 2*1575**(1/3)/3, 8*735**(1/3)/35)\n",
      "Max value of x is 3.87827795241760\n",
      "Max value of y is 11.6348338572528\n",
      "Max value of y is 7.75655590483521\n",
      "Max area is of (3.87827795241760, 11.6348338572528, 7.75655590483521) is 1082.95487108701\n",
      "sol:  (175**(1/3)*(-3**(2/3) + 3*3**(1/6)*I)/6, 175**(1/3)*(-3**(2/3) + 3*3**(1/6)*I)/2, 175**(1/3)*(-3**(2/3)/3 + 3**(1/6)*I), -4*735**(1/3)/35 - 4*245**(1/3)*3**(5/6)*I/35)\n",
      "Max value of x is -1.9391389762088 + 3.35868722973074*I\n",
      "Max value of y is -5.8174169286264 + 10.0760616891922*I\n",
      "Max value of y is -3.8782779524176 + 6.71737445946148*I\n",
      "Max area is of (-1.9391389762088 + 3.35868722973074*I, -5.8174169286264 + 10.0760616891922*I, -3.8782779524176 + 6.71737445946148*I) is 2*(-23.2696677145056 + 40.3042467567689*I)*(-3.8782779524176 + 6.71737445946148*I) + (-15.5131118096704 + 26.8694978378459*I)*(-5.8174169286264 + 10.0760616891922*I)\n",
      "sol:  (175**(1/3)*(-3**(2/3) - 3*3**(1/6)*I)/6, 175**(1/3)*(-3**(2/3) - 3*3**(1/6)*I)/2, 175**(1/3)*(-3**(2/3)/3 - 3**(1/6)*I), -4*735**(1/3)/35 + 4*245**(1/3)*3**(5/6)*I/35)\n",
      "Max value of x is -1.9391389762088 - 3.35868722973074*I\n",
      "Max value of y is -5.8174169286264 - 10.0760616891922*I\n",
      "Max value of y is -3.8782779524176 - 6.71737445946148*I\n",
      "Max area is of (-1.9391389762088 - 3.35868722973074*I, -5.8174169286264 - 10.0760616891922*I, -3.8782779524176 - 6.71737445946148*I) is (-15.5131118096704 - 26.8694978378459*I)*(-5.8174169286264 - 10.0760616891922*I) + 2*(-23.2696677145056 - 40.3042467567689*I)*(-3.8782779524176 - 6.71737445946148*I)\n"
     ]
    }
   ],
   "source": [
    "from sympy import symbols, nonlinsolve\n",
    "\n",
    "x, y, z, l = symbols('x, y,z, l', real = True)\n",
    "\n",
    "f_xyz = 8*x*y + 12*x*z + 4*y*z\n",
    "g_xyz = x*y*z - 350\n",
    "\n",
    "f_xyzl = f_xyz - l *g_xyz\n",
    "f_xyzl_x = f_xyzl.diff(x)\n",
    "f_xyzl_y = f_xyzl.diff(y)\n",
    "f_xyzl_z = f_xyzl.diff(z)\n",
    "f_xyzl_l = f_xyzl.diff(l)\n",
    "\n",
    "results = nonlinsolve([f_xyzl_x, f_xyzl_y, f_xyzl_z, f_xyzl_l], [x, y, z, l])\n",
    "print('results:', results)\n",
    "\n",
    "def f_xyzl_value(x,y,z):\n",
    "    return 8*x*y + 12*x*z + 4*y*z\n",
    "\n",
    "for sol in list(results):\n",
    "    print('sol: ', sol)\n",
    "    x_sol, y_sol, z_sol, l_sol = sol\n",
    "    x_sol = x_sol.evalf()\n",
    "    y_sol = y_sol.evalf()\n",
    "    z_sol = z_sol.evalf()\n",
    "    print(f\"Max value of x is {x_sol}\")\n",
    "    print(f\"Max value of y is {y_sol}\")\n",
    "    print(f\"Max value of y is {z_sol}\")\n",
    "    print(f\"Max area is of ({x_sol}, {y_sol}, {z_sol}) is {f_xyzl_value(x_sol, y_sol, z_sol)}\")"
   ]
  },
  {
   "cell_type": "code",
   "execution_count": 66,
   "id": "56a9258e",
   "metadata": {},
   "outputs": [
    {
     "name": "stdout",
     "output_type": "stream",
     "text": [
      "results: [(240.000000000000, 40.0000000000000, 0.143762198455411)]\n",
      "sol:  (240.000000000000, 40.0000000000000, 0.143762198455411)\n",
      "Max value of x is 240.000000000000\n",
      "Max value of y is 40.0000000000000\n",
      "Max area is of (240.000000000000, 40.0000000000000) is 9200.78070114632\n"
     ]
    }
   ],
   "source": [
    "from sympy import symbols, nonlinsolve\n",
    "\n",
    "x, y, l = symbols('x, y, l', real = True)\n",
    "\n",
    "f_xy = 60*(x**0.75)*(y**0.25)\n",
    "g_xy = 200*x + 400*y - 64000\n",
    "\n",
    "f_xyl = f_xy - l *g_xy\n",
    "f_xyl_x = f_xyl.diff(x)\n",
    "f_xyl_y = f_xyl.diff(y)\n",
    "f_xyl_l = f_xyl.diff(l)\n",
    "\n",
    "results = solve([f_xyl_x, f_xyl_y, f_xyl_l], [x, y, l])\n",
    "print('results:', results)\n",
    "\n",
    "def f_xyl_value(x,y):\n",
    "    return 60*(x**0.75)*(y**0.25)\n",
    "\n",
    "for sol in list(results):\n",
    "    print('sol: ', sol)\n",
    "    x_sol, y_sol, l_sol = sol\n",
    "    x_sol = x_sol.evalf()\n",
    "    y_sol = y_sol.evalf()\n",
    "    print(f\"Max value of x is {x_sol}\")\n",
    "    print(f\"Max value of y is {y_sol}\")\n",
    "    print(f\"Max area is of ({x_sol}, {y_sol}) is {f_xyl_value(x_sol, y_sol)}\")"
   ]
  },
  {
   "cell_type": "code",
   "execution_count": 72,
   "id": "d895d2df",
   "metadata": {},
   "outputs": [
    {
     "data": {
      "image/png": "[encoded data removed]",
      "text/plain": [
       "<Figure size 432x288 with 1 Axes>"
      ]
     },
     "metadata": {},
     "output_type": "display_data"
    },
    {
     "name": "stdout",
     "output_type": "stream",
     "text": [
      "Graph with 12 nodes and 11 edges\n",
      "['A', 'D', 'G', 'J', 'K', 'L']\n"
     ]
    },
    {
     "data": {
      "image/png": "[encoded data removed]",
      "text/plain": [
       "<Figure size 432x288 with 1 Axes>"
      ]
     },
     "metadata": {},
     "output_type": "display_data"
    }
   ],
   "source": [
    "import networkx as nx\n",
    "import matplotlib.pyplot as plt\n",
    "\n",
    "# list of routes\n",
    "edgelist = [['A', 'B', 30], ['A', 'D', 9], ['B', 'C', 14], ['B', 'E', 13], \n",
    "            ['C', 'F', 24], ['D', 'G', 17], ['D', 'E', 16], \n",
    "            ['E', 'F', 25], ['E', 'H', 6], ['F', 'I', 18], ['G', 'H', 22], ['G', 'J', 12],\n",
    "            ['H', 'I', 19], ['H', 'K', 29], ['J', 'K', 5], ['I', 'L', 21], ['K', 'L', 8]]\n",
    "\n",
    "# adding edges\n",
    "g = nx.Graph()\n",
    "for edge in edgelist:\n",
    "    g.add_edge(edge[0],edge[1], weight = edge[2])   \n",
    "    \n",
    "# position of the graph\n",
    "pos=nx.spring_layout(g)\n",
    "\n",
    "# nodes\n",
    "nx.draw_networkx_nodes(g, pos, node_size=600)\n",
    "\n",
    "# edges\n",
    "nx.draw_networkx_edges(g, pos, width=2)\n",
    "nx.draw_networkx_edges(g, pos, width=2,  edge_color=\"g\", style=\"dashed\")\n",
    "\n",
    "# node labels\n",
    "nx.draw_networkx_labels(g, pos, font_size=10)\n",
    "\n",
    "# edge weight labels\n",
    "edge_labels = nx.get_edge_attributes(g, \"weight\")\n",
    "nx.draw_networkx_edge_labels(g, pos, edge_labels)\n",
    "\n",
    "plt.show()\n",
    "\n",
    "spanning_tree = nx.minimum_spanning_tree(g)\n",
    "print(spanning_tree)\n",
    "nx.draw_networkx(spanning_tree)\n",
    "\n",
    "# calculating shortest path from Mumbai to Kolkata using Dijkstra Algorithm\n",
    "dijpath = nx.dijkstra_path(g, source='A', target='L')\n",
    "print(dijpath)"
   ]
  },
  {
   "cell_type": "code",
   "execution_count": 74,
   "id": "07a6d074",
   "metadata": {},
   "outputs": [
    {
     "data": {
      "image/png": "[encoded data removed]",
      "text/plain": [
       "<Figure size 432x288 with 1 Axes>"
      ]
     },
     "metadata": {},
     "output_type": "display_data"
    },
    {
     "name": "stdout",
     "output_type": "stream",
     "text": [
      "Graph with 5 nodes and 4 edges\n",
      "['A', 'C', 'B']\n"
     ]
    },
    {
     "data": {
      "image/png": "[encoded data removed]",
      "text/plain": [
       "<Figure size 432x288 with 1 Axes>"
      ]
     },
     "metadata": {},
     "output_type": "display_data"
    }
   ],
   "source": [
    "import networkx as nx\n",
    "import matplotlib.pyplot as plt\n",
    "\n",
    "# list of routes\n",
    "edgelist = [['A', 'C', 4], ['A', 'D', 13], ['A', 'E', 3], ['B', 'C', 8], \n",
    "            ['B', 'D', 6], ['B', 'E', 29], ['C', 'D', 18], \n",
    "            ['C', 'E', 30], ['D', 'E', 26]]\n",
    "\n",
    "# adding edges\n",
    "g = nx.Graph()\n",
    "for edge in edgelist:\n",
    "    g.add_edge(edge[0],edge[1], weight = edge[2])   \n",
    "    \n",
    "# position of the graph\n",
    "pos=nx.spring_layout(g)\n",
    "\n",
    "# nodes\n",
    "nx.draw_networkx_nodes(g, pos, node_size=600)\n",
    "\n",
    "# edges\n",
    "nx.draw_networkx_edges(g, pos, width=2)\n",
    "nx.draw_networkx_edges(g, pos, width=2,  edge_color=\"g\", style=\"dashed\")\n",
    "\n",
    "# node labels\n",
    "nx.draw_networkx_labels(g, pos, font_size=10)\n",
    "\n",
    "# edge weight labels\n",
    "edge_labels = nx.get_edge_attributes(g, \"weight\")\n",
    "nx.draw_networkx_edge_labels(g, pos, edge_labels)\n",
    "\n",
    "plt.show()\n",
    "\n",
    "spanning_tree = nx.minimum_spanning_tree(g)\n",
    "print(spanning_tree)\n",
    "nx.draw_networkx(spanning_tree)\n",
    "\n",
    "# calculating shortest path from Mumbai to Kolkata using Dijkstra Algorithm\n",
    "dijpath = nx.dijkstra_path(g, source='A', target='B')\n",
    "print(dijpath)"
   ]
  },
  {
   "cell_type": "code",
   "execution_count": 80,
   "id": "27e5c826",
   "metadata": {},
   "outputs": [
    {
     "data": {
      "image/png": "[encoded data removed]",
      "text/plain": [
       "<Figure size 432x288 with 1 Axes>"
      ]
     },
     "metadata": {},
     "output_type": "display_data"
    },
    {
     "name": "stdout",
     "output_type": "stream",
     "text": [
      "Graph with 6 nodes and 5 edges\n",
      "[('A', 'C', {'weight': 2}), ('A', 'D', {'weight': 18}), ('B', 'F', {'weight': 5}), ('C', 'F', {'weight': 4}), ('E', 'F', {'weight': 6})]\n"
     ]
    },
    {
     "data": {
      "image/png": "[encoded data removed]",
      "text/plain": [
       "<Figure size 432x288 with 1 Axes>"
      ]
     },
     "metadata": {},
     "output_type": "display_data"
    }
   ],
   "source": [
    "import networkx as nx\n",
    "import matplotlib.pyplot as plt\n",
    "\n",
    "# list of routes\n",
    "edgelist = [['A', 'B', 16], ['A', 'C', 2], ['A', 'D', 18], ['A', 'E', 37], \n",
    "            ['A', 'F', 25], ['B', 'C', 27], ['B', 'D', 35], \n",
    "            ['B', 'E', 13], ['B', 'F', 5], ['C', 'D', 42], ['C', 'E', 10],\n",
    "            ['C', 'F', 4], ['D', 'E', 32], ['D', 'F', 34], ['E', 'F', 6]]\n",
    "\n",
    "# adding edges\n",
    "g = nx.Graph()\n",
    "for edge in edgelist:\n",
    "    g.add_edge(edge[0],edge[1], weight = edge[2])   \n",
    "    \n",
    "# position of the graph\n",
    "pos=nx.spring_layout(g)\n",
    "\n",
    "# nodes\n",
    "nx.draw_networkx_nodes(g, pos, node_size=600)\n",
    "\n",
    "# edges\n",
    "nx.draw_networkx_edges(g, pos, width=2)\n",
    "nx.draw_networkx_edges(g, pos, width=2,  edge_color=\"g\", style=\"dashed\")\n",
    "\n",
    "# node labels\n",
    "nx.draw_networkx_labels(g, pos, font_size=10)\n",
    "\n",
    "# edge weight labels\n",
    "edge_labels = nx.get_edge_attributes(g, \"weight\")\n",
    "nx.draw_networkx_edge_labels(g, pos, edge_labels)\n",
    "\n",
    "plt.show()\n",
    "\n",
    "spanning_tree = nx.minimum_spanning_tree(g)\n",
    "print(spanning_tree)\n",
    "nx.draw_networkx(spanning_tree)\n",
    "print(sorted(spanning_tree.edges(data = True)))\n",
    "\n",
    "# calculating shortest path from Mumbai to Kolkata using Dijkstra Algorithm\n",
    "#dijpath = nx.dijkstra_path(g, source='A', target='B')\n",
    "#print(dijpath)"
   ]
  },
  {
   "cell_type": "code",
   "execution_count": 81,
   "id": "46d7eedf",
   "metadata": {},
   "outputs": [
    {
     "name": "stdout",
     "output_type": "stream",
     "text": [
      "P(X>2.7) =  0.158655253931457\n",
      "P(2.26<X<2.74) =  0.769860659556584\n"
     ]
    }
   ],
   "source": [
    "from sympy.stats import Normal, P\n",
    "from sympy import N, And\n",
    "\n",
    "X = Normal('X', 2.5, 0.2)\n",
    "\n",
    "print('P(X>2.7) = ', N(P(X>2.7)))\n",
    "print('P(2.26<X<2.74) = ', N(P(And(X>2.26,X<2.74))))"
   ]
  },
  {
   "cell_type": "code",
   "execution_count": 85,
   "id": "c6037104",
   "metadata": {},
   "outputs": [
    {
     "name": "stdout",
     "output_type": "stream",
     "text": [
      "2.74\n",
      "2.26\n"
     ]
    }
   ],
   "source": [
    "print(1.2*0.2 + 2.5)\n",
    "print(- 1.2*0.2 + 2.5)"
   ]
  },
  {
   "cell_type": "code",
   "execution_count": null,
   "id": "661ec7be",
   "metadata": {},
   "outputs": [],
   "source": []
  }
 ],
 "metadata": {
  "kernelspec": {
   "display_name": "Python 3 (ipykernel)",
   "language": "python",
   "name": "python3"
  },
  "language_info": {
   "codemirror_mode": {
    "name": "ipython",
    "version": 3
   },
   "file_extension": ".py",
   "mimetype": "text/x-python",
   "name": "python",
   "nbconvert_exporter": "python",
   "pygments_lexer": "ipython3",
   "version": "3.9.12"
  }
 },
 "nbformat": 4,
 "nbformat_minor": 5
}
