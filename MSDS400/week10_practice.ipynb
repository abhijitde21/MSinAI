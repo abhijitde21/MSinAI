{
 "cells": [
  {
   "cell_type": "code",
   "execution_count": 3,
   "id": "8a7a3a8f",
   "metadata": {},
   "outputs": [
    {
     "name": "stdout",
     "output_type": "stream",
     "text": [
      "Average Rate of Change =  1.313\n",
      "Vertical Intercept =  8.7333\n",
      "Linear function Eq(y, 1.313*x + 8.7333)\n",
      "correlation coefficient =  0.9673\n"
     ]
    }
   ],
   "source": [
    "from scipy import stats\n",
    "import sympy as sym\n",
    "\n",
    "#problem a\n",
    "x = [1,2,3,4,5,6,7,8,9,10]\n",
    "y = [10.27,10.34,12.01,14.08,17.35,15.82,19.29,19.36,19.33,21.7]\n",
    "\n",
    "slope, intercept, r_value, p_value, std_err = stats.linregress(x,y)\n",
    "\n",
    "print(\"Average Rate of Change = \", round(slope, 4))\n",
    "print(\"Vertical Intercept = \", round(intercept, 4))\n",
    "\n",
    "\n",
    "#problem b\n",
    "sym.init_printing()\n",
    "x,y = sym.symbols('x,y')\n",
    "f = sym.Eq(y,round(slope,4)*x+round(intercept,4))\n",
    "print(\"Linear function\",f)\n",
    "print(\"correlation coefficient = \", round(r_value, 4))"
   ]
  },
  {
   "cell_type": "code",
   "execution_count": 5,
   "id": "b72b6dea",
   "metadata": {},
   "outputs": [
    {
     "name": "stdout",
     "output_type": "stream",
     "text": [
      "{x: -5, y: -6, z: 1}\n",
      "-5\n",
      "-6\n",
      "1\n"
     ]
    }
   ],
   "source": [
    "import sympy as sym\n",
    "\n",
    "x,y,z = sym.symbols('x,y,z')\n",
    "\n",
    "solns = sym.solve([\n",
    "    1*x + 4*y + 6*z + 23, \n",
    "    3*x + 1*y - 1*z + 22,\n",
    "    - 5*x + 1*y - 3*z - 16],\n",
    "    [x, y, z])\n",
    "\n",
    "print(solns)\n",
    "\n",
    "print(f'{solns[x]}')\n",
    "print(f'{solns[y]}')\n",
    "print(f'{solns[z]}')"
   ]
  },
  {
   "cell_type": "code",
   "execution_count": 6,
   "id": "0f507fc2",
   "metadata": {},
   "outputs": [
    {
     "name": "stdout",
     "output_type": "stream",
     "text": [
      "Solution for the Linear Programming maximize problem\n",
      "No of Development projects:  110.0\n",
      "No of Support projects:  0.0\n",
      "Maximum profit in Million Rupees:  1100.0\n"
     ]
    },
    {
     "data": {
      "text/plain": [
       "'Optimal'"
      ]
     },
     "execution_count": 6,
     "metadata": {},
     "output_type": "execute_result"
    }
   ],
   "source": [
    "# import pulp\n",
    "from pulp import LpVariable, LpProblem, LpMaximize, LpStatus, value, LpMinimize\n",
    "\n",
    "# declaration of variables\n",
    "x1 = LpVariable(\"x1\", 0, None) # x1>=0\n",
    "x2 = LpVariable(\"x2\", 0, None) # x2>=0\n",
    "\n",
    "# problem defination\n",
    "prob = LpProblem(\"problem\", LpMaximize)\n",
    "\n",
    "# constraints\n",
    "#prob += x1 + x2 <= 5\n",
    "#prob += 3*x1 + 2*x2 <= 12\n",
    "prob += 6*x1 + 3*x2 <= 660\n",
    "prob += 2*x1 + 6*x2 <= 870\n",
    "prob += 21*x1 + 13*x2 <= 2385\n",
    "\n",
    "# declaration of objective function\n",
    "#prob += 6*x1 + 5*x2\n",
    "prob += 10*x1 + 3*x2\n",
    "\n",
    "# problem solution\n",
    "status = prob.solve()\n",
    "LpStatus[status]\n",
    "print(\"Solution for the Linear Programming maximize problem\")\n",
    "print('No of Development projects: ',value(x1))\n",
    "print('No of Support projects: ',value(x2))\n",
    "print('Maximum profit in Million Rupees: ',value(prob.objective))\n",
    "LpStatus[status]"
   ]
  },
  {
   "cell_type": "code",
   "execution_count": 7,
   "id": "361d448e",
   "metadata": {},
   "outputs": [
    {
     "name": "stdout",
     "output_type": "stream",
     "text": [
      "720\n",
      "30\n",
      "15\n"
     ]
    }
   ],
   "source": [
    "def factorial(n):\n",
    "    if n == 0:\n",
    "        return 1\n",
    "    else:\n",
    "        return n*factorial(n-1)\n",
    "\n",
    "print(factorial(6))\n",
    "\n",
    "def perm(n, k):\n",
    "    if n == 0:\n",
    "        return 1\n",
    "    if k > n:\n",
    "        return -1\n",
    "    else:\n",
    "        return int(factorial(n)/factorial(n - k))\n",
    "    \n",
    "print(perm(6,2))\n",
    "\n",
    "def comb(n, k):\n",
    "    if n == 0:\n",
    "        return 1\n",
    "    if k > n:\n",
    "        return -1\n",
    "    else:\n",
    "        return int(factorial(n)/(factorial(n - k)*factorial(k)))    \n",
    "                \n",
    "print(comb(6,2))"
   ]
  },
  {
   "cell_type": "code",
   "execution_count": 18,
   "id": "d6f68990",
   "metadata": {},
   "outputs": [
    {
     "data": {
      "image/png": "[encoded data removed]",
      "text/latex": [
       "$\\displaystyle \\frac{\\left(- 6 x - 1\\right) \\left(5 x - 6\\right)}{\\left(3 x^{2} + x\\right)^{2}} + \\frac{5}{3 x^{2} + x}$"
      ],
      "text/plain": [
       "(-6⋅x - 1)⋅(5⋅x - 6)      5    \n",
       "──────────────────── + ────────\n",
       "              2           2    \n",
       "    ⎛   2    ⎞         3⋅x  + x\n",
       "    ⎝3⋅x  + x⎠                 "
      ]
     },
     "metadata": {},
     "output_type": "display_data"
    },
    {
     "name": "stdout",
     "output_type": "stream",
     "text": [
      "rate of change at t = 7 -0.011800208116545266\n"
     ]
    }
   ],
   "source": [
    "from sympy import Symbol, diff, lambdify\n",
    "from sympy import *\n",
    "from IPython.display import display\n",
    "\n",
    "x = Symbol('x')\n",
    "p = ((5*x-6)/(3*x**2+x))\n",
    "dif1 = p.diff(x)\n",
    "show_dif1 = lambdify(x, dif1)\n",
    "\n",
    "display(dif1)\n",
    "\n",
    "print('rate of change at t = 7',show_dif1(10))"
   ]
  },
  {
   "cell_type": "code",
   "execution_count": 25,
   "id": "8cfe974f",
   "metadata": {},
   "outputs": [
    {
     "data": {
      "image/png": "[encoded data removed]",
      "text/latex": [
       "$\\displaystyle 18.2364 e^{0.52 x}$"
      ],
      "text/plain": [
       "         0.52⋅x\n",
       "18.2364⋅ℯ      "
      ]
     },
     "metadata": {},
     "output_type": "display_data"
    },
    {
     "name": "stdout",
     "output_type": "stream",
     "text": [
      "rate of change at t = 7 3305753\n"
     ]
    }
   ],
   "source": [
    "from sympy import Symbol, diff, lambdify, exp\n",
    "from sympy import *\n",
    "from IPython.display import display\n",
    "\n",
    "x = Symbol('x')\n",
    "p = (35.07*exp(0.52*x))\n",
    "dif1 = p.diff(x)\n",
    "show_dif1 = lambdify(x, dif1)\n",
    "\n",
    "display(dif1)\n",
    "\n",
    "print('rate of change at t = 7',round(show_dif1(10)*1000))"
   ]
  },
  {
   "cell_type": "code",
   "execution_count": 33,
   "id": "1894649e",
   "metadata": {},
   "outputs": [
    {
     "data": {
      "image/png": "[encoded data removed]",
      "text/latex": [
       "$\\displaystyle - \\frac{5.62}{x}$"
      ],
      "text/plain": [
       "-5.62 \n",
       "──────\n",
       "  x   "
      ]
     },
     "metadata": {},
     "output_type": "display_data"
    },
    {
     "name": "stdout",
     "output_type": "stream",
     "text": [
      "rate of change at t = 1972 -0.8028571428571428\n",
      "20.0539849623091\n",
      "rate of change at t = 1992 -0.20814814814814817\n",
      "12.4673968130557\n",
      "rate of change at t = 2010 -0.1248888888888889\n",
      "9.59655680749080\n"
     ]
    }
   ],
   "source": [
    "from sympy import Symbol, diff, lambdify, log\n",
    "from sympy import *\n",
    "from IPython.display import display\n",
    "\n",
    "x = Symbol('x')\n",
    "p = (30.99 - 5.62*log(x))\n",
    "dif1 = p.diff(x)\n",
    "show_dif1 = lambdify(x, dif1)\n",
    "\n",
    "display(dif1)\n",
    "\n",
    "print('rate of change at t = 1972',show_dif1(1972-1965))\n",
    "p_1972 = (30.99 - 5.62*log(1972-1965))\n",
    "print(p_1972.evalf())\n",
    "\n",
    "print('rate of change at t = 1992',show_dif1(1992-1965))\n",
    "p_1992 = (30.99 - 5.62*log(1992-1965))\n",
    "print(p_1992.evalf())\n",
    "\n",
    "print('rate of change at t = 2010',show_dif1(2010-1965))\n",
    "p_2010 = (30.99 - 5.62*log(2010-1965))\n",
    "print(p_2010.evalf())"
   ]
  },
  {
   "cell_type": "code",
   "execution_count": 38,
   "id": "603900b0",
   "metadata": {},
   "outputs": [
    {
     "name": "stdout",
     "output_type": "stream",
     "text": [
      "-0.008076*x**2 + 0.07224*x - 0.1004\n",
      "0.07224 - 0.016152*x\n",
      "[1.72088272523560, 7.22413956302592]\n",
      "0.984866192380178\n",
      "1.20883308060580\n"
     ]
    }
   ],
   "source": [
    "import numpy as np\n",
    "from sympy import *\n",
    "\n",
    "%matplotlib inline\n",
    "\n",
    "x = Symbol('x')\n",
    "\n",
    "# - Suppose the eqn is f(x) = x**3 - 9*x**2 +15*x -7\n",
    "y = - 0.002692*x**3 + 0.03612*x**2 - 0.1004*x + 1.0646\n",
    " \n",
    "\n",
    "# the first derivative\n",
    "yfirst = y.diff(x)\n",
    "print(yfirst)\n",
    "\n",
    "# the second derivative\n",
    "ysecond = yfirst.diff(x)\n",
    "print(ysecond)\n",
    "\n",
    "#critical points\n",
    "critical_points = solve(yfirst,x)\n",
    "print(critical_points)\n",
    "\n",
    "def y_value(x):\n",
    "    return - 0.002693*x**3 + 0.03612*x**2 - 0.1004*x + 1.0644\n",
    "\n",
    "for i in critical_points:\n",
    "    print(y_value(i))"
   ]
  },
  {
   "cell_type": "code",
   "execution_count": 42,
   "id": "566d26de",
   "metadata": {},
   "outputs": [
    {
     "name": "stdout",
     "output_type": "stream",
     "text": [
      "373.001816733154\n",
      "172.263731647138\n"
     ]
    }
   ],
   "source": [
    "import sympy as sym\n",
    "\n",
    "def f(x):\n",
    "    return (72*sym.log(x+1)/(x+1)) \n",
    "\n",
    "x = sym.Symbol('x')\n",
    "int1 = sym.integrate(f(x),(x, 0, 24))\n",
    "print(int1.evalf())\n",
    "\n",
    "int2 = sym.integrate(f(x),(x, 24, 48))\n",
    "print(int2.evalf())"
   ]
  },
  {
   "cell_type": "code",
   "execution_count": 46,
   "id": "92654d88",
   "metadata": {},
   "outputs": [
    {
     "name": "stdout",
     "output_type": "stream",
     "text": [
      "46340.9380590753\n",
      "37477.2495795768\n"
     ]
    }
   ],
   "source": [
    "import sympy as sym\n",
    "\n",
    "def f(x):\n",
    "    return ((3*x + 3)*(x**2 + 2*x + 2)**(1/3)) \n",
    "\n",
    "x = sym.Symbol('x')\n",
    "int1 = sym.integrate(f(x),(x, 0, 3))\n",
    "print(int1.evalf()*1000)\n",
    "\n",
    "int2 = sym.integrate(f(x),(x, 3, 4))\n",
    "print(int2.evalf()*1000)"
   ]
  },
  {
   "cell_type": "code",
   "execution_count": 2,
   "id": "16752afc",
   "metadata": {},
   "outputs": [
    {
     "name": "stdout",
     "output_type": "stream",
     "text": [
      "The x and y value for critical points are {(-2, -1), (0, 0), (2, 1), (-2*I, I), (2*I, -I), (sqrt(2)*(-1 - I), sqrt(2)/2 - sqrt(2)*I/2), (sqrt(2)*(-1 + I), sqrt(2)/2 + sqrt(2)*I/2), (sqrt(2)*(1 - I), -sqrt(2)/2 - sqrt(2)*I/2), (sqrt(2)*(1 + I), -sqrt(2)/2 + sqrt(2)*I/2)}\n",
      "result[0], result[1]: -2 -1\n",
      "Analyzing critical point (-2, -1)\n",
      "partf_x_x: 12*x**2\n",
      "lambd_x_x: <function _lambdifygenerated at 0x0000021F876ED310>\n",
      "The discriminant of our critical value is 8192\n",
      "fxx: 48\n",
      "fyy: 192\n",
      "fxy: -32\n",
      "This is a relative minima\n",
      "8\n",
      "result[0], result[1]: 0 0\n",
      "Analyzing critical point (0, 0)\n",
      "partf_x_x: 12*x**2\n",
      "lambd_x_x: <function _lambdifygenerated at 0x0000021F877005E0>\n",
      "The discriminant of our critical value is -1024\n",
      "fxx: 0\n",
      "fyy: 0\n",
      "fxy: -32\n",
      "This is a saddle point\n",
      "40\n",
      "result[0], result[1]: 2 1\n",
      "Analyzing critical point (2, 1)\n",
      "partf_x_x: 12*x**2\n",
      "lambd_x_x: <function _lambdifygenerated at 0x0000021F87700B80>\n",
      "The discriminant of our critical value is 8192\n",
      "fxx: 48\n",
      "fyy: 192\n",
      "fxy: -32\n",
      "This is a relative minima\n",
      "8\n",
      "result[0], result[1]: -2*I I\n",
      "result[0], result[1]: 2*I -I\n",
      "result[0], result[1]: sqrt(2)*(-1 + I) sqrt(2)/2 + sqrt(2)*I/2\n",
      "result[0], result[1]: sqrt(2)*(1 + I) -sqrt(2)/2 + sqrt(2)*I/2\n",
      "result[0], result[1]: sqrt(2)*(-1 - I) sqrt(2)/2 - sqrt(2)*I/2\n",
      "result[0], result[1]: sqrt(2)*(1 - I) -sqrt(2)/2 - sqrt(2)*I/2\n"
     ]
    }
   ],
   "source": [
    "from sympy import lambdify, Abs\n",
    "from sympy import *\n",
    "\n",
    "x, y = symbols('x, y', real=True)\n",
    "f_x_y = x**4 + 16*y**4 - 32*x*y + 40\n",
    "\n",
    "def f_x_y_value(x,y):\n",
    "    return x**4 + 16*y**4 - 32*x*y + 40\n",
    "\n",
    "def D(func, x_sym, y_sym, x_crit, y_crit):\n",
    "    partf_x_x = func.diff(x_sym, x_sym)\n",
    "    partf_y_y = func.diff(y_sym, y_sym)\n",
    "    partf_x_y = func.diff(x_sym, y_sym)\n",
    "    print('partf_x_x:', partf_x_x)\n",
    "    \n",
    "    lambd_x_x = lambdify([x_sym, y_sym], partf_x_x)\n",
    "    lambd_y_y = lambdify([x_sym, y_sym], partf_y_y)\n",
    "    lambd_x_y = lambdify([x_sym, y_sym], partf_x_y)\n",
    "    print('lambd_x_x:', lambd_x_x)\n",
    "    \n",
    "    fxx = lambd_x_x(x_crit, y_crit)\n",
    "    fyy = lambd_y_y(x_crit, y_crit)\n",
    "    fxy = lambd_x_y(x_crit, y_crit)\n",
    "    \n",
    "    d = fxx*fyy - Abs(fxy)**2\n",
    "    \n",
    "    print(f\"The discriminant of our critical value is {d}\")\n",
    "    print('fxx:', fxx)\n",
    "    print('fyy:', fyy)\n",
    "    print('fxy:', fxy)\n",
    "    \n",
    "    if d < 0:\n",
    "        print(\"This is a saddle point\")\n",
    "    elif d > 0:\n",
    "        if fxx < 0:\n",
    "            print(\"This is relative maxima\")\n",
    "        else:\n",
    "            print(\"This is a relative minima\")\n",
    "    \n",
    "\n",
    "partial_x = f_x_y.diff(x)\n",
    "partial_y = f_x_y.diff(y)\n",
    "\n",
    "results = nonlinsolve([partial_x, partial_y], [x, y])\n",
    "\n",
    "print(f\"The x and y value for critical points are {results}\")\n",
    "\n",
    "for result in list(results):\n",
    "    print('result[0], result[1]:', result[0], result[1])\n",
    "    if result[0].is_real and result[1].is_real:\n",
    "        print(f\"Analyzing critical point {result}\")\n",
    "        D(f_x_y, x, y, result[0], result[1])\n",
    "        print(f_x_y_value(result[0], result[1]))\n",
    "\n",
    "\n"
   ]
  },
  {
   "cell_type": "code",
   "execution_count": 8,
   "id": "b9747ed5",
   "metadata": {},
   "outputs": [
    {
     "name": "stdout",
     "output_type": "stream",
     "text": [
      "results: {(10, 0, 40)}\n",
      "sol:  (10, 0, 40)\n",
      "Max value of x is 10.0000000000000\n",
      "Max value of y is 0\n",
      "Max area is of (10.0000000000000, 0) is 210.000000000000\n"
     ]
    }
   ],
   "source": [
    "from sympy import symbols, nonlinsolve\n",
    "\n",
    "x, y, l = symbols('x, y, l', real = True)\n",
    "\n",
    "f_xy = 2*x**2 + 6*y**2 + 4*x*y + 10\n",
    "g_xy = x + y - 10\n",
    "\n",
    "f_xyl = f_xy - l *g_xy\n",
    "f_xyl_x = f_xyl.diff(x)\n",
    "f_xyl_y = f_xyl.diff(y)\n",
    "f_xyl_l = f_xyl.diff(l)\n",
    "\n",
    "results = nonlinsolve([f_xyl_x, f_xyl_y, f_xyl_l], [x, y, l])\n",
    "print('results:', results)\n",
    "\n",
    "def f_xyl_value(x,y):\n",
    "    return 2*x**2 + 6*y**2 + 4*x*y + 10\n",
    "\n",
    "for sol in list(results):\n",
    "    print('sol: ', sol)\n",
    "    x_sol, y_sol, l_sol = sol\n",
    "    x_sol = x_sol.evalf()\n",
    "    y_sol = y_sol.evalf()\n",
    "    print(f\"Max value of x is {x_sol}\")\n",
    "    print(f\"Max value of y is {y_sol}\")\n",
    "    print(f\"Max area is of ({x_sol}, {y_sol}) is {f_xyl_value(x_sol, y_sol)}\")"
   ]
  },
  {
   "cell_type": "code",
   "execution_count": null,
   "id": "25bfdd9f",
   "metadata": {},
   "outputs": [],
   "source": []
  }
 ],
 "metadata": {
  "kernelspec": {
   "display_name": "Python 3 (ipykernel)",
   "language": "python",
   "name": "python3"
  },
  "language_info": {
   "codemirror_mode": {
    "name": "ipython",
    "version": 3
   },
   "file_extension": ".py",
   "mimetype": "text/x-python",
   "name": "python",
   "nbconvert_exporter": "python",
   "pygments_lexer": "ipython3",
   "version": "3.9.12"
  }
 },
 "nbformat": 4,
 "nbformat_minor": 5
}
