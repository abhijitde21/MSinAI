{
 "cells": [
  {
   "cell_type": "markdown",
   "id": "a7a0f3a0",
   "metadata": {},
   "source": [
    "### Automation: Derivative\n",
    "NW TA"
   ]
  },
  {
   "cell_type": "code",
   "execution_count": 1,
   "id": "61c06298",
   "metadata": {},
   "outputs": [],
   "source": [
    "# Library\n",
    "\n",
    "import tkinter as tk\n",
    "from tkinter import ttk\n",
    "import pandas as pd\n",
    "import re\n",
    "from sympy import *\n",
    "from sympy.plotting import (plot, plot_parametric)\n",
    "x=symbols('x', real=True)"
   ]
  },
  {
   "cell_type": "code",
   "execution_count": 5,
   "id": "58112e5f",
   "metadata": {},
   "outputs": [],
   "source": [
    "# App window\n",
    "win = tk.Tk()\n",
    "win.title('Automation Derivative')  # Window Title\n",
    "\n",
    "win.mainloop()"
   ]
  },
  {
   "cell_type": "code",
   "execution_count": 5,
   "id": "76617c4c",
   "metadata": {},
   "outputs": [],
   "source": [
    "# App window\n",
    "win = tk.Tk()\n",
    "win.title('Automation - Derivative')  # Window Title\n",
    "\n",
    "\n",
    "# Step 1: Derivative 1\n",
    "\n",
    "Name=ttk.Label(win,text=\"Enter the equation\")\n",
    "Name.grid(row=0,column=0,sticky=tk.W)\n",
    "\n",
    "Name_var=tk.StringVar()\n",
    "Name_entrybox=ttk.Entry(win,width=30,textvariable=Name_var)\n",
    "Name_entrybox.grid(row=0,column=1)\n",
    "\n",
    "win.mainloop()"
   ]
  },
  {
   "cell_type": "code",
   "execution_count": 2,
   "id": "1f5fe93d",
   "metadata": {},
   "outputs": [],
   "source": [
    "# App window\n",
    "win = tk.Tk()\n",
    "win.title('Automation - Derivative')  # Window Title\n",
    "\n",
    "\n",
    "# Step 1: Derivative 1\n",
    "\n",
    "Name=ttk.Label(win,text=\"Enter the equation\")\n",
    "Name.grid(row=0,column=0,sticky=tk.W)\n",
    "\n",
    "Name_var=tk.StringVar()\n",
    "Name_entrybox=ttk.Entry(win,width=16,textvariable=Name_var)\n",
    "Name_entrybox.grid(row=0,column=1)\n",
    "\n",
    "\n",
    "def D1():\n",
    "    global DF1\n",
    "    user=Name_var.get()\n",
    "    DF1=diff(user)\n",
    "    Confirm_entrybox=ttk.Entry(win,width=30)\n",
    "    Confirm_entrybox.grid(row=1,column=2)\n",
    "    Confirm_entrybox.insert(1,str(DF1))   \n",
    "\n",
    "Import_Data_Button=ttk.Button(win,text=\"Derivative 1\",command=D1)\n",
    "Import_Data_Button.grid(row=1,column=1)\n",
    "\n",
    "\n",
    "win.mainloop()\n"
   ]
  },
  {
   "cell_type": "code",
   "execution_count": 17,
   "id": "767283e5",
   "metadata": {},
   "outputs": [
    {
     "data": {
      "text/latex": [
       "$\\displaystyle 3 x^{2} - 2 x e^{x^{2}} + 2 x + \\frac{2}{x}$"
      ],
      "text/plain": [
       "3*x**2 - 2*x*exp(x**2) + 2*x + 2/x"
      ]
     },
     "execution_count": 17,
     "metadata": {},
     "output_type": "execute_result"
    }
   ],
   "source": [
    "diff(x**2 + x**3 + log(x**2) - exp(x**2))"
   ]
  },
  {
   "cell_type": "code",
   "execution_count": null,
   "id": "1b5539ad",
   "metadata": {},
   "outputs": [],
   "source": []
  },
  {
   "cell_type": "code",
   "execution_count": null,
   "id": "8af7c0ca",
   "metadata": {},
   "outputs": [],
   "source": []
  },
  {
   "cell_type": "code",
   "execution_count": null,
   "id": "b53d8cd3",
   "metadata": {},
   "outputs": [],
   "source": []
  }
 ],
 "metadata": {
  "kernelspec": {
   "display_name": "Python 3 (ipykernel)",
   "language": "python",
   "name": "python3"
  },
  "language_info": {
   "codemirror_mode": {
    "name": "ipython",
    "version": 3
   },
   "file_extension": ".py",
   "mimetype": "text/x-python",
   "name": "python",
   "nbconvert_exporter": "python",
   "pygments_lexer": "ipython3",
   "version": "3.9.12"
  },
  "vscode": {
   "interpreter": {
    "hash": "1bcaa234541af14269647e78a58ff1e2c97283aefba8e8df69f3d751152a4c75"
   }
  }
 },
 "nbformat": 4,
 "nbformat_minor": 5
}
