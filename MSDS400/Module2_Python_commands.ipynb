{
 "cells": [
  {
   "cell_type": "markdown",
   "id": "ec76a14c",
   "metadata": {},
   "source": [
    "![alt text](GL_Logo.png \"Title\")"
   ]
  },
  {
   "cell_type": "markdown",
   "id": "f17a9462",
   "metadata": {},
   "source": [
    "# Math for Data Science (400)\n",
    "## TA Session 1 - Week 2   ||   Date - 01 July 2022\n",
    "### Gowtham S\n"
   ]
  },
  {
   "cell_type": "code",
   "execution_count": 21,
   "id": "57e1b8d7",
   "metadata": {},
   "outputs": [],
   "source": [
    "import numpy as np\n",
    "from numpy.linalg import linalg, inv"
   ]
  },
  {
   "cell_type": "markdown",
   "id": "e8100945",
   "metadata": {},
   "source": [
    "# Conversion of array to matrix\n"
   ]
  },
  {
   "cell_type": "code",
   "execution_count": 22,
   "id": "7d673db2",
   "metadata": {},
   "outputs": [
    {
     "name": "stdout",
     "output_type": "stream",
     "text": [
      "([1, 2, 3], [3, 4, 5], [6, 7, 8])\n",
      "[[1 2 3]\n",
      " [3 4 5]\n",
      " [6 7 8]]\n"
     ]
    }
   ],
   "source": [
    "a= ([1, 2, 3], [3, 4, 5], [6,7,8])\n",
    "mat = np.matrix(a)\n",
    "print(a)\n",
    "print(mat)"
   ]
  },
  {
   "cell_type": "markdown",
   "id": "10c948ea",
   "metadata": {},
   "source": [
    "# Matrix Determinant\n",
    "\n",
    "It is given by numpy.linalg.det() "
   ]
  },
  {
   "cell_type": "code",
   "execution_count": 29,
   "id": "943c902f",
   "metadata": {},
   "outputs": [],
   "source": [
    "def mat_det(a):\n",
    "    array = np.array(a)\n",
    "    det = np.linalg.det(array)\n",
    "    return det "
   ]
  },
  {
   "cell_type": "code",
   "execution_count": 32,
   "id": "16baadce",
   "metadata": {},
   "outputs": [],
   "source": [
    "a = [[50, 29], [30, 44]]"
   ]
  },
  {
   "cell_type": "code",
   "execution_count": 33,
   "id": "5937e9f6",
   "metadata": {},
   "outputs": [
    {
     "name": "stdout",
     "output_type": "stream",
     "text": [
      "1330.0000000000002\n"
     ]
    }
   ],
   "source": [
    "print(mat_det(a))"
   ]
  },
  {
   "cell_type": "markdown",
   "id": "e1f07f92",
   "metadata": {},
   "source": [
    "# Inverse of Matrix\n",
    "It is given by numpy.linalg.inv(a)"
   ]
  },
  {
   "cell_type": "code",
   "execution_count": 45,
   "id": "5e82c8f3",
   "metadata": {},
   "outputs": [],
   "source": [
    "def mat_inv(a):\n",
    "    array = np.array(a)\n",
    "    det = np.linalg.inv(array)\n",
    "    return det "
   ]
  },
  {
   "cell_type": "code",
   "execution_count": 48,
   "id": "6be289ed",
   "metadata": {},
   "outputs": [],
   "source": [
    "a = [[1,2,3], [4,1,0], [0,0,1]]"
   ]
  },
  {
   "cell_type": "code",
   "execution_count": 49,
   "id": "9798b81a",
   "metadata": {},
   "outputs": [
    {
     "name": "stdout",
     "output_type": "stream",
     "text": [
      "[[-0.14285714  0.28571429  0.42857143]\n",
      " [ 0.57142857 -0.14285714 -1.71428571]\n",
      " [ 0.          0.          1.        ]]\n"
     ]
    }
   ],
   "source": [
    "print(mat_inv(a))"
   ]
  },
  {
   "cell_type": "markdown",
   "id": "2e2dc906",
   "metadata": {},
   "source": [
    "# Solving of Linear eqns in Matrix form\n",
    "It is given by linalg.solve(lhs, rhs)"
   ]
  },
  {
   "cell_type": "code",
   "execution_count": 14,
   "id": "393b3174",
   "metadata": {},
   "outputs": [],
   "source": [
    "def linr_eqn(lhs,rhs):\n",
    "    #a = np.array(lhs)\n",
    "    #b = np.array(rhs)\n",
    "    var = linalg.solve(lhs, rhs)\n",
    "    return(var)"
   ]
  },
  {
   "cell_type": "code",
   "execution_count": 15,
   "id": "4c4e846f",
   "metadata": {},
   "outputs": [],
   "source": [
    "lhs = [[3, 4, 6], [2, 0, 5], [1, -8, 4]]\n",
    "rhs = [[45], [-20], [35]]"
   ]
  },
  {
   "cell_type": "code",
   "execution_count": 16,
   "id": "f5f9a814",
   "metadata": {},
   "outputs": [
    {
     "name": "stdout",
     "output_type": "stream",
     "text": [
      "[[ 315.]\n",
      " [ -30.]\n",
      " [-130.]]\n"
     ]
    }
   ],
   "source": [
    "print(linr_eqn(lhs,rhs))"
   ]
  },
  {
   "cell_type": "markdown",
   "id": "91058f1a",
   "metadata": {},
   "source": [
    "# Matrix multiplication\n",
    "It is given by np.dot(a, b)"
   ]
  },
  {
   "cell_type": "code",
   "execution_count": 10,
   "id": "d400675e",
   "metadata": {},
   "outputs": [],
   "source": [
    "def mat_mul(a,b):\n",
    "    mul = np.dot(a, b)\n",
    "    return (mul)"
   ]
  },
  {
   "cell_type": "code",
   "execution_count": 11,
   "id": "3f21e3e2",
   "metadata": {},
   "outputs": [
    {
     "name": "stdout",
     "output_type": "stream",
     "text": [
      "[[265]\n",
      " [265]\n",
      " [345]]\n"
     ]
    }
   ],
   "source": [
    "print(mat_mul(lhs, rhs))"
   ]
  },
  {
   "cell_type": "markdown",
   "id": "fe821a03",
   "metadata": {},
   "source": [
    "# For all other Matrix operations refer\n",
    "https://www.guru99.com/python-matrix.html"
   ]
  },
  {
   "cell_type": "markdown",
   "id": "03d2c1f7",
   "metadata": {},
   "source": [
    "# Solving linear eqns"
   ]
  },
  {
   "cell_type": "code",
   "execution_count": 17,
   "id": "0f6d59ba",
   "metadata": {},
   "outputs": [
    {
     "name": "stdout",
     "output_type": "stream",
     "text": [
      "-3355/53\n",
      "-1535/106\n",
      "-405/53\n"
     ]
    }
   ],
   "source": [
    "import sympy as sym\n",
    "# Use sympy package to display the equation\n",
    "sym.init_printing()\n",
    "#sym.solve()\n",
    "x,y,z = sym.symbols('x,y,z')\n",
    "\n",
    "solns = sym.solve([\n",
    "    1*x + 2*y - 16*z - 30, \n",
    "    3*x - 4*y - 14*z + 25,\n",
    "    2*x - 10*y + 5*z + 20],\n",
    "    [x, y, z])\n",
    "print(f\"{solns[x]}\")\n",
    "print(f\"{solns[y]}\")\n",
    "print(f\"{solns[z]}\")"
   ]
  },
  {
   "cell_type": "markdown",
   "id": "92657f4f",
   "metadata": {},
   "source": [
    "# Cramer Rule"
   ]
  },
  {
   "cell_type": "code",
   "execution_count": 34,
   "id": "3b37839c",
   "metadata": {},
   "outputs": [],
   "source": [
    "lhs = [[1, 2, 5], [9, 5, 10], [17, 8, 2]]\n",
    "rhs = [1, 2, 3]\n",
    "a= [[1, 2, 3], [3, 4, 5], [6,7,8]]"
   ]
  },
  {
   "cell_type": "code",
   "execution_count": 42,
   "id": "0e1a98ee",
   "metadata": {},
   "outputs": [],
   "source": [
    "def cramer(lhs, rhs):\n",
    "\n",
    "    # calculating the determinant for the above matrix\n",
    "\n",
    "    d = np.linalg.det(lhs)\n",
    "    print(d)\n",
    "    var1 = [[rhs[0], rhs[1], rhs[2]], \n",
    "            [lhs[1][0], lhs[1][1], lhs[1][2]],\n",
    "            [lhs[2][0], lhs[2][1], lhs[2][2]]]\n",
    "    print(var1)\n",
    "    var2 = [[lhs[0][0], lhs[0][1], lhs[0][2]], \n",
    "            [rhs[0], rhs[1], rhs[2]],\n",
    "            [lhs[2][0], lhs[2][1], lhs[2][2]]]\n",
    "    print(var2)\n",
    "    var3 = [[lhs[0][0], lhs[0][1], lhs[0][2]], \n",
    "            [lhs[1][0], lhs[1][1], lhs[1][2]],\n",
    "            [rhs[0], rhs[1], rhs[2]]]\n",
    "    print(var3)\n",
    "\n",
    "    d1 = np.linalg.det(var1)\n",
    "    print(d1)\n",
    "    d2 = np.linalg.det(var2)\n",
    "    print(d2)\n",
    "    d3 = np.linalg.det(var3)\n",
    "    print(d3)\n",
    "\n",
    "    # Case 1: When d!=0\n",
    "    if d != 0:\n",
    "        x = d1 / d\n",
    "        y = d2 / d\n",
    "        z = d3 / d\n",
    "\n",
    "        print('x:', x, 'y:', y, 'z:', z)\n",
    "\n",
    "    # Case 2: When d=0\n",
    "    else:\n",
    "        if (d1 != 0 or d2 != 0 or d3 !=0):\n",
    "            print('No Solution')\n",
    "\n",
    "        elif (d1 == 0 and d2 == 0 and d3 ==0):\n",
    "            print('Infinetly Many Solutions')\n",
    "\n",
    "\n",
    "    "
   ]
  },
  {
   "cell_type": "code",
   "execution_count": 43,
   "id": "886e24fc",
   "metadata": {},
   "outputs": [
    {
     "name": "stdout",
     "output_type": "stream",
     "text": [
      "-3.7007434154172e-17\n",
      "[[1, 2, 3], [3, 4, 5], [6, 7, 8]]\n",
      "[[1, 2, 3], [1, 2, 3], [6, 7, 8]]\n",
      "[[1, 2, 3], [3, 4, 5], [1, 2, 3]]\n",
      "-3.7007434154172e-17\n",
      "0.0\n",
      "0.0\n",
      "x: 1.0 y: -0.0 z: -0.0\n"
     ]
    }
   ],
   "source": [
    "cramer(a, rhs)"
   ]
  },
  {
   "cell_type": "code",
   "execution_count": null,
   "id": "c5a89fe3",
   "metadata": {},
   "outputs": [],
   "source": []
  }
 ],
 "metadata": {
  "kernelspec": {
   "display_name": "Python 3 (ipykernel)",
   "language": "python",
   "name": "python3"
  },
  "language_info": {
   "codemirror_mode": {
    "name": "ipython",
    "version": 3
   },
   "file_extension": ".py",
   "mimetype": "text/x-python",
   "name": "python",
   "nbconvert_exporter": "python",
   "pygments_lexer": "ipython3",
   "version": "3.9.12"
  },
  "vscode": {
   "interpreter": {
    "hash": "1bcaa234541af14269647e78a58ff1e2c97283aefba8e8df69f3d751152a4c75"
   }
  }
 },
 "nbformat": 4,
 "nbformat_minor": 5
}
