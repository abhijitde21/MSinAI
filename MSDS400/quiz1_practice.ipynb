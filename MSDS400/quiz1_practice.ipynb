{
 "cells": [
  {
   "cell_type": "code",
   "execution_count": 7,
   "id": "9204842c",
   "metadata": {},
   "outputs": [
    {
     "name": "stdout",
     "output_type": "stream",
     "text": [
      "Average Rate of Change =  0.68\n",
      "Vertical Intercept =  340.0\n",
      "Linear function Eq(y, 0.68*x + 340.0)\n",
      "Gustavo will be paid if he sells 450 frozen bananas 646.0\n",
      "the number of frozen bananas sold if Gustavo's pay is $727.60 570\n"
     ]
    }
   ],
   "source": [
    "from scipy import stats\n",
    "import sympy as sym\n",
    "\n",
    "#problem a\n",
    "x = [10,50,100,500,1000,5000]\n",
    "y = [346.8,374,408,680,1020,3740]\n",
    "\n",
    "slope, intercept, r_value, p_value, std_err = stats.linregress(x,y)\n",
    "\n",
    "print(\"Average Rate of Change = \", round(slope, 2))\n",
    "print(\"Vertical Intercept = \", round(intercept, 2))\n",
    "\n",
    "\n",
    "#problem b\n",
    "sym.init_printing()\n",
    "x,y = sym.symbols('x,y')\n",
    "f = sym.Eq(y,round(slope,2)*x+round(intercept,2))\n",
    "print(\"Linear function\",f)\n",
    "\n",
    "predict_450 = 450 * slope + intercept\n",
    "print(\"Gustavo will be paid if he sells 450 frozen bananas\", round(predict_450, 2))\n",
    "\n",
    "\n",
    "predict_n = 727.6\n",
    "n = (predict_n - intercept)/slope\n",
    "print(\"the number of frozen bananas sold if Gustavo's pay is $727.60\", round(n))\n",
    "\n"
   ]
  },
  {
   "cell_type": "code",
   "execution_count": 11,
   "id": "8f2e1d56",
   "metadata": {},
   "outputs": [
    {
     "data": {
      "image/png": "[encoded data removed]",
      "text/latex": [
       "$\\displaystyle 596$"
      ],
      "text/plain": [
       "596"
      ]
     },
     "execution_count": 11,
     "metadata": {},
     "output_type": "execute_result"
    }
   ],
   "source": [
    "int(596.07)"
   ]
  },
  {
   "cell_type": "code",
   "execution_count": 22,
   "id": "06f24ad3",
   "metadata": {},
   "outputs": [
    {
     "name": "stdout",
     "output_type": "stream",
     "text": [
      "Linear function Eq(y, 29.86*x + 11.5)\n",
      "Predicted increase in miles driven per hour =  29.86\n",
      "Predicted number of miles driven at the beginning =  11.5\n",
      "correlation coefficient =  0.9885\n",
      "Hours worked and miles driven have a strong positive correlation\n",
      "the driver would have traveled distance in miles after 10 hours =  310.1\n"
     ]
    }
   ],
   "source": [
    "from scipy import stats\n",
    "import sympy as sym\n",
    "\n",
    "\n",
    "x = [0,1,2,3,4,5,6,7]\n",
    "y = [0,42,88,109,121,150,203,215]\n",
    "\n",
    "slope, intercept, r_value, p_value, std_err = stats.linregress(x,y)\n",
    "\n",
    "#problem a\n",
    "sym.init_printing()\n",
    "x,y = sym.symbols('x,y')\n",
    "f = sym.Eq(y,round(slope,2)*x+round(intercept,2))\n",
    "print(\"Linear function\",f)\n",
    "\n",
    "#problem b\n",
    "print(\"Predicted increase in miles driven per hour = \", round(slope, 2))\n",
    "print(\"Predicted number of miles driven at the beginning = \", round(intercept, 2))\n",
    "\n",
    "#problem c\n",
    "print(\"correlation coefficient = \",round(r_value,4))\n",
    "print(\"Hours worked and miles driven have a strong positive correlation\")\n",
    "\n",
    "#problem d\n",
    "\n",
    "predict_10 = 10 * round(slope,2) + round(intercept,2)\n",
    "print(\"the driver would have traveled distance in miles after 10 hours = \", round(predict_10, 2))\n",
    "\n"
   ]
  },
  {
   "cell_type": "code",
   "execution_count": 27,
   "id": "8a8a1b63",
   "metadata": {},
   "outputs": [
    {
     "name": "stdout",
     "output_type": "stream",
     "text": [
      "36\n",
      "61\n",
      "86\n"
     ]
    }
   ],
   "source": [
    "import sympy as sym\n",
    "\n",
    "x,y,z = sym.symbols('x,y,z')\n",
    "\n",
    "solns = sym.solve([\n",
    "    1*x + 1*y + 1*z - 183, \n",
    "    14*x + 19*y + 24*z - 3727,\n",
    "    13*x + 20*y + 36*z - 4784],\n",
    "    [x, y, z])\n",
    "\n",
    "print(f'{round(solns[x])}')\n",
    "print(f'{round(solns[y])}')\n",
    "print(f'{round(solns[z])}')"
   ]
  },
  {
   "cell_type": "code",
   "execution_count": 33,
   "id": "82e08d98",
   "metadata": {},
   "outputs": [
    {
     "name": "stdout",
     "output_type": "stream",
     "text": [
      "183 3727 4784 1\n",
      "45\n",
      "44.99999999999997\n",
      "[[183, 1, 1], [3727, 19, 24], [4784, 20, 36]]\n",
      "[[1, 183, 1], [14, 3727, 24], [13, 4784, 36]]\n",
      "[[1, 1, 183], [14, 19, 3727], [13, 20, 4784]]\n",
      "1620\n",
      "2745\n",
      "3870\n",
      "x:  36 y:  61 z:  86\n",
      "None\n"
     ]
    }
   ],
   "source": [
    "import numpy as np\n",
    "from numpy.linalg import linalg, inv\n",
    "import sympy as sym\n",
    "sym.init_printing()\n",
    "\n",
    "def cramer(lhs,rhs):\n",
    "    d = round(np.linalg.det(lhs))\n",
    "    print(d)\n",
    "    m = [[lhs[0][0],lhs[0][1],lhs[0][2]],\n",
    "         [lhs[1][0],lhs[1][1],lhs[1][2]],\n",
    "         [lhs[2][0],lhs[2][1],lhs[2][2]]]\n",
    "    print(np.linalg.det(m))\n",
    "    \n",
    "    m1 = [[rhs[0],lhs[0][1],lhs[0][2]],\n",
    "          [rhs[1],lhs[1][1],lhs[1][2]],\n",
    "          [rhs[2],lhs[2][1],lhs[2][2]]] \n",
    "    print(m1)\n",
    "          \n",
    "    m2 = [[lhs[0][0],rhs[0],lhs[0][2]],\n",
    "          [lhs[1][0],rhs[1],lhs[1][2]],\n",
    "          [lhs[2][0],rhs[2],lhs[2][2]]] \n",
    "    print(m2)\n",
    "          \n",
    "    m3 = [[lhs[0][0],lhs[0][1],rhs[0]],\n",
    "          [lhs[1][0],lhs[1][1],rhs[1]],\n",
    "          [lhs[2][0],lhs[2][1],rhs[2]]] \n",
    "    print(m3)\n",
    "\n",
    "    d1 = round(np.linalg.det(m1))\n",
    "    print(d1)\n",
    "    d2 = round(np.linalg.det(m2))\n",
    "    print(d2)\n",
    "    d3 = round(np.linalg.det(m3))\n",
    "    print(d3)\n",
    "           \n",
    "    if d!= 0:\n",
    "           x = d1/d\n",
    "           y = d2/d\n",
    "           z = d3/d\n",
    "           print('x: ',round(x),'y: ',round(y),'z: ',round(z))\n",
    "    else:\n",
    "        if (d1!=0 or d2!=0 or d3!=0):\n",
    "            print('no solution')\n",
    "        elif (d1==0 and d2==0 and d3==0):\n",
    "            print('infinite solution')\n",
    "           \n",
    "lhs = np.array([[1, 1, 1], [14, 19, 24], [13, 20, 36]])\n",
    "rhs = np.array([183, 3727, 4784])\n",
    "\n",
    "#lhs = np.array([[-4.0, -6.0, 5.0], [-2.0, 1.0, 6.0], [-5.0, 4.0, 3.0]])\n",
    "#rhs = np.array([3.0, 31.0, 22.0])\n",
    "\n",
    "print(rhs[0],rhs[1],rhs[2],lhs[0][1])\n",
    "           \n",
    "print(cramer(lhs,rhs))"
   ]
  },
  {
   "cell_type": "code",
   "execution_count": 30,
   "id": "6ceb9c9e",
   "metadata": {},
   "outputs": [
    {
     "name": "stdout",
     "output_type": "stream",
     "text": [
      "[[ 3. -1.  4.]\n",
      " [-2.  1. -2.]\n",
      " [ 0.  0.  1.]]\n"
     ]
    }
   ],
   "source": [
    "import numpy as np\n",
    "from numpy.linalg import linalg, inv\n",
    "\n",
    "a = [[1,1,-2],[2,3,-2],[0,0,1]]\n",
    "\n",
    "mat = np.array(a)\n",
    "mat_inv = np.linalg.inv(mat)\n",
    "\n",
    "print(mat_inv)"
   ]
  },
  {
   "cell_type": "code",
   "execution_count": null,
   "id": "f08d9eb4",
   "metadata": {},
   "outputs": [],
   "source": []
  }
 ],
 "metadata": {
  "kernelspec": {
   "display_name": "Python 3 (ipykernel)",
   "language": "python",
   "name": "python3"
  },
  "language_info": {
   "codemirror_mode": {
    "name": "ipython",
    "version": 3
   },
   "file_extension": ".py",
   "mimetype": "text/x-python",
   "name": "python",
   "nbconvert_exporter": "python",
   "pygments_lexer": "ipython3",
   "version": "3.9.12"
  }
 },
 "nbformat": 4,
 "nbformat_minor": 5
}
