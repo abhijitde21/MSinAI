{
 "cells": [
  {
   "cell_type": "markdown",
   "metadata": {},
   "source": [
    "# MSDS 400 Fundamental Theorem of Calculus"
   ]
  },
  {
   "cell_type": "code",
   "execution_count": 1,
   "metadata": {},
   "outputs": [],
   "source": [
    "import matplotlib.pyplot as plt\n",
    "import numpy as np\n",
    "\n",
    "# Sample function\n",
    "\n",
    "def f(x):\n",
    "    f = x * x - 4.0  # Students can supply a function at this point.\n",
    "    return f"
   ]
  },
  {
   "cell_type": "markdown",
   "metadata": {},
   "source": [
    "`integrate()` is a general numerical integration function. It requires an interval [a,b] and n = the number of subintervals used for integration. The code below uses the function, f, as defined f above.  "
   ]
  },
  {
   "cell_type": "code",
   "execution_count": 2,
   "metadata": {},
   "outputs": [],
   "source": [
    "def integrate(a, b, n):\n",
    "    total = 0.0\n",
    "    delta = (b - a) / n\n",
    "    for i in range(n):\n",
    "        total = total + delta * (f(a + delta * (i + 1)) + f(a + delta * i)) / 2\n",
    "    return total\n",
    "\n",
    "# This defines the parameters for integration.\n",
    "\n",
    "c = 4.0\n",
    "b = 2.0\n",
    "a = 0.0\n",
    "n = 100"
   ]
  },
  {
   "cell_type": "markdown",
   "metadata": {},
   "source": [
    "One area is negative and the other is positive.  We integrate them separately\n",
    "and combine their absolute values."
   ]
  },
  {
   "cell_type": "code",
   "execution_count": 3,
   "metadata": {},
   "outputs": [
    {
     "name": "stdout",
     "output_type": "stream",
     "text": [
      "Final Estimate of Area= 16.0\n"
     ]
    }
   ],
   "source": [
    "area1 = integrate(a, b, n)\n",
    "area2 = integrate(b, c, n)\n",
    "area = abs(area1) + np.abs(area2)\n",
    "\n",
    "print(\"Final Estimate of Area= {}\".format(area))"
   ]
  },
  {
   "cell_type": "markdown",
   "metadata": {},
   "source": [
    "The next section of code shows how to plot different colors by dividing the interval based on which area is negative.\n",
    "\n",
    "`fill_between()` requires an array for x and two functions for y between which the color is filled. In this case we use 0.0 for the x-axis and y. `alpha` controls the intensity of the color.\n",
    "\n",
    "This section sets up the dimensions of the plot and creates it. We have to consider both plots and find the min and max of y for plot limits."
   ]
  },
  {
   "cell_type": "code",
   "execution_count": 4,
   "metadata": {},
   "outputs": [
    {
     "data": {
      "image/png": "[encoded data removed]",
      "text/plain": [
       "<Figure size 432x288 with 1 Axes>"
      ]
     },
     "metadata": {
      "needs_background": "light"
     },
     "output_type": "display_data"
    }
   ],
   "source": [
    "x = np.arange(0.0, 2.1, 0.1)  # This defines the interval for the color red.\n",
    "y = f(x)\n",
    "\n",
    "x1 = np.arange(2.0, 4.1, 0.1)  # This defines the interval for the color blue.\n",
    "y1 = f(x1)\n",
    "\n",
    "plt.figure()\n",
    "plt.fill_between(x, 0, y, color='r', alpha=0.8)\n",
    "plt.fill_between(x1, 0.0, y1, color='b', alpha=0.8)\n",
    "\n",
    "ymin = min(min(y), min(y1))\n",
    "ymax = max(max(y), max(y1))\n",
    "plt.xlim(-0.5, 4.5)\n",
    "plt.ylim(ymin - 1.0, ymax + 1.0)\n",
    "\n",
    "plt.xlabel('x-axis')\n",
    "plt.ylabel('y-axis')\n",
    "plt.title('Plot Showing Color Coded Integration Areas')\n",
    "plt.show()"
   ]
  },
  {
   "cell_type": "markdown",
   "metadata": {},
   "source": [
    "This section of code shows how to plot different colors using a\n",
    "logical operator in the plotting statement.  The operator will\n",
    "control when each color is used."
   ]
  },
  {
   "cell_type": "code",
   "execution_count": 5,
   "metadata": {},
   "outputs": [
    {
     "data": {
      "image/png": "[encoded data removed]",
      "text/plain": [
       "<Figure size 432x288 with 1 Axes>"
      ]
     },
     "metadata": {
      "needs_background": "light"
     },
     "output_type": "display_data"
    }
   ],
   "source": [
    "plt.figure()  # This separates the two plots from each other.\n",
    "x = np.arange(0.0, 4.1, 0.1)  # This defines the interval for color filling.\n",
    "y = f(x)\n",
    "plt.plot(x, y, c='k')\n",
    "\n",
    "# This shows how to fill between the lines using an inequality.\n",
    "\n",
    "plt.fill_between(x, 0.0, y, where=y < 0.0, facecolor='y', interpolate=True)\n",
    "plt.fill_between(x, 0.0, y, where=y > 0.0, facecolor='g', interpolate=True)\n",
    "\n",
    "plt.xlim(-0.5, 4.5)\n",
    "plt.ylim(ymin - 1.0, ymax + 1.0)\n",
    "plt.xlabel('x-axis')\n",
    "plt.ylabel('y-axis')\n",
    "plt.title('Plot Showing Color Coded Integration Areas')\n",
    "plt.show()"
   ]
  },
  {
   "cell_type": "code",
   "execution_count": null,
   "metadata": {},
   "outputs": [],
   "source": []
  }
 ],
 "metadata": {
  "kernelspec": {
   "display_name": "Python 3 (ipykernel)",
   "language": "python",
   "name": "python3"
  },
  "language_info": {
   "codemirror_mode": {
    "name": "ipython",
    "version": 3
   },
   "file_extension": ".py",
   "mimetype": "text/x-python",
   "name": "python",
   "nbconvert_exporter": "python",
   "pygments_lexer": "ipython3",
   "version": "3.9.12"
  },
  "varInspector": {
   "cols": {
    "lenName": 16,
    "lenType": 16,
    "lenVar": 40
   },
   "kernels_config": {
    "python": {
     "delete_cmd_postfix": "",
     "delete_cmd_prefix": "del ",
     "library": "var_list.py",
     "varRefreshCmd": "print(var_dic_list())"
    },
    "r": {
     "delete_cmd_postfix": ") ",
     "delete_cmd_prefix": "rm(",
     "library": "var_list.r",
     "varRefreshCmd": "cat(var_dic_list()) "
    }
   },
   "types_to_exclude": [
    "module",
    "function",
    "builtin_function_or_method",
    "instance",
    "_Feature"
   ],
   "window_display": false
  }
 },
 "nbformat": 4,
 "nbformat_minor": 2
}
