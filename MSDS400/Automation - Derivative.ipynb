{
 "cells": [
  {
   "cell_type": "markdown",
   "metadata": {},
   "source": [
    "## Automation: Derivative\n",
    "\n",
    "NW TA "
   ]
  },
  {
   "cell_type": "code",
   "execution_count": 1,
   "metadata": {},
   "outputs": [],
   "source": [
    "# Library\n",
    "\n",
    "import tkinter as tk\n",
    "from tkinter import ttk\n",
    "import pandas as pd\n",
    "import re\n",
    "from sympy import *\n",
    "from sympy.plotting import (plot, plot_parametric)\n",
    "x=symbols('x', real=True)\n",
    "\n",
    "\n",
    "# App window\n",
    "win = tk.Tk()\n",
    "win.title('Automation - Derivative')  # Window Title\n",
    "\n",
    "# Step 1: Derivative 1\n",
    "\n",
    "Name=ttk.Label(win,text=\"Enter the quation\")\n",
    "Name.grid(row=0,column=0,sticky=tk.W)\n",
    "\n",
    "Name_var=tk.StringVar()\n",
    "Name_entrybox=ttk.Entry(win,width=16,textvariable=Name_var)\n",
    "Name_entrybox.grid(row=0,column=1)\n",
    "\n",
    "def D1():\n",
    "    global DF1\n",
    "    user=Name_var.get()\n",
    "    DF1=diff(user)\n",
    "    Confirm_entrybox=ttk.Entry(win,width=30)\n",
    "    Confirm_entrybox.grid(row=1,column=3)\n",
    "    Confirm_entrybox.insert(1,str(DF1))   \n",
    "\n",
    "Import_Data_Button=ttk.Button(win,text=\"Derivative 1\",command=D1)\n",
    "Import_Data_Button.grid(row=1,column=1)\n",
    "\n",
    "\n",
    "# Step 2: Derivative 2----\n",
    "\n",
    "def D2():\n",
    "    global DF2\n",
    "    DF2=diff(DF1)\n",
    "    Confirm_entrybox=ttk.Entry(win,width=30)\n",
    "    Confirm_entrybox.grid(row=2,column=3)\n",
    "    Confirm_entrybox.insert(1,str(DF2))   \n",
    "\n",
    "Import_Data_Button=ttk.Button(win,text=\"Derivative 2\",command=D2)\n",
    "Import_Data_Button.grid(row=2,column=1)\n",
    "\n",
    "# Step 3: Derivative 3----\n",
    "\n",
    "def D3():\n",
    "    global DF3\n",
    "    DF3=diff(DF2)\n",
    "    Confirm_entrybox=ttk.Entry(win,width=16)\n",
    "    Confirm_entrybox.grid(row=3,column=3)\n",
    "    Confirm_entrybox.insert(1,str(DF3))   \n",
    "\n",
    "Import_Data_Button=ttk.Button(win,text=\"Derivative 3\",command=D3)\n",
    "Import_Data_Button.grid(row=3,column=1)\n",
    "\n",
    "\n",
    "\n",
    "\n",
    "win.mainloop()"
   ]
  },
  {
   "cell_type": "code",
   "execution_count": null,
   "metadata": {},
   "outputs": [],
   "source": []
  }
 ],
 "metadata": {
  "kernelspec": {
   "display_name": "Python 3 (ipykernel)",
   "language": "python",
   "name": "python3"
  },
  "language_info": {
   "codemirror_mode": {
    "name": "ipython",
    "version": 3
   },
   "file_extension": ".py",
   "mimetype": "text/x-python",
   "name": "python",
   "nbconvert_exporter": "python",
   "pygments_lexer": "ipython3",
   "version": "3.9.12"
  },
  "vscode": {
   "interpreter": {
    "hash": "1bcaa234541af14269647e78a58ff1e2c97283aefba8e8df69f3d751152a4c75"
   }
  }
 },
 "nbformat": 4,
 "nbformat_minor": 4
}
