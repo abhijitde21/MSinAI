{
 "cells": [
  {
   "cell_type": "markdown",
   "metadata": {},
   "source": [
    "# MSDS 400 Solving LP Models Using Pulp or SciPy"
   ]
  },
  {
   "cell_type": "markdown",
   "metadata": {},
   "source": [
    "**Maximize** \n",
    "z = 10x1 + 15x2 + 10x3 + 5x4\n",
    "\n",
    "**Subject to:**<br>\n",
    "x1 + x2 + x3 + x4 ≤ 300<br>\n",
    "x1 + 2x2 + 3x3 + x4 ≤ 360<br>\n",
    "x1 ≥ 0, x2 ≥ 0, x3 ≥ 0, x4 ≥ 0\n"
   ]
  },
  {
   "cell_type": "markdown",
   "metadata": {},
   "source": [
    "**Solution:**  Maximum is 3300 when x1 = 240, x2 = 60, x3 = 0, x4 = 0"
   ]
  },
  {
   "cell_type": "markdown",
   "metadata": {},
   "source": [
    "#### Python Code:\n",
    "** Note: ** *The optimize.linprog function minimizes the target function as a default. If the problem is a maximization one, convert it to minimize −f(x)*\n"
   ]
  },
  {
   "cell_type": "code",
   "execution_count": 3,
   "metadata": {},
   "outputs": [
    {
     "name": "stdout",
     "output_type": "stream",
     "text": [
      "Scipy Optimize Optimal value: -3300.0 \n",
      " x1, x2, x3, x4 : [240.  60.   0.   0.]\n",
      "\n",
      "\n"
     ]
    }
   ],
   "source": [
    "# Solution using linprog from Scipy.optimize\n",
    "# https://docs.scipy.org/doc/scipy-0.15.1/reference/generated/scipy.optimize.linprog.html\n",
    "\n",
    "from scipy.optimize import linprog\n",
    "\n",
    "# coefficients of objective function\n",
    "z = [-10, -15, -10, -5] \n",
    "\n",
    "# coefficients of the left-hand side of the inequalities\n",
    "lhs = [[1, 1, 1, 1], [1, 2, 3, 1]]\n",
    "\n",
    "# coefficients of the right-hand side of the inequalities\n",
    "rhs = [300, 360]\n",
    "\n",
    "# set the bounds for the variables\n",
    "x1_bounds = (0, None)\n",
    "x2_bounds = (0, None)\n",
    "x3_bounds = (0, None)\n",
    "x4_bounds = (0, None)\n",
    "\n",
    "method='simplex'\n",
    "\n",
    "res = linprog(c=z, A_ub=lhs, b_ub=rhs,  bounds=(x1_bounds,x2_bounds, x3_bounds, x4_bounds),method='simplex')\n",
    "\n",
    "# See scipy documentation for additional details about scipy.optimize.OptimizeResult \n",
    "# https://docs.scipy.org/doc/scipy-0.15.1/reference/generated/scipy.optimize.linprog.html\n",
    "\n",
    "# Print optimal values of x1, x2, x3 and x4 \n",
    "print('Scipy Optimize Optimal value:', res.fun, '\\n x1, x2, x3, x4 :', res.x)\n",
    "print('\\n')"
   ]
  },
  {
   "cell_type": "markdown",
   "metadata": {},
   "source": [
    "### Alternative Solution using Pulp Python package\n",
    "#### Note: The use of pulp to solve maximization/minimization problems is optional.\n",
    "#### ** Instructions for installing pulp package **\n",
    "##### http://pythonhosted.org/PuLP/main/installing_pulp_at_home.html\n",
    "\n"
   ]
  },
  {
   "cell_type": "code",
   "execution_count": 4,
   "metadata": {},
   "outputs": [
    {
     "name": "stdout",
     "output_type": "stream",
     "text": [
      "Requirement already satisfied: pulp in /Users/gowthamswaminathan/opt/anaconda3/lib/python3.7/site-packages (2.6.0)\n"
     ]
    }
   ],
   "source": [
    "!pip3 install pulp"
   ]
  },
  {
   "cell_type": "markdown",
   "metadata": {},
   "source": [
    "**Maximize** \n",
    "z = 10x1 + 15x2 + 10x3 + 5x4\n",
    "\n",
    "**Subject to:**<br>\n",
    "x1 + x2 + x3 + x4 ≤ 300<br>\n",
    "x1 + 2x2 + 3x3 + x4 ≤ 360<br>\n",
    "x1 ≥ 0, x2 ≥ 0, x3 ≥ 0, x4 ≥ 0"
   ]
  },
  {
   "cell_type": "code",
   "execution_count": 12,
   "metadata": {},
   "outputs": [
    {
     "name": "stdout",
     "output_type": "stream",
     "text": [
      "Welcome to the CBC MILP Solver \n",
      "Version: 2.10.3 \n",
      "Build Date: Dec 15 2019 \n",
      "\n",
      "command line - /Users/gowthamswaminathan/opt/anaconda3/lib/python3.7/site-packages/pulp/apis/../solverdir/cbc/osx/64/cbc /var/folders/5j/q_jkl25x1pzdgl1dlpfst42w0000gn/T/7760d30b224c4899a266fcfd3d9f7c4e-pulp.mps max timeMode elapsed branch printingOptions all solution /var/folders/5j/q_jkl25x1pzdgl1dlpfst42w0000gn/T/7760d30b224c4899a266fcfd3d9f7c4e-pulp.sol (default strategy 1)\n",
      "At line 2 NAME          MODEL\n",
      "At line 3 ROWS\n",
      "At line 7 COLUMNS\n",
      "At line 20 RHS\n",
      "At line 23 BOUNDS\n",
      "At line 24 ENDATA\n",
      "Problem MODEL has 2 rows, 4 columns and 8 elements\n",
      "Coin0008I MODEL read with 0 errors\n",
      "Option for timeMode changed from cpu to elapsed\n",
      "Presolve 2 (0) rows, 3 (-1) columns and 6 (-2) elements\n",
      "0  Obj -0 Dual inf 34.999997 (3)\n",
      "3  Obj 3300\n",
      "Optimal - objective value 3300\n",
      "After Postsolve, objective 3300, infeasibilities - dual 0 (0), primal 0 (0)\n",
      "Optimal objective 3300 - 3 iterations time 0.002, Presolve 0.00\n",
      "Option for printingOptions changed from normal to all\n",
      "Total time (CPU seconds):       0.00   (Wallclock seconds):       0.02\n",
      "\n",
      "Pulp Solution for x1, x2, x3 and x4\n",
      "240.0\n",
      "60.0\n",
      "0.0\n",
      "0.0\n",
      "Objective fun - Maximize: 3300.0\n"
     ]
    },
    {
     "data": {
      "text/plain": [
       "'Optimal'"
      ]
     },
     "execution_count": 12,
     "metadata": {},
     "output_type": "execute_result"
    }
   ],
   "source": [
    "from pulp import LpVariable, LpProblem, LpMaximize, LpStatus, value, LpMinimize\n",
    "\n",
    "# declare your variables\n",
    "x1 = LpVariable(\"x1\", 0, None) # x1>=0\n",
    "x2 = LpVariable(\"x2\", 0, None) # x2>=0\n",
    "x3 = LpVariable(\"x3\", 0, None) # x3>=0\n",
    "x4 = LpVariable(\"x4\", 0, None) # x4>=0\n",
    "\n",
    "\n",
    "# defines the problem\n",
    "prob = LpProblem(\"problem\", LpMaximize)\n",
    "\n",
    "# defines the constraints\n",
    "prob += x1 + x2 + x3 + x4 <= 300\n",
    "prob += x1 + 2*x2 + 3*x3 +x4 <= 360\n",
    "\n",
    "# defines the objective function to maximize\n",
    "prob += 10*x1 + 15*x2+ 10*x3 + 5*x4\n",
    "\n",
    "# solve the problem\n",
    "status = prob.solve()\n",
    "LpStatus[status]\n",
    "\n",
    "# print the results\n",
    "print(\"Pulp Solution for x1, x2, x3 and x4\")\n",
    "print(value(x1))\n",
    "print(value(x2))\n",
    "print(value(x3))\n",
    "print(value(x4))\n",
    "print('Objective fun - Maximize:', (10*(value(x1)) + 15*(value(x2)) + 10*(value(x3)) + 5*(value(x4))))\n",
    "LpStatus[status]"
   ]
  },
  {
   "cell_type": "markdown",
   "metadata": {},
   "source": [
    "#### Example 2: \n",
    "**Minimize** \n",
    "w = 22y1 + 44y2 + 33y3\n",
    "\n",
    "**Subject to:**<br>\n",
    "y1 + 2y2 + y3 ≥ 3<br> \n",
    "y1 + y3 ≥ 3<br> \n",
    "3y1 + 2y2 + 2y3 ≥ 8<br>\n",
    "y1 ≥ 0, y2 ≥ 0, y3 ≥ 0"
   ]
  },
  {
   "cell_type": "code",
   "execution_count": 11,
   "metadata": {},
   "outputs": [
    {
     "name": "stdout",
     "output_type": "stream",
     "text": [
      "\n",
      "\n",
      "Scipy Optimize Optimal value: 66.0000000001722 \n",
      " y1, y2, y3: [3.00000000e+00 7.54227017e-12 5.00572597e-12]\n",
      "\n",
      "\n"
     ]
    }
   ],
   "source": [
    "from scipy.optimize import linprog\n",
    "\n",
    "w = [22, 44, 33] \n",
    "lhs = [[-1, -2, -1], [-1, 0,-1],[-3, -2, -2]]\n",
    "rhs = [-3, -3, -8]\n",
    "y1_bounds = (0, None)\n",
    "y2_bounds = (0, None)\n",
    "y3_bounds = (0, None)\n",
    "\n",
    "res = linprog(c=w, A_ub=lhs, b_ub=rhs, \n",
    "bounds=(y1_bounds,y2_bounds, y3_bounds))\n",
    "print('\\n')\n",
    "print('Scipy Optimize Optimal value:', res.fun, '\\n y1, y2, y3:', res.x)\n",
    "print('\\n')"
   ]
  },
  {
   "cell_type": "markdown",
   "metadata": {},
   "source": [
    "### Alternative Solution using Pulp Python package\n",
    "#### Note: The use of pulp to solve maximization/minimization problems is optional."
   ]
  },
  {
   "cell_type": "code",
   "execution_count": 15,
   "metadata": {},
   "outputs": [
    {
     "name": "stdout",
     "output_type": "stream",
     "text": [
      "Pulp Solutions for y1, y2, and y3\n",
      "3.0\n",
      "0.0\n",
      "0.0\n"
     ]
    }
   ],
   "source": [
    "from pulp import LpVariable, LpProblem, LpMaximize, LpStatus, value, LpMinimize\n",
    "\n",
    "# declare your variables\n",
    "y1 = LpVariable(\"y1\", 0, None) # y1>=0\n",
    "y2 = LpVariable(\"y2\", 0, None) # y2>=0\n",
    "y3 = LpVariable(\"y3\", 0, None) # y3>=0\n",
    "# defines the problem\n",
    "prob = LpProblem(\"problem\", LpMinimize)\n",
    "# defines the constraints\n",
    "prob += y1 + 2*y2 + y3 >= 3\n",
    "prob += y1 + y3 >= 3\n",
    "prob += 3*y1 + 2*y2 + 2*y3 >= 8\n",
    "\n",
    "# defines the objective function to maximize\n",
    "prob += 22*y1 + 44*y2+ 33*y3\n",
    "# solve the problem\n",
    "status = prob.solve()\n",
    "LpStatus[status]\n",
    "# print the results\n",
    "print(\"Pulp Solutions for y1, y2, and y3\")\n",
    "print(value(y1))\n",
    "print(value(y2))\n",
    "print(value(y3))\n"
   ]
  }
 ],
 "metadata": {
  "kernelspec": {
   "display_name": "Python 3 (ipykernel)",
   "language": "python",
   "name": "python3"
  },
  "language_info": {
   "codemirror_mode": {
    "name": "ipython",
    "version": 3
   },
   "file_extension": ".py",
   "mimetype": "text/x-python",
   "name": "python",
   "nbconvert_exporter": "python",
   "pygments_lexer": "ipython3",
   "version": "3.9.12"
  },
  "varInspector": {
   "cols": {
    "lenName": 16,
    "lenType": 16,
    "lenVar": 40
   },
   "kernels_config": {
    "python": {
     "delete_cmd_postfix": "",
     "delete_cmd_prefix": "del ",
     "library": "var_list.py",
     "varRefreshCmd": "print(var_dic_list())"
    },
    "r": {
     "delete_cmd_postfix": ") ",
     "delete_cmd_prefix": "rm(",
     "library": "var_list.r",
     "varRefreshCmd": "cat(var_dic_list()) "
    }
   },
   "types_to_exclude": [
    "module",
    "function",
    "builtin_function_or_method",
    "instance",
    "_Feature"
   ],
   "window_display": false
  },
  "vscode": {
   "interpreter": {
    "hash": "1bcaa234541af14269647e78a58ff1e2c97283aefba8e8df69f3d751152a4c75"
   }
  }
 },
 "nbformat": 4,
 "nbformat_minor": 1
}
