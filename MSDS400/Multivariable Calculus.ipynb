{
 "cells": [
  {
   "cell_type": "markdown",
   "metadata": {},
   "source": [
    "# Multivariate Calculus\n",
    "## Functions of two variables\n",
    "Solving for two variables will be very similar to how we solved things in the previous week. Instead of a single variable however we will be using multiple. Suppose we have the following equation:\n",
    "\n",
    "f(x, y) = 4x^2 - 9xy +6y^3\n",
    "\n",
    "Let us find partial derivitives for x and y individually. It is incredibly easy with sympy as we saw last week."
   ]
  },
  {
   "cell_type": "code",
   "execution_count": 1,
   "metadata": {
    "tags": []
   },
   "outputs": [
    {
     "name": "stdout",
     "output_type": "stream",
     "text": [
      "Partial Derivitive of our equation with respect to x: 8*x - 9*y\n",
      "Partial Derivitive of our equation with respect to y: -9*x + 18*y**2\n",
      "Second derivitive fyy(x,y): 36*y\n",
      "Second derivitive fyx(x,y): -9\n"
     ]
    }
   ],
   "source": [
    "from sympy import symbols, Derivative, log\n",
    "from sympy import *\n",
    "\n",
    "x, y = symbols('x, y')\n",
    "f_x_y = 4 * x**2 - 9 * x * y + 6 * y**3\n",
    "\n",
    "partial_f_x = f_x_y.diff(x)  # Differentiate our equation with respect to x\n",
    "print(f\"Partial Derivitive of our equation with respect to x: {partial_f_x}\")\n",
    "\n",
    "partial_f_y = f_x_y.diff(y)  # Differentiate our equation with respect to y\n",
    "print(f\"Partial Derivitive of our equation with respect to y: {partial_f_y}\")\n",
    "\n",
    "# Second derivative\n",
    "partial_y_y = partial_f_y.diff(y) \n",
    "partial_y_x = partial_f_y.diff(x)\n",
    "\n",
    "print(f\"Second derivitive fyy(x,y): {partial_y_y}\")\n",
    "print(f\"Second derivitive fyx(x,y): {partial_y_x}\")"
   ]
  },
  {
   "cell_type": "code",
   "execution_count": 2,
   "metadata": {},
   "outputs": [
    {
     "name": "stdout",
     "output_type": "stream",
     "text": [
      "8*x - 9*y\n",
      "-9*x + 18*y**2\n",
      "36*y\n",
      "-9\n"
     ]
    }
   ],
   "source": [
    "# Another way to do partial derivative\n",
    "# partial derivative of x\n",
    "par_x = Derivative(f_x_y, x).doit()\n",
    "print(par_x)\n",
    "\n",
    "# partial derviative of y\n",
    "par_y = Derivative(f_x_y, y).doit()\n",
    "print(par_y)\n",
    "\n",
    "# Second derivative\n",
    "par_yy = Derivative(Derivative(f_x_y, y), y).doit()\n",
    "print(par_yy)\n",
    "\n",
    "par_yx = Derivative(Derivative(f_x_y, y), x).doit()\n",
    "print(par_yx)"
   ]
  },
  {
   "cell_type": "markdown",
   "metadata": {},
   "source": [
    "# Limits for Multivariable"
   ]
  },
  {
   "cell_type": "code",
   "execution_count": 3,
   "metadata": {},
   "outputs": [
    {
     "name": "stdout",
     "output_type": "stream",
     "text": [
      "nan\n"
     ]
    }
   ],
   "source": [
    "from sympy import *\n",
    "import math\n",
    "x, y = symbols('x y')\n",
    "exp = ln(1 + x**2 + y**2) / (x**2 + y**2 + y*x**3)\n",
    "# ***\n",
    "#res_exp = limit(exp, (x, y), 0)\n",
    "res_exp = exp.subs(x,0).subs(y,0)\n",
    "# ***\n",
    "print(res_exp)"
   ]
  },
  {
   "cell_type": "markdown",
   "metadata": {},
   "source": [
    "# Substituting the values in the equation"
   ]
  },
  {
   "cell_type": "code",
   "execution_count": 4,
   "metadata": {},
   "outputs": [
    {
     "name": "stdout",
     "output_type": "stream",
     "text": [
      "22\n"
     ]
    }
   ],
   "source": [
    "from sympy import symbols\n",
    "\n",
    "# declare the symbols\n",
    "x, y = symbols('x y')\n",
    "\n",
    "# define the expression\n",
    "f = 10*x + 5*y - 8\n",
    "\n",
    "# Find what will be the value for f(5,4)\n",
    "print(f.subs({x:5, y:-4}))"
   ]
  },
  {
   "cell_type": "markdown",
   "metadata": {},
   "source": [
    "## Finding Extrema\n",
    "We can also find extrema with multiple variables in the same way we found them last week: use sympy's solve or solveset to get our answer. Suppose we have the equation:\n",
    "\n",
    "f(x, y) = 6*x^2 + 6 * y^2 + 6 * x * y + 36 * x  - 5\n",
    "\n",
    "Let us find all critical points for this equation. We begin by getting the partials for x and y. This gives us a system of linear equations. We can use sympy's linsolve function to solve this system of equations for x and y values respectively. "
   ]
  },
  {
   "cell_type": "code",
   "execution_count": 5,
   "metadata": {
    "tags": []
   },
   "outputs": [
    {
     "name": "stdout",
     "output_type": "stream",
     "text": [
      "The x and y value for critical points are {(-4, 2)}\n"
     ]
    }
   ],
   "source": [
    "from sympy import symbols, S, linsolve\n",
    "\n",
    "x, y = symbols('x, y')\n",
    "\n",
    "f_x_y = 6*x**2 + 6*y**2 + 6*x*y + 36*x - 5\n",
    "partial_x = f_x_y.diff(x)\n",
    "partial_y = f_x_y.diff(y)\n",
    "\n",
    "results = linsolve([partial_x, partial_y], x, y)\n",
    "\n",
    "print(f\"The x and y value for critical points are {results}\")\n"
   ]
  },
  {
   "cell_type": "markdown",
   "metadata": {},
   "source": [
    "We now want to see if the critical point we've found is a relative maxima, minima, saddle point, or none of them. We do this by calculating the discriminant D. To help do this, let us create a helper function that implements the discremint formula and use it on our results of (-4, 2)"
   ]
  },
  {
   "cell_type": "code",
   "execution_count": 7,
   "metadata": {
    "tags": []
   },
   "outputs": [
    {
     "name": "stdout",
     "output_type": "stream",
     "text": [
      "f_x_x: 12\n",
      "lambda_x_x: <function _lambdifygenerated at 0x0000018904BDB9D0>\n",
      "The discriminant of our critical value is 108\n",
      "fxx_ab: 12\n",
      "fyy_ab: 12\n",
      "fxy_ab: 6\n",
      "This is a relative minima\n",
      "----------------------------------------------------------------------------------------------------\n"
     ]
    }
   ],
   "source": [
    "from sympy import lambdify, Abs\n",
    "\n",
    "def D(func, x_sym, y_sym, x_crit, y_crit):\n",
    "    # Calculate the discriminant for a given function\n",
    "    f_x_x = func.diff(x_sym, x_sym)\n",
    "    f_y_y = func.diff(y_sym, y_sym)\n",
    "    f_x_y = func.diff(x_sym, y_sym)\n",
    "    print('f_x_x:', f_x_x)\n",
    "\n",
    "    # Create callable functions for each of the derivitives we created\n",
    "    lambd_x_x = lambdify([x_sym, y_sym], f_x_x)\n",
    "    lambd_y_y = lambdify([x_sym, y_sym], f_y_y)\n",
    "    lambd_x_y = lambdify([x_sym, y_sym], f_x_y)\n",
    "    print('lambda_x_x:', lambd_x_x)\n",
    "\n",
    "    fxx_ab = lambd_x_x(x_crit, y_crit)\n",
    "    fyy_ab = lambd_y_y(x_crit, y_crit) \n",
    "    fxy_ab = lambd_x_y(x_crit, y_crit)\n",
    "    \n",
    "\n",
    "    d = fxx_ab * fyy_ab - Abs(fxy_ab)**2\n",
    "\n",
    "    print(f\"The discriminant of our critical value is {d}\")\n",
    "    print('fxx_ab:', fxx_ab)\n",
    "    print('fyy_ab:', fyy_ab)\n",
    "    print('fxy_ab:', fxy_ab)\n",
    "\n",
    "    if d < 0:\n",
    "        print(\"This is a saddle point\")\n",
    "    elif d > 0:\n",
    "        if fxx_ab < 0:\n",
    "            print(\"This is relative maxima\")\n",
    "        else:\n",
    "            print(\"This is a relative minima\")\n",
    "\n",
    "    print('-'*100)\n",
    "    \n",
    "\n",
    "# Call our new function and pass in the values\n",
    "D(f_x_y, x, y, -4, 2)"
   ]
  },
  {
   "cell_type": "markdown",
   "metadata": {},
   "source": [
    "Let us try another equation that has multiple points to test. We will use the nonlinsolve this time as the system of equations is nonlinear. You will notice that one of the solutions given includes non-real numbers. We use the is_real parameter to ignore that solution.\n",
    "\n",
    "f(x, y) = 9xy - x^3 - y^3 - 6"
   ]
  },
  {
   "cell_type": "code",
   "execution_count": 42,
   "metadata": {
    "tags": []
   },
   "outputs": [
    {
     "name": "stdout",
     "output_type": "stream",
     "text": [
      "The x and y value for critical points are {(0, 0), (3, 3), ((-3/2 - 3*sqrt(3)*I/2)**2/3, -3/2 - 3*sqrt(3)*I/2), ((-3/2 + 3*sqrt(3)*I/2)**2/3, -3/2 + 3*sqrt(3)*I/2)}\n",
      "result[0], result[1]: 0 0\n",
      "Analyzing critical point (0, 0)\n",
      "******************************\n",
      "f_x_x: -6*x\n",
      "lambda_x_x: <function _lambdifygenerated at 0x7fdaa4f3d4d0>\n",
      "The discriminant of our critical value is -81\n",
      "fxx_ab: 0\n",
      "fyy_ab: 0\n",
      "fxy_ab: 9\n",
      "This is a saddle point\n",
      "----------------------------------------------------------------------------------------------------\n",
      "result[0], result[1]: 3 3\n",
      "Analyzing critical point (3, 3)\n",
      "******************************\n",
      "f_x_x: -6*x\n",
      "lambda_x_x: <function _lambdifygenerated at 0x7fdaa4c91f80>\n",
      "The discriminant of our critical value is 243\n",
      "fxx_ab: -18\n",
      "fyy_ab: -18\n",
      "fxy_ab: 9\n",
      "This is relative maxima\n",
      "----------------------------------------------------------------------------------------------------\n",
      "result[0], result[1]: (-3/2 - 3*sqrt(3)*I/2)**2/3 -3/2 - 3*sqrt(3)*I/2\n",
      "result[0], result[1]: (-3/2 + 3*sqrt(3)*I/2)**2/3 -3/2 + 3*sqrt(3)*I/2\n"
     ]
    }
   ],
   "source": [
    "from sympy import symbols, S, nonlinsolve\n",
    "\n",
    "x, y = symbols('x, y', real=True)\n",
    "\n",
    "f_x_y = 9*x*y - x**3 - y**3 - 6\n",
    "partial_x = f_x_y.diff(x)\n",
    "partial_y = f_x_y.diff(y)\n",
    "\n",
    "# Get nonlinear solution and remove imaginary numbers\n",
    "results = nonlinsolve([partial_x, partial_y], [x, y])\n",
    "\n",
    "print(f\"The x and y value for critical points are {results}\")\n",
    "\n",
    "for result in list(results):\n",
    "    print('result[0], result[1]:', result[0], result[1])\n",
    "    if result[0].is_real and result[1].is_real:  # Ignore any solutions that are not real numbers\n",
    "        print(f\"Analyzing critical point {result}\")\n",
    "        print('*'*30)\n",
    "        D(f_x_y, x, y, result[0], result[1])  "
   ]
  },
  {
   "cell_type": "markdown",
   "metadata": {},
   "source": [
    "## Lagrange Multipliers\n",
    "When solving problems with greater dimensionality, it is helpful to use lagrange multipliers. In python we will create an extra symbol l to represent our new variable lambda. The rest of the process is similar to that above.\n",
    "\n",
    "Suppose we want to maximize the area of a rectangle x/y with the function f(x, y) = x *y\n",
    "\n",
    "This is constrained however by the function:\n",
    "\n",
    "g(x, y) = xy + 20y + 20x + 474000 = 500000\n",
    "\n",
    "We first set our constraint equal to zero, and then solve for x and y.\n"
   ]
  },
  {
   "cell_type": "code",
   "execution_count": 46,
   "metadata": {
    "tags": []
   },
   "outputs": [
    {
     "name": "stdout",
     "output_type": "stream",
     "text": [
      "results: {(-20 + 20*sqrt(66), -20 + 20*sqrt(66), 1 - sqrt(66)/66), (-20*sqrt(66) - 20, -20*sqrt(66) - 20, sqrt(66)/66 + 1)}\n",
      "----------------------------------------\n",
      "sol: (-20 + 20*sqrt(66), -20 + 20*sqrt(66), 1 - sqrt(66)/66)\n",
      "Max value of x is 142.480768092719\n",
      "Max value of y is 142.480768092719\n",
      "Max area is of (142.480768092719, 142.480768092719) is 20300.7692762912\n",
      "****************************************************************************************************\n",
      "sol: (-20*sqrt(66) - 20, -20*sqrt(66) - 20, sqrt(66)/66 + 1)\n",
      "Max value of x is -182.480768092719\n",
      "Max value of y is -182.480768092719\n",
      "Max area is of (-182.480768092719, -182.480768092719) is 33299.2307237088\n",
      "****************************************************************************************************\n"
     ]
    }
   ],
   "source": [
    "from sympy import symbols, nonlinsolve, nsimplify, expand, powsimp\n",
    "\n",
    "x, y, l = symbols('x, y, l', real=True)\n",
    "\n",
    "f_xy = x * y\n",
    "g_xy = x * y + 20 * y + 20 * x + 474000 - 500000  # Constraint is equal to zero when subtracting right side\n",
    "\n",
    "# Implement lagrange function and solve system\n",
    "f_xyl = f_xy - l *g_xy\n",
    "f_xyl_x = f_xyl.diff(x)\n",
    "f_xyl_y = f_xyl.diff(y)\n",
    "f_xyl_l = f_xyl.diff(l)\n",
    "\n",
    "results = nonlinsolve([\n",
    "    f_xyl_x,\n",
    "    f_xyl_y,\n",
    "    f_xyl_l,\n",
    "], [x, y, l])\n",
    "\n",
    "print('results:', results)\n",
    "print('-'*40)\n",
    "# Analyze each of the solutions\n",
    "for sol in list(results):\n",
    "    print('sol:', sol)\n",
    "    x_sol, y_sol, l_sol = sol\n",
    "\n",
    "    x_sol = x_sol.evalf()  # Evaluate the value so we're not getting sqrt equation\n",
    "    y_sol = y_sol.evalf()\n",
    "    print(f\"Max value of x is {x_sol}\")\n",
    "    print(f\"Max value of y is {y_sol}\")\n",
    "\n",
    "    print(f\"Max area is of ({x_sol}, {y_sol}) is {x_sol * y_sol}\")\n",
    "\n",
    "    print('*'*100)"
   ]
  },
  {
   "cell_type": "markdown",
   "metadata": {},
   "source": [
    "You can see that we were given two solutions for (x, y) that maximize the area  with the given constraint. The first solution of (142.5, 142.5) seems to have a lower max area than our second solution. The second solution however uses negative values for x and y which are not possible when calculating the area of a rectangle. "
   ]
  },
  {
   "cell_type": "code",
   "execution_count": null,
   "metadata": {},
   "outputs": [],
   "source": []
  },
  {
   "cell_type": "code",
   "execution_count": null,
   "metadata": {},
   "outputs": [],
   "source": []
  },
  {
   "cell_type": "code",
   "execution_count": null,
   "metadata": {},
   "outputs": [],
   "source": []
  },
  {
   "cell_type": "code",
   "execution_count": null,
   "metadata": {},
   "outputs": [],
   "source": []
  },
  {
   "cell_type": "code",
   "execution_count": 51,
   "metadata": {},
   "outputs": [
    {
     "name": "stdout",
     "output_type": "stream",
     "text": [
      "par_diff_t: 10*t**6*exp(10*t - 2) + 6*t**5*exp(10*t - 2)\n"
     ]
    }
   ],
   "source": [
    "x, y, t = symbols('x, y, t', real=True)\n",
    "x = t**6\n",
    "y = -1 + 5*t\n",
    "z = x * exp(2*y)\n",
    "#z = t**6 * exp(2*(-1+5*t))\n",
    "\n",
    "\n",
    "print('par_diff_t:', z.diff(t))\n"
   ]
  },
  {
   "cell_type": "code",
   "execution_count": null,
   "metadata": {},
   "outputs": [],
   "source": []
  }
 ],
 "metadata": {
  "kernelspec": {
   "display_name": "Python 3 (ipykernel)",
   "language": "python",
   "name": "python3"
  },
  "language_info": {
   "codemirror_mode": {
    "name": "ipython",
    "version": 3
   },
   "file_extension": ".py",
   "mimetype": "text/x-python",
   "name": "python",
   "nbconvert_exporter": "python",
   "pygments_lexer": "ipython3",
   "version": "3.9.12"
  },
  "vscode": {
   "interpreter": {
    "hash": "1bcaa234541af14269647e78a58ff1e2c97283aefba8e8df69f3d751152a4c75"
   }
  }
 },
 "nbformat": 4,
 "nbformat_minor": 4
}
