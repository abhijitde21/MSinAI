{
 "cells": [
  {
   "cell_type": "code",
   "execution_count": 3,
   "id": "afdff0c4",
   "metadata": {},
   "outputs": [
    {
     "name": "stdout",
     "output_type": "stream",
     "text": [
      "partial derivative with respect to x: 8*x - 9*y\n",
      "partial derivative with respect to y: -9*x + 18*y**2\n",
      "partial second derivative with respect to xx: 8\n",
      "partial second derivative with respect to yy: 36*y\n",
      "partial second derivative with respect to xy: -9\n"
     ]
    }
   ],
   "source": [
    "from sympy import *\n",
    "\n",
    "x, y = symbols('x, y')\n",
    "f_x_y = 4*x**2 - 9*x*y + 6*y**3\n",
    "\n",
    "partial_f_x = f_x_y.diff(x)\n",
    "print(f'partial derivative with respect to x: {partial_f_x}')\n",
    "partial_f_y = f_x_y.diff(y)\n",
    "print(f'partial derivative with respect to y: {partial_f_y}')\n",
    "\n",
    "partial_f_xx = partial_f_x.diff(x)\n",
    "print(f'partial second derivative with respect to xx: {partial_f_xx}')\n",
    "partial_f_yy = partial_f_y.diff(y)\n",
    "print(f'partial second derivative with respect to yy: {partial_f_yy}')\n",
    "partial_f_xy = partial_f_x.diff(y)\n",
    "print(f'partial second derivative with respect to xy: {partial_f_xy}')"
   ]
  },
  {
   "cell_type": "code",
   "execution_count": 4,
   "id": "0cda06ad",
   "metadata": {},
   "outputs": [
    {
     "name": "stdout",
     "output_type": "stream",
     "text": [
      "nan\n"
     ]
    }
   ],
   "source": [
    "from sympy import *\n",
    "import math\n",
    "x, y = symbols('x y')\n",
    "exp = ln(1 + x**2 + y**2) / (x**2 + y**2 + y*x**3)\n",
    "\n",
    "res_exp = exp.subs(x,0).subs(y,0)\n",
    "print(res_exp)"
   ]
  },
  {
   "cell_type": "code",
   "execution_count": 25,
   "id": "eafb19e6",
   "metadata": {},
   "outputs": [
    {
     "ename": "SyntaxError",
     "evalue": "cannot assign to function call (3231567962.py, line 9)",
     "output_type": "error",
     "traceback": [
      "\u001b[1;36m  Input \u001b[1;32mIn [25]\u001b[1;36m\u001b[0m\n\u001b[1;33m    list(results) = linsolve([partial_x, partial_y], x, y)\u001b[0m\n\u001b[1;37m    ^\u001b[0m\n\u001b[1;31mSyntaxError\u001b[0m\u001b[1;31m:\u001b[0m cannot assign to function call\n"
     ]
    }
   ],
   "source": [
    "from sympy import symbols, S, linsolve\n",
    "\n",
    "x, y = symbols('x, y')\n",
    "\n",
    "f_x_y = 6*x**2 + 6*y**2 + 6*x*y + 36*x - 5\n",
    "partial_x = f_x_y.diff(x)\n",
    "partial_y = f_x_y.diff(y)\n",
    "\n",
    "results = linsolve([partial_x, partial_y], x, y)\n",
    "print(f\"The x and y value for critical points are {results}\")"
   ]
  },
  {
   "cell_type": "code",
   "execution_count": 26,
   "id": "a74d45cf",
   "metadata": {},
   "outputs": [
    {
     "name": "stdout",
     "output_type": "stream",
     "text": [
      "partf_x_x: -6*x\n",
      "lambd_x_x: <function _lambdifygenerated at 0x000002BA6B4943A0>\n",
      "The discriminant of our critical value is -369\n",
      "fxx: 24\n",
      "fyy: -12\n",
      "fxy: 9\n",
      "This is a saddle point\n"
     ]
    }
   ],
   "source": [
    "from sympy import lambdify, Abs\n",
    "\n",
    "def D(func, x_sym, y_sym, x_crit, y_crit):\n",
    "    partf_x_x = func.diff(x_sym, x_sym)\n",
    "    partf_y_y = func.diff(y_sym, y_sym)\n",
    "    partf_x_y = func.diff(x_sym, y_sym)\n",
    "    print('partf_x_x:', partf_x_x)\n",
    "    \n",
    "    lambd_x_x = lambdify([x_sym, y_sym], partf_x_x)\n",
    "    lambd_y_y = lambdify([x_sym, y_sym], partf_y_y)\n",
    "    lambd_x_y = lambdify([x_sym, y_sym], partf_x_y)\n",
    "    print('lambd_x_x:', lambd_x_x)\n",
    "    \n",
    "    fxx = lambd_x_x(x_crit, y_crit)\n",
    "    fyy = lambd_y_y(x_crit, y_crit)\n",
    "    fxy = lambd_x_y(x_crit, y_crit)\n",
    "    \n",
    "    d = fxx*fyy - Abs(fxy)**2\n",
    "    \n",
    "    print(f\"The discriminant of our critical value is {d}\")\n",
    "    print('fxx:', fxx)\n",
    "    print('fyy:', fyy)\n",
    "    print('fxy:', fxy)\n",
    "    \n",
    "    if d < 0:\n",
    "        print(\"This is a saddle point\")\n",
    "    elif d > 0:\n",
    "        if fxx < 0:\n",
    "            print(\"This is relative maxima\")\n",
    "        else:\n",
    "            print(\"This is a relative minima\")\n",
    "    \n",
    "D(f_x_y, x, y, -4, 2)"
   ]
  },
  {
   "cell_type": "code",
   "execution_count": 23,
   "id": "0b0c0496",
   "metadata": {},
   "outputs": [
    {
     "name": "stdout",
     "output_type": "stream",
     "text": [
      "The x and y value for critical points are {(0, 0), (3, 3), ((-3/2 - 3*sqrt(3)*I/2)**2/3, -3/2 - 3*sqrt(3)*I/2), ((-3/2 + 3*sqrt(3)*I/2)**2/3, -3/2 + 3*sqrt(3)*I/2)}\n",
      "result[0], result[1]: 0 0\n",
      "Analyzing critical point (0, 0)\n",
      "partf_x_x: -6*x\n",
      "lambd_x_x: <function _lambdifygenerated at 0x000002BA6B49D310>\n",
      "The discriminant of our critical value is -81\n",
      "fxx: 0\n",
      "fyy: 0\n",
      "fxy: 9\n",
      "This is a saddle point\n",
      "result[0], result[1]: 3 3\n",
      "Analyzing critical point (3, 3)\n",
      "partf_x_x: -6*x\n",
      "lambd_x_x: <function _lambdifygenerated at 0x000002BA6B49FDC0>\n",
      "The discriminant of our critical value is 243\n",
      "fxx: -18\n",
      "fyy: -18\n",
      "fxy: 9\n",
      "This is relative maxima\n",
      "result[0], result[1]: (-3/2 - 3*sqrt(3)*I/2)**2/3 -3/2 - 3*sqrt(3)*I/2\n",
      "result[0], result[1]: (-3/2 + 3*sqrt(3)*I/2)**2/3 -3/2 + 3*sqrt(3)*I/2\n"
     ]
    }
   ],
   "source": [
    "from sympy import symbols, S, nonlinsolve\n",
    "\n",
    "x, y = symbols('x, y', real=True)\n",
    "\n",
    "f_x_y = 9*x*y - x**3 - y**3 - 6\n",
    "partial_x = f_x_y.diff(x)\n",
    "partial_y = f_x_y.diff(y)\n",
    "\n",
    "results = nonlinsolve([partial_x, partial_y], [x, y])\n",
    "\n",
    "print(f\"The x and y value for critical points are {results}\")\n",
    "\n",
    "for result in list(results):\n",
    "    print('result[0], result[1]:', result[0], result[1])\n",
    "    if result[0].is_real and result[1].is_real:\n",
    "        print(f\"Analyzing critical point {result}\")\n",
    "        D(f_x_y, x, y, result[0], result[1])"
   ]
  },
  {
   "cell_type": "code",
   "execution_count": 28,
   "id": "391f2f65",
   "metadata": {},
   "outputs": [
    {
     "name": "stdout",
     "output_type": "stream",
     "text": [
      "results: {(-20 + 20*sqrt(66), -20 + 20*sqrt(66), 1 - sqrt(66)/66), (-20*sqrt(66) - 20, -20*sqrt(66) - 20, sqrt(66)/66 + 1)}\n",
      "sol:  (-20 + 20*sqrt(66), -20 + 20*sqrt(66), 1 - sqrt(66)/66)\n",
      "Max value of x is 142.480768092719\n",
      "Max value of y is 142.480768092719\n",
      "Max area is of (142.480768092719, 142.480768092719) is 20300.7692762912\n",
      "sol:  (-20*sqrt(66) - 20, -20*sqrt(66) - 20, sqrt(66)/66 + 1)\n",
      "Max value of x is -182.480768092719\n",
      "Max value of y is -182.480768092719\n",
      "Max area is of (-182.480768092719, -182.480768092719) is 33299.2307237088\n"
     ]
    }
   ],
   "source": [
    "from sympy import symbols, nonlinsolve\n",
    "\n",
    "x, y, l = symbols('x, y, l', real = True)\n",
    "\n",
    "f_xy = x * y\n",
    "g_xy = x * y + 20 * y + 20 * x + 474000 - 500000\n",
    "\n",
    "f_xyl = f_xy - l *g_xy\n",
    "f_xyl_x = f_xyl.diff(x)\n",
    "f_xyl_y = f_xyl.diff(y)\n",
    "f_xyl_l = f_xyl.diff(l)\n",
    "\n",
    "results = nonlinsolve([f_xyl_x, f_xyl_y, f_xyl_l], [x, y, l])\n",
    "print('results:', results)\n",
    "\n",
    "for sol in list(results):\n",
    "    print('sol: ', sol)\n",
    "    x_sol, y_sol, l_sol = sol\n",
    "    x_sol = x_sol.evalf()\n",
    "    y_sol = y_sol.evalf()\n",
    "    print(f\"Max value of x is {x_sol}\")\n",
    "    print(f\"Max value of y is {y_sol}\")\n",
    "    print(f\"Max area is of ({x_sol}, {y_sol}) is {x_sol * y_sol}\")"
   ]
  },
  {
   "cell_type": "code",
   "execution_count": null,
   "id": "e2922697",
   "metadata": {},
   "outputs": [],
   "source": []
  }
 ],
 "metadata": {
  "kernelspec": {
   "display_name": "Python 3 (ipykernel)",
   "language": "python",
   "name": "python3"
  },
  "language_info": {
   "codemirror_mode": {
    "name": "ipython",
    "version": 3
   },
   "file_extension": ".py",
   "mimetype": "text/x-python",
   "name": "python",
   "nbconvert_exporter": "python",
   "pygments_lexer": "ipython3",
   "version": "3.9.12"
  }
 },
 "nbformat": 4,
 "nbformat_minor": 5
}
