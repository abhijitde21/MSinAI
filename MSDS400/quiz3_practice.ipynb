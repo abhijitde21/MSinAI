{
 "cells": [
  {
   "cell_type": "code",
   "execution_count": 11,
   "id": "d926a68b",
   "metadata": {},
   "outputs": [
    {
     "name": "stdout",
     "output_type": "stream",
     "text": [
      "-0.00021*x**2 + 0.0812*x - 1.6571\n",
      "[21.6160499957922, 365.050616670874]\n",
      "81.13\n",
      "79.53\n",
      "96.81\n"
     ]
    }
   ],
   "source": [
    "import numpy as np\n",
    "from sympy import *\n",
    "import matplotlib.pyplot as plt\n",
    "from numpy import poly1d, linspace\n",
    "\n",
    "%matplotlib inline\n",
    "\n",
    "x = Symbol('x')\n",
    "\n",
    "# - Suppose the eqn is f(x) = x**3 - 9*x**2 +15*x -7\n",
    "y = - 0.00007*x**3 + 0.0406*x**2 - 1.6571*x + 97.085\n",
    "\n",
    "# the first derivative\n",
    "yfirst = y.diff(x)\n",
    "print(yfirst)\n",
    "\n",
    "#critical points\n",
    "critical_points = solve(yfirst,x)\n",
    "print(critical_points)\n",
    "\n",
    "def y_value(x):\n",
    "    return - 0.00007*x**3 + 0.0406*x**2 - 1.6571*x + 97.085\n",
    "\n",
    "#as 15<x<44 we will not take x = 365.05, we only take x = 21.62\n",
    "print(round(y_value(15),2))\n",
    "print(round(y_value(21.62),2))\n",
    "print(round(y_value(44),2))"
   ]
  },
  {
   "cell_type": "code",
   "execution_count": 12,
   "id": "39e228dd",
   "metadata": {},
   "outputs": [
    {
     "name": "stdout",
     "output_type": "stream",
     "text": [
      "0.0357142857142856\n",
      "0.892857142857143\n",
      "0.500000000000000\n"
     ]
    }
   ],
   "source": [
    "import numpy as np\n",
    "import sympy as sym\n",
    "\n",
    "#probability density function in interval [0,7] \n",
    "def f(x):\n",
    "    return (7.5 - x)/28 \n",
    "\n",
    "x = sym.Symbol('x')\n",
    "\n",
    "#probability (p > 6) that the annual rainfall is greater than 6 inches per year\n",
    "int1 = sym.integrate(f(x),(x, 6, 7))\n",
    "print(int1)\n",
    "\n",
    "#probability (p < 5) that the annual rainfall is less than 5 inches per year\n",
    "int2 = sym.integrate(f(x),(x, 0, 5))\n",
    "print(int2)\n",
    "\n",
    "#probability (2 <= p <= 6) that the annual rainfall is between 2 and 6 inches per year\n",
    "int3 = sym.integrate(f(x),(x, 2, 6))\n",
    "print(int3)"
   ]
  },
  {
   "cell_type": "code",
   "execution_count": 14,
   "id": "b44f4583",
   "metadata": {},
   "outputs": [
    {
     "name": "stdout",
     "output_type": "stream",
     "text": [
      "The x and y value for critical points are {(8.0, 11.0)}\n",
      "result[0], result[1]: 8.00000000000000 11.0000000000000\n",
      "Analyzing critical point (8.0, 11.0)\n",
      "partf_x_x: 3.00000000000000\n",
      "lambd_x_x: <function _lambdifygenerated at 0x0000013766B33160>\n",
      "The discriminant of our critical value is 2.00000000000000\n",
      "fxx: 3.0\n",
      "fyy: 2\n",
      "fxy: -2\n",
      "This is a relative minima\n",
      "201.0\n"
     ]
    }
   ],
   "source": [
    "from sympy import symbols, S, nonlinsolve\n",
    "from sympy import lambdify, Abs\n",
    "\n",
    "def D(func, x_sym, y_sym, x_crit, y_crit):\n",
    "    partf_x_x = func.diff(x_sym, x_sym)\n",
    "    partf_y_y = func.diff(y_sym, y_sym)\n",
    "    partf_x_y = func.diff(x_sym, y_sym)\n",
    "    print('partf_x_x:', partf_x_x)\n",
    "    \n",
    "    lambd_x_x = lambdify([x_sym, y_sym], partf_x_x)\n",
    "    lambd_y_y = lambdify([x_sym, y_sym], partf_y_y)\n",
    "    lambd_x_y = lambdify([x_sym, y_sym], partf_x_y)\n",
    "    print('lambd_x_x:', lambd_x_x)\n",
    "    \n",
    "    fxx = lambd_x_x(x_crit, y_crit)\n",
    "    fyy = lambd_y_y(x_crit, y_crit)\n",
    "    fxy = lambd_x_y(x_crit, y_crit)\n",
    "    \n",
    "    d = fxx*fyy - Abs(fxy)**2\n",
    "    \n",
    "    print(f\"The discriminant of our critical value is {d}\")\n",
    "    print('fxx:', fxx)\n",
    "    print('fyy:', fyy)\n",
    "    print('fxy:', fxy)\n",
    "    \n",
    "    if d < 0:\n",
    "        print(\"This is a saddle point\")\n",
    "    elif d > 0:\n",
    "        if fxx < 0:\n",
    "            print(\"This is relative maxima\")\n",
    "        else:\n",
    "            print(\"This is a relative minima\")\n",
    "\n",
    "x, y = symbols('x, y', real=True)\n",
    "\n",
    "f_x_y = (3/2)*x**2 + y**2 - 2*x - 6*y -2*x*y + 242\n",
    "partial_x = f_x_y.diff(x)\n",
    "partial_y = f_x_y.diff(y)\n",
    "\n",
    "results = nonlinsolve([partial_x, partial_y], [x, y])\n",
    "\n",
    "print(f\"The x and y value for critical points are {results}\")\n",
    "\n",
    "for result in list(results):\n",
    "    print('result[0], result[1]:', result[0], result[1])\n",
    "    if result[0].is_real and result[1].is_real:\n",
    "        print(f\"Analyzing critical point {result}\")\n",
    "        D(f_x_y, x, y, result[0], result[1])\n",
    "        \n",
    "def f_x_y_value(x,y):\n",
    "    return (3/2)*x**2 + y**2 - 2*x - 6*y -2*x*y + 242\n",
    "\n",
    "print(f_x_y_value(8,11))"
   ]
  },
  {
   "cell_type": "code",
   "execution_count": null,
   "id": "67c19031",
   "metadata": {},
   "outputs": [],
   "source": []
  }
 ],
 "metadata": {
  "kernelspec": {
   "display_name": "Python 3 (ipykernel)",
   "language": "python",
   "name": "python3"
  },
  "language_info": {
   "codemirror_mode": {
    "name": "ipython",
    "version": 3
   },
   "file_extension": ".py",
   "mimetype": "text/x-python",
   "name": "python",
   "nbconvert_exporter": "python",
   "pygments_lexer": "ipython3",
   "version": "3.9.12"
  }
 },
 "nbformat": 4,
 "nbformat_minor": 5
}
