{
 "cells": [
  {
   "cell_type": "code",
   "execution_count": 2,
   "id": "f90ace14",
   "metadata": {},
   "outputs": [
    {
     "name": "stdout",
     "output_type": "stream",
     "text": [
      "Scipy Optimize Optimal value: -26.999999997135085 \n",
      " x1, x2: [2. 3.]\n",
      "\n",
      "\n"
     ]
    }
   ],
   "source": [
    "from scipy.optimize import linprog\n",
    "\n",
    "# coefficients of objective function\n",
    "z = [-6, -5] \n",
    "\n",
    "# coefficients of the left-hand side of the inequalities\n",
    "lhs = [[1, 1], [3, 2]]\n",
    "\n",
    "# coefficients of the right-hand side of the inequalities\n",
    "rhs = [5, 12]\n",
    "\n",
    "# set the bounds for the variables\n",
    "x1_bounds = (0, None)\n",
    "x2_bounds = (0, None)\n",
    "\n",
    "\n",
    "method='simplex'\n",
    "\n",
    "res = linprog(c=z, A_ub=lhs, b_ub=rhs,  bounds=(x1_bounds,x2_bounds))\n",
    "\n",
    "# Print optimal values of x1, x2, x3 and x4 \n",
    "print('Scipy Optimize Optimal value:', res.fun, '\\n x1, x2:', res.x)\n",
    "print('\\n')"
   ]
  },
  {
   "cell_type": "code",
   "execution_count": 4,
   "id": "525a47f6",
   "metadata": {
    "scrolled": true
   },
   "outputs": [
    {
     "name": "stdout",
     "output_type": "stream",
     "text": [
      "Solution for the Linear Programming maximize problem\n",
      "No of Development projects:  1\n",
      "No of Support projects:  2\n",
      "Maximum profit in Million Rupees:  24.710843699999998\n"
     ]
    }
   ],
   "source": [
    "# import pulp\n",
    "from pulp import LpVariable, LpProblem, LpMaximize, LpStatus, value, LpMinimize\n",
    "\n",
    "# declaration of variables\n",
    "x1 = LpVariable(\"x1\", 0, None) # x1>=0\n",
    "x2 = LpVariable(\"x2\", 0, None) # x2>=0\n",
    "\n",
    "# problem defination\n",
    "prob = LpProblem(\"problem\", LpMaximize)\n",
    "\n",
    "# constraints\n",
    "#prob += x1 + x2 <= 5\n",
    "#prob += 3*x1 + 2*x2 <= 12\n",
    "prob += 17*x1 + 13*x2 <= 47\n",
    "prob += 8*x1 + 11*x2 <= 32\n",
    "\n",
    "# declaration of objective function\n",
    "#prob += 6*x1 + 5*x2\n",
    "prob += 7*x1 + 8*x2\n",
    "\n",
    "# problem solution\n",
    "status = prob.solve()\n",
    "LpStatus[status]\n",
    "print(\"Solution for the Linear Programming maximize problem\")\n",
    "print('No of Development projects: ',int(value(x1)))\n",
    "print('No of Support projects: ',int(value(x2)))\n",
    "print('Maximum profit in Million Rupees: ',value(prob.objective))"
   ]
  },
  {
   "cell_type": "code",
   "execution_count": null,
   "id": "0c27ff00",
   "metadata": {},
   "outputs": [],
   "source": [
    "Maximize z = 10x1 + 15x2 + 10x3 + 5x4\n",
    "\n",
    "Subject to:\n",
    "x1 + x2 + x3 + x4 ≤ 300\n",
    "x1 + 2x2 + 3x3 + x4 ≤ 360\n",
    "x1 ≥ 0, x2 ≥ 0, x3 ≥ 0, x4 ≥ 0"
   ]
  },
  {
   "cell_type": "code",
   "execution_count": 9,
   "id": "44945c41",
   "metadata": {},
   "outputs": [
    {
     "name": "stdout",
     "output_type": "stream",
     "text": [
      "Scipy Optimize Optimal value: -3300.0 \n",
      " x1, x2, x3, x4 : [240.  60.   0.   0.]\n"
     ]
    }
   ],
   "source": [
    "from scipy.optimize import linprog\n",
    "\n",
    "z = [-10,-15,-10,-5]\n",
    "\n",
    "lhs = [[1,1,1,1],[1,2,3,1]]\n",
    "rhs = [300,360]\n",
    "\n",
    "x1_bounds = (0, None)\n",
    "x2_bounds = (0, None)\n",
    "x3_bounds = (0, None)\n",
    "x4_bounds = (0, None)\n",
    "\n",
    "method = 'simplex'\n",
    "\n",
    "res = linprog(c=z, A_ub=lhs, b_ub=rhs, bounds=(x1_bounds,x2_bounds,x3_bounds,x4_bounds), method='simplex')\n",
    "\n",
    "print('Scipy Optimize Optimal value:', res.fun, '\\n x1, x2, x3, x4 :', res.x)"
   ]
  },
  {
   "cell_type": "code",
   "execution_count": 13,
   "id": "e99bf96b",
   "metadata": {},
   "outputs": [
    {
     "name": "stdout",
     "output_type": "stream",
     "text": [
      "Pulp Solution for x1, x2, x3 and x4\n",
      "240.0\n",
      "60.0\n",
      "0.0\n",
      "0.0\n",
      "Objective fun - Maximize: 3300.0\n"
     ]
    },
    {
     "data": {
      "text/plain": [
       "'Optimal'"
      ]
     },
     "execution_count": 13,
     "metadata": {},
     "output_type": "execute_result"
    }
   ],
   "source": [
    "from pulp import LpVariable, LpProblem, LpMaximize, LpStatus, value, LpMinimize\n",
    "\n",
    "x1 = LpVariable(\"x1\", 0, None)\n",
    "x2 = LpVariable(\"x2\", 0, None)\n",
    "x3 = LpVariable(\"x3\", 0, None)\n",
    "x4 = LpVariable(\"x4\", 0, None)\n",
    "\n",
    "prob = LpProblem('problem', LpMaximize)\n",
    "\n",
    "prob += x1 + x2 + x3 + x4 <= 300\n",
    "prob += x1 + 2*x2 + 3*x3 + x4 <= 360\n",
    "\n",
    "prob += 10*x1 + 15*x2 + 10*x3 + 5*x4\n",
    "\n",
    "status = prob.solve()\n",
    "LpStatus[status]\n",
    "\n",
    "print(\"Pulp Solution for x1, x2, x3 and x4\")\n",
    "print(value(x1))\n",
    "print(value(x2))\n",
    "print(value(x3))\n",
    "print(value(x4))\n",
    "print('Objective fun - Maximize:', value(prob.objective))\n",
    "LpStatus[status]"
   ]
  },
  {
   "cell_type": "code",
   "execution_count": null,
   "id": "4859a0bc",
   "metadata": {},
   "outputs": [],
   "source": [
    "Minimize w = 22y1 + 44y2 + 33y3\n",
    "\n",
    "Subject to:\n",
    "y1 + 2y2 + y3 ≥ 3\n",
    "y1 + y3 ≥ 3\n",
    "3y1 + 2y2 + 2y3 ≥ 8\n",
    "y1 ≥ 0, y2 ≥ 0, y3 ≥ 0"
   ]
  },
  {
   "cell_type": "code",
   "execution_count": 17,
   "id": "4e820c81",
   "metadata": {},
   "outputs": [
    {
     "name": "stdout",
     "output_type": "stream",
     "text": [
      "Scipy Optimize Optimal value: 66.0 \n",
      " x1, x2, x3 : [3. 0. 0.]\n"
     ]
    }
   ],
   "source": [
    "from scipy.optimize import linprog\n",
    "\n",
    "w = [22, 44, 33]\n",
    "\n",
    "lhs = [[-1,-2,-1],[-1,0,-1],[-3,-2,-2]]\n",
    "rhs = [-3,-3,-8]\n",
    "\n",
    "x1_bounds = (0, None)\n",
    "x2_bounds = (0, None)\n",
    "x3_bounds = (0, None)\n",
    "\n",
    "method = 'simplex'\n",
    "\n",
    "res = linprog(c=w, A_ub=lhs, b_ub=rhs, bounds=(x1_bounds, x2_bounds, x3_bounds), method = 'simplex')\n",
    "\n",
    "print('Scipy Optimize Optimal value:', res.fun, '\\n x1, x2, x3 :', res.x)"
   ]
  },
  {
   "cell_type": "code",
   "execution_count": 20,
   "id": "15bc4bc9",
   "metadata": {},
   "outputs": [
    {
     "name": "stdout",
     "output_type": "stream",
     "text": [
      "Pulp Solution for y1, y2 and y3\n",
      "3.0\n",
      "0.0\n",
      "0.0\n",
      "Objective fun - Maximize: 66.0\n"
     ]
    },
    {
     "data": {
      "text/plain": [
       "'Optimal'"
      ]
     },
     "execution_count": 20,
     "metadata": {},
     "output_type": "execute_result"
    }
   ],
   "source": [
    "from pulp import LpVariable, LpProblem, LpMaximize, LpStatus, value, LpMinimize\n",
    "\n",
    "y1 = LpVariable(\"y1\", 0, None)\n",
    "y2 = LpVariable(\"y2\", 0, None)\n",
    "y3 = LpVariable(\"y3\", 0, None)\n",
    "\n",
    "prob = LpProblem('problem', LpMinimize)\n",
    "\n",
    "prob += y1 + 2*y2 + y3 >= 3\n",
    "prob += y1 + y3 >= 3\n",
    "prob += 3*y1 + 2*y2 + 2*y3 >= 8\n",
    "\n",
    "prob += 22*y1 + 44*y2 + 33*y3\n",
    "\n",
    "status = prob.solve()\n",
    "LpStatus[status]\n",
    "\n",
    "print(\"Pulp Solution for y1, y2 and y3\")\n",
    "print(value(y1))\n",
    "print(value(y2))\n",
    "print(value(y3))\n",
    "print('Objective fun - Maximize:', value(prob.objective))\n",
    "LpStatus[status]"
   ]
  },
  {
   "cell_type": "code",
   "execution_count": null,
   "id": "6c1d423c",
   "metadata": {},
   "outputs": [],
   "source": []
  }
 ],
 "metadata": {
  "kernelspec": {
   "display_name": "Python 3 (ipykernel)",
   "language": "python",
   "name": "python3"
  },
  "language_info": {
   "codemirror_mode": {
    "name": "ipython",
    "version": 3
   },
   "file_extension": ".py",
   "mimetype": "text/x-python",
   "name": "python",
   "nbconvert_exporter": "python",
   "pygments_lexer": "ipython3",
   "version": "3.9.12"
  }
 },
 "nbformat": 4,
 "nbformat_minor": 5
}
