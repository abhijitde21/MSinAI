{
 "cells": [
  {
   "cell_type": "markdown",
   "metadata": {},
   "source": [
    "<div class=\"alert alert-block alert-success\"><b>Problem:</b> Find the following limit: <br/>\n",
    "    \n",
    "$$\\lim_{x \\to 7} \\frac{2x^3 - 9x^2 - 7x + 35}{x-10}$$ \n",
    "    \n",
    "<br/>\n",
    "</div>\n"
   ]
  },
  {
   "cell_type": "code",
   "execution_count": 3,
   "metadata": {},
   "outputs": [
    {
     "name": "stdout",
     "output_type": "stream",
     "text": [
      "-721/3 + log(49)/3 + exp(49)/3\n"
     ]
    }
   ],
   "source": [
    "from sympy import Symbol, limit\n",
    "from sympy import *\n",
    "\n",
    "x = Symbol('x')\n",
    "#f_x = (2*x**3 - 9*x**2 - 7*x + 35) / (x-10)\n",
    "var = (2*x**3 - log(x**2) + 5*x - exp(x**2)) / (x-10)\n",
    "li = limit(var, x, 7)\n",
    "print(li)"
   ]
  },
  {
   "cell_type": "markdown",
   "metadata": {},
   "source": [
    "<div class=\"alert alert-block alert-success\"><b>Problem:</b> \n",
    "    \n",
    "An antibiotic is applied to a culture of bacteria. The number of bacteria cells remaining in the culture is given by $$ p(t)=10500/(5t^2+4) $$ \n",
    "    (t≥0 where t represents elapsed time in seconds.)\n",
    "    <br/>\n",
    "<br/>\n",
    "Determine the rate of change with respect to time: p'(t)=\n",
    "    \n",
    "Determine the rate of change at t=5 : cells per second. (Round your answer to 4 decimals as needed.)\n",
    "<br/>\n",
    "</div>"
   ]
  },
  {
   "cell_type": "code",
   "execution_count": 5,
   "metadata": {},
   "outputs": [
    {
     "data": {
      "text/latex": [
       "$\\displaystyle - \\frac{105000 t}{\\left(5 t^{2} + 4\\right)^{2}}$"
      ],
      "text/plain": [
       "-105000*t/(5*t**2 + 4)**2"
      ]
     },
     "metadata": {},
     "output_type": "display_data"
    },
    {
     "name": "stdout",
     "output_type": "stream",
     "text": [
      "The rate of change at t=5 is  -31.54858482062376\n"
     ]
    }
   ],
   "source": [
    "from sympy import Symbol, diff, lambdify\n",
    "from IPython.display import display\n",
    "\n",
    "t = Symbol('t')\n",
    "p = 10500/(5*t**2 + 4)\n",
    "der_f = p.diff(t)\n",
    "func_der_f = lambdify(t, der_f)\n",
    "\n",
    "\n",
    "display(der_f)\n",
    "\n",
    "print(\"The rate of change at t=5 is \",func_der_f(5))\n"
   ]
  },
  {
   "cell_type": "markdown",
   "metadata": {},
   "source": [
    "<div class=\"alert alert-block alert-success\"><b>Problem:</b> \n",
    "The depth (in feet) of water at a dock changes with the rise and fall of tides. The depth is modeled by the following function where t is the number of hours after midnight. \n",
    "<br/>\n",
    "    $$ D(t)=10 sin(π/3 t+5π/6)+3 $$ \n",
    "Find the rate at which the depth is changing at 2 p.m.  Round your answer to 4 decimal places.\n",
    "\n",
    "<br/>\n",
    "\n",
    "    \n",
    "</div>\n",
    "\n",
    "\n"
   ]
  },
  {
   "cell_type": "code",
   "execution_count": 7,
   "metadata": {},
   "outputs": [
    {
     "name": "stdout",
     "output_type": "stream",
     "text": [
      "Rate at which the depth is changing at 2 p.m =9.069\n"
     ]
    }
   ],
   "source": [
    "from sympy import symbols, diff, lambdify, log, sin, pi\n",
    "from IPython.display import display\n",
    "\n",
    "t = symbols('t')\n",
    "d = 10*(sin((pi/3)*t + (5*pi/6)))+3\n",
    "d_prime = d.diff(t)\n",
    "func_d_prime = lambdify(t,d_prime)\n",
    "# a)\n",
    "print(\"Rate at which the depth is changing at 2 p.m =\",round(func_d_prime(4),4),sep=\"\")\n",
    "# b)\n",
    "\n",
    "#print(\"Marginal Revenue when 175 Blazing Blue snowmobiles are produced =\", round(func_R_p(175),2))"
   ]
  },
  {
   "cell_type": "code",
   "execution_count": null,
   "metadata": {},
   "outputs": [],
   "source": []
  }
 ],
 "metadata": {
  "kernelspec": {
   "display_name": "Python 3 (ipykernel)",
   "language": "python",
   "name": "python3"
  },
  "language_info": {
   "codemirror_mode": {
    "name": "ipython",
    "version": 3
   },
   "file_extension": ".py",
   "mimetype": "text/x-python",
   "name": "python",
   "nbconvert_exporter": "python",
   "pygments_lexer": "ipython3",
   "version": "3.9.12"
  },
  "vscode": {
   "interpreter": {
    "hash": "1bcaa234541af14269647e78a58ff1e2c97283aefba8e8df69f3d751152a4c75"
   }
  }
 },
 "nbformat": 4,
 "nbformat_minor": 1
}
